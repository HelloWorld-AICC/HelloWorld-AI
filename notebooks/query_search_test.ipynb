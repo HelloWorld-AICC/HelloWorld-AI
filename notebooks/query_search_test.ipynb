{
 "cells": [
  {
   "cell_type": "code",
   "execution_count": 1,
   "id": "d9f9cf51",
   "metadata": {},
   "outputs": [],
   "source": [
    "import os, sys, builtins, logging\n",
    "\n",
    "# repo 루트 기준으로 utils 임포트 가능하도록 경로 추가\n",
    "sys.path.append(os.path.abspath(os.path.join(os.getcwd(), '..')))\n",
    "\n",
    "from utils.logging_setup import setup_logging\n",
    "\n",
    "# UTF-8 파일 핸들러로 로그 초기화 (logs/{timestamp}.log)\n",
    "# print를 직접 로거로 보낼 것이므로 redirect_prints는 False\n",
    "setup_logging(force=True, redirect_prints=False)\n",
    "\n",
    "# print를 로거로 보내되, 기존 콘솔 출력도 유지\n",
    "_original_print = builtins.print\n",
    "\n",
    "def print(*args, **kwargs):  # noqa: A001 (shadow builtins)\n",
    "    message = \" \".join(str(a) for a in args)\n",
    "    logging.info(message)\n",
    "    try:\n",
    "        _original_print(*args, **kwargs)\n",
    "    except Exception:\n",
    "        # 콘솔 출력 실패 시에도 로깅은 유지\n",
    "        pass"
   ]
  },
  {
   "cell_type": "markdown",
   "id": "404d5baf",
   "metadata": {},
   "source": [
    "# Hybrid Search Test (Query)\n",
    "\n",
    "\n"
   ]
  },
  {
   "cell_type": "markdown",
   "id": "19f5e901",
   "metadata": {},
   "source": [
    "## OpenAI & prompt 설정"
   ]
  },
  {
   "cell_type": "code",
   "execution_count": 3,
   "id": "9fa436a5",
   "metadata": {},
   "outputs": [
    {
     "data": {
      "text/plain": [
       "True"
      ]
     },
     "execution_count": 3,
     "metadata": {},
     "output_type": "execute_result"
    }
   ],
   "source": [
    "# OpenAI API 설정 및 라이브러리 import\n",
    "from openai import OpenAI\n",
    "import os, sys\n",
    "from typing import List, Dict\n",
    "import dotenv\n",
    "import sys\n",
    "\n",
    "# 프로젝트 루트 디렉토리를 Python 경로에 추가\n",
    "project_root = os.path.abspath(os.path.join(os.getcwd(), '..'))\n",
    "if project_root not in sys.path:\n",
    "    sys.path.append(project_root)\n",
    "\n",
    "\n",
    "dotenv.load_dotenv()"
   ]
  },
  {
   "cell_type": "code",
   "execution_count": 4,
   "id": "873f501a",
   "metadata": {},
   "outputs": [],
   "source": [
    "# openai 설정\n",
    "\n",
    "# API 키 설정 (환경변수에서 가져오기)\n",
    "client = OpenAI(\n",
    "    api_key=os.getenv(\"OPENAI_API_KEY\")  # 환경변수에 API 키를 설정해주세요\n",
    ")\n",
    "\n",
    "\n",
    "response_format = {\n",
    "    \"type\": \"json_schema\",          # JSON 스키마 강제 모드\n",
    "    \"json_schema\": {\n",
    "        \"name\": \"translate_result\",\n",
    "        \"schema\": {\n",
    "            \"type\": \"object\",\n",
    "            \"properties\": {\n",
    "                \"translated\": { \"type\": \"string\" },\n",
    "                \"mongo_query\": {\n",
    "                    \"type\": \"array\",\n",
    "                    \"minItems\": 1,\n",
    "                    # 각 stage는 자유형 객체로 허용(예: {\"$search\": {...}}, {\"$project\": {...}})\n",
    "                    \"items\": {\n",
    "                        \"type\": \"object\",\n",
    "                        \"additionalProperties\": True\n",
    "                    }\n",
    "                }\n",
    "            },\n",
    "            \"required\": [\"translated\", \"mongo_query\"],\n",
    "            \"additionalProperties\": False\n",
    "        }\n",
    "    },\n",
    "    # 스키마를 더 엄격히 따르게 함(모델이 스키마 밖 형식을 내보내지 않도록)\n",
    "    \"strict\": True\n",
    "}\n",
    "\n",
    "def chat(\n",
    "    messages: List[Dict[str, str]], \n",
    "    model: str = \"gpt-4o-mini\",\n",
    "    response_format: dict = None,\n",
    "    **kwargs\n",
    ") -> str:\n",
    "    \"\"\"\n",
    "    OpenAI GPT-4o-mini API를 사용하여 채팅 완성을 수행합니다.\n",
    "    \n",
    "    Args:\n",
    "        messages: 대화 메시지 리스트 [{\"role\": \"user\", \"content\": \"메시지\"}]\n",
    "        model: 사용할 모델명 (기본값: gpt-4o-mini)\n",
    "        **kwargs: OpenAI API 매개변수들\n",
    "            - temperature: 창의성 조절 (0.0-2.0, 기본값: 0.7)\n",
    "            - max_tokens: 최대 토큰 수 (기본값: 1000)\n",
    "            - top_p: 확률 임계값 (기본값: 0.95)\n",
    "            - frequency_penalty: 빈도 페널티 (기본값: 0.0)\n",
    "            - presence_penalty: 존재 페널티 (기본값: 0.0)\n",
    "            - stream: 스트리밍 여부 (기본값: False)\n",
    "            - 기타 OpenAI API가 지원하는 모든 매개변수\n",
    "        \n",
    "    Returns:\n",
    "        GPT 응답 텍스트\n",
    "    \"\"\"\n",
    "    # 기본값 설정\n",
    "    default_params = {\n",
    "        \"temperature\": 0.1,\n",
    "        \"max_tokens\": 2048,\n",
    "        \"top_p\": 0.95,\n",
    "        \"frequency_penalty\": 0.0,\n",
    "        \"presence_penalty\": 0.0\n",
    "    }\n",
    "    \n",
    "    # 기본값과 사용자 입력 병합\n",
    "    params = {**default_params, **kwargs}\n",
    "    \n",
    "    try:\n",
    "        response = client.chat.completions.create(\n",
    "            model=model,\n",
    "            messages=messages,\n",
    "            response_format=response_format,\n",
    "            **params\n",
    "        )\n",
    "        \n",
    "        return response.choices[0].message.content\n",
    "        \n",
    "    except Exception as e:\n",
    "        print(f\"API 호출 중 오류 발생: {e}\")\n",
    "        return None\n"
   ]
  },
  {
   "cell_type": "code",
   "execution_count": 5,
   "id": "2b2e483f",
   "metadata": {},
   "outputs": [
    {
     "name": "stdout",
     "output_type": "stream",
     "text": [
      "==================================================\n",
      "MongoDB 연결 테스트 시작\n",
      "==================================================\n",
      "🔗 MongoDB 클라이언트 연결 완료\n",
      "✅ MongoDB 연결 성공!\n",
      "📊 MongoDB 버전: 8.0.14\n",
      "📁 사용 가능한 데이터베이스: ['HelloWorld-AI', 'admin', 'local']\n",
      "🎯 현재 데이터베이스: HelloWorld-AI\n",
      "📋 컬렉션 목록: ['foreigner_legalQA_v2', 'foreigner_legal_test', 'foreigner_legalQA', 'foreigner_legalQA_v3']\n",
      "🎯 타겟 컬렉션: foreigner_legalQA_v3\n",
      "📈 문서 개수: 867\n",
      "💾 컬렉션 크기: 37,616,750 bytes (35.87 MB)\n",
      "📄 샘플 문서 키: ['_id', 'title', 'contents', 'url', 'Embedding']\n",
      "📄 샘플 문서 ID: 689b3a86ffd306c1cd3c0679\n",
      "🔍 인덱스 정보:\n",
      "   - _id_: SON([('_id', 1)])\n",
      "   - title_text: SON([('_fts', 'text'), ('_ftsx', 1)])\n",
      "==================================================\n",
      "✅ MongoDB 연결 테스트 완료!\n",
      "==================================================\n"
     ]
    }
   ],
   "source": [
    "# MongoDB 연결 테스트\n",
    "import json\n",
    "import os\n",
    "import pymongo\n",
    "from pymongo import MongoClient\n",
    "\n",
    "print(\"=\" * 50)\n",
    "print(\"MongoDB 연결 테스트 시작\")\n",
    "print(\"=\" * 50)\n",
    "\n",
    "# 설정 파일 로드\n",
    "with open('../configs/config.json', 'r', encoding='utf-8') as f:\n",
    "    config = json.load(f)\n",
    "\n",
    "# MongoDB 클라이언트 연결\n",
    "mongodb_client = MongoClient(os.getenv(\"MONGODB_URI\"))\n",
    "print(\"🔗 MongoDB 클라이언트 연결 완료\")\n",
    "\n",
    "try:\n",
    "    # 연결 상태 확인\n",
    "    mongodb_client.admin.command('ping')\n",
    "    print(\"✅ MongoDB 연결 성공!\")\n",
    "    \n",
    "    # 서버 정보 가져오기\n",
    "    server_info = mongodb_client.server_info()\n",
    "    print(f\"📊 MongoDB 버전: {server_info['version']}\")\n",
    "    \n",
    "    # 데이터베이스 목록 확인\n",
    "    db_list = mongodb_client.list_database_names()\n",
    "    print(f\"📁 사용 가능한 데이터베이스: {db_list}\")\n",
    "    \n",
    "    # 현재 데이터베이스 정보\n",
    "    current_db = mongodb_client[config['path']['db_name']]\n",
    "    print(f\"🎯 현재 데이터베이스: {config['path']['db_name']}\")\n",
    "    \n",
    "    # 컬렉션 목록 확인\n",
    "    collections = current_db.list_collection_names()\n",
    "    print(f\"📋 컬렉션 목록: {collections}\")\n",
    "    \n",
    "    # 타겟 컬렉션 확인\n",
    "    target_collection = current_db[config['path']['collection_name']]\n",
    "    print(f\"🎯 타겟 컬렉션: {config['path']['collection_name']}\")\n",
    "    \n",
    "    # 컬렉션 통계 정보\n",
    "    stats = current_db.command(\"collStats\", config['path']['collection_name'])\n",
    "    print(f\"📈 문서 개수: {stats['count']:,}\")\n",
    "    print(f\"💾 컬렉션 크기: {stats['size']:,} bytes ({stats['size']/1024/1024:.2f} MB)\")\n",
    "    \n",
    "    # 샘플 문서 확인\n",
    "    sample_doc = target_collection.find_one()\n",
    "    if sample_doc:\n",
    "        print(f\"📄 샘플 문서 키: {list(sample_doc.keys())}\")\n",
    "        print(f\"📄 샘플 문서 ID: {sample_doc.get('_id', 'N/A')}\")\n",
    "    else:\n",
    "        print(\"⚠️ 컬렉션에 문서가 없습니다.\")\n",
    "    \n",
    "    # 인덱스 정보 확인\n",
    "    indexes = target_collection.list_indexes()\n",
    "    print(f\"🔍 인덱스 정보:\")\n",
    "    for idx in indexes:\n",
    "        print(f\"   - {idx['name']}: {idx['key']}\")\n",
    "    \n",
    "    print(\"=\" * 50)\n",
    "    print(\"✅ MongoDB 연결 테스트 완료!\")\n",
    "    print(\"=\" * 50)\n",
    "    \n",
    "except pymongo.errors.ConnectionFailure as e:\n",
    "    print(f\"❌ MongoDB 연결 실패: {e}\")\n",
    "except pymongo.errors.ServerSelectionTimeoutError as e:\n",
    "    print(f\"❌ 서버 선택 타임아웃: {e}\")\n",
    "except Exception as e:\n",
    "    print(f\"❌ 예상치 못한 오류: {e}\")\n"
   ]
  },
  {
   "cell_type": "markdown",
   "id": "1e2a2830",
   "metadata": {},
   "source": [
    "## 번역 & 쿼리 추출 생성"
   ]
  },
  {
   "cell_type": "code",
   "execution_count": 6,
   "id": "8e9ea0ef",
   "metadata": {},
   "outputs": [
    {
     "name": "stdout",
     "output_type": "stream",
     "text": [
      "불러온 데이터 개수: 20\n",
      "\n",
      "데이터프레임 컬럼:\n",
      "['query', 'translated_query', '언어', 'ground_truth_id', 'category', 'source', '작성자', '비고', '소스']\n",
      "\n",
      "첫 3개 행:\n",
      "                                               query  \\\n",
      "0  제 여자친구가 단속으로 출입국 보호소에 있습니다. 월급이 아직 들어오지 않았는데, ...   \n",
      "1  안녕하세요, 건설 현장에서 일하고 있는 사람인데, 사장님이 월급을 안줘서 계좌가 압...   \n",
      "2  안녕하세요, 저는 필리핀에서 온 노동자입니다. 5년 동안 근무를 하고 이제 제 나라...   \n",
      "\n",
      "                                    translated_query            언어  \\\n",
      "0  แฟนของผมถูกจับกุมและอยู่ที่ศูนย์กักตัวตรวจคนเข...           태국어   \n",
      "1     你好，我是在建筑工地工作的，但老板没有发工资，我的账户可能会被查封。遇到这种情况该怎么办呢？           중국어   \n",
      "2  Magandang araw, ako ay isang manggagawang mula...  필리핀어 (타갈로그어)   \n",
      "\n",
      "                                     ground_truth_id category  \\\n",
      "0  ['689b3a86ffd306c1cd3c09a4', '689b3a86ffd306c1...     임금체불   \n",
      "1  ['689b3a86ffd306c1cd3c06e8', '689b3a86ffd306c1...     임금체불   \n",
      "2                       ['689b3a86ffd306c1cd3c09a4']     임금체불   \n",
      "\n",
      "            source  작성자                                       비고  \\\n",
      "0  경기도외국인지원센터_상담사례  황예원                                      NaN   \n",
      "1  경기도외국인지원센터_상담사례  황예원  임금체불 및 \"압류방지 통장\" (=임금채권 전용통장) 관련 데이터 필요   \n",
      "2  경기도외국인지원센터_상담사례  황예원                            체당금 관련 데이터 필요   \n",
      "\n",
      "                                                  소스  \n",
      "0  https://gmhr.or.kr/case/1529?sca=%EC%9E%84%EA%...  \n",
      "1  https://gmhr.or.kr/case/1493?sca=%EC%9E%84%EA%...  \n",
      "2  https://gmhr.or.kr/case/1667?sca=%EC%9E%84%EA%...  \n"
     ]
    }
   ],
   "source": [
    "# CSV 파일 불러오기 및 데이터프레임 생성\n",
    "import pandas as pd\n",
    "\n",
    "# CSV 파일 불러오기\n",
    "query_df = pd.read_csv('../data/helloworld_test_query.csv')\n",
    "print(f\"불러온 데이터 개수: {len(query_df)}\")\n",
    "print(\"\\n데이터프레임 컬럼:\")\n",
    "print(query_df.columns.tolist())\n",
    "print(\"\\n첫 3개 행:\")\n",
    "print(query_df.head(3))\n"
   ]
  },
  {
   "cell_type": "code",
   "execution_count": 7,
   "id": "499e9df1",
   "metadata": {},
   "outputs": [
    {
     "name": "stdout",
     "output_type": "stream",
     "text": [
      "번역 프롬프트 로드 완료\n"
     ]
    }
   ],
   "source": [
    "# 번역 프롬프트 가져오기\n",
    "from prompts.prompts import load_prompt\n",
    "\n",
    "translate_prompt = load_prompt(\"query_translate\")\n",
    "print(\"번역 프롬프트 로드 완료\")\n",
    "\n",
    "# 번역 함수 정의\n",
    "def translate_query(query_text):\n",
    "    \"\"\"번역 쿼리를 GPT-4o-mini로 번역하여 JSON 응답을 받는다\"\"\"\n",
    "    messages = [\n",
    "        {\"role\": \"system\", \"content\": translate_prompt},\n",
    "        {\"role\": \"user\", \"content\": query_text}\n",
    "    ]\n",
    "    \n",
    "    try:\n",
    "        response = chat(messages)\n",
    "        result = json.loads(response)\n",
    "        return result\n",
    "    except Exception as e:\n",
    "        print(f\"번역 오류: {e}\")\n",
    "        return None\n"
   ]
  },
  {
   "cell_type": "code",
   "execution_count": 8,
   "id": "96efdca6",
   "metadata": {},
   "outputs": [
    {
     "name": "stdout",
     "output_type": "stream",
     "text": [
      "총 20개의 쿼리를 처리합니다...\n"
     ]
    },
    {
     "name": "stderr",
     "output_type": "stream",
     "text": [
      "번역 진행:   0%|          | 0/20 [00:00<?, ?it/s]"
     ]
    },
    {
     "name": "stdout",
     "output_type": "stream",
     "text": [
      "[1/20] 완료: 제 여자친구가 체포되어 이민 구금 센터에 있습니다. 지금 급여를 받지 못하고 있는데, 태국...\n"
     ]
    },
    {
     "name": "stderr",
     "output_type": "stream",
     "text": [
      "번역 진행:   5%|▌         | 1/20 [00:07<02:14,  7.07s/it]"
     ]
    },
    {
     "name": "stdout",
     "output_type": "stream",
     "text": [
      "[2/20] 완료: 저는 건설 현장에서 일하고 있지만, 사장이 급여를 지급하지 않았습니다. 제 계좌가 압류될 ...\n"
     ]
    },
    {
     "name": "stderr",
     "output_type": "stream",
     "text": [
      "번역 진행:  10%|█         | 2/20 [00:14<02:09,  7.18s/it]"
     ]
    },
    {
     "name": "stdout",
     "output_type": "stream",
     "text": [
      "[3/20] 완료: 안녕하세요, 저는 필리핀에서 온 근로자입니다. 5년 동안 일했으며 이제 제 나라로 돌아가고...\n"
     ]
    },
    {
     "name": "stderr",
     "output_type": "stream",
     "text": [
      "번역 진행:  15%|█▌        | 3/20 [00:21<02:03,  7.25s/it]"
     ]
    },
    {
     "name": "stdout",
     "output_type": "stream",
     "text": [
      "[4/20] 완료: 제가 직장 변경을 신청한 후, 불법 체류자가 될 수 있다는 편지를 받았습니다. 8월 22일...\n"
     ]
    },
    {
     "name": "stderr",
     "output_type": "stream",
     "text": [
      "번역 진행:  20%|██        | 4/20 [00:30<02:03,  7.74s/it]"
     ]
    },
    {
     "name": "stdout",
     "output_type": "stream",
     "text": [
      "[5/20] 완료: 저는 중간에 퇴사했지만, 소득세 체납 때문에 비자를 연장할 수 없습니다. 관련 통지 내용을...\n"
     ]
    },
    {
     "name": "stderr",
     "output_type": "stream",
     "text": [
      "번역 진행:  25%|██▌       | 5/20 [00:38<01:59,  8.00s/it]"
     ]
    },
    {
     "name": "stdout",
     "output_type": "stream",
     "text": [
      "[6/20] 완료: 회사가 갑자기 더 이상 출근하지 말라고 해서, 제가 체류 자격을 잃을 수 있습니다. 어떻게...\n"
     ]
    },
    {
     "name": "stderr",
     "output_type": "stream",
     "text": [
      "번역 진행:  30%|███       | 6/20 [00:45<01:48,  7.77s/it]"
     ]
    },
    {
     "name": "stdout",
     "output_type": "stream",
     "text": [
      "[7/20] 완료: 저는 건설 산업에서 일하는 외국인 노동자입니다. 어떤 경우에 작업 중 사고로 간주되는지 알...\n"
     ]
    },
    {
     "name": "stderr",
     "output_type": "stream",
     "text": [
      "번역 진행:  35%|███▌      | 7/20 [00:52<01:36,  7.40s/it]"
     ]
    },
    {
     "name": "stdout",
     "output_type": "stream",
     "text": [
      "[8/20] 완료: 안녕하세요, 저는 베트남에 거주하는 교포입니다. 이번에 특별 노동 허가 제도를 통해 한국에...\n"
     ]
    },
    {
     "name": "stderr",
     "output_type": "stream",
     "text": [
      "번역 진행:  40%|████      | 8/20 [00:59<01:28,  7.38s/it]"
     ]
    },
    {
     "name": "stdout",
     "output_type": "stream",
     "text": [
      "[9/20] 완료: H-2 비자를 가지고 있는데, 현재 고용주를 떠나 다른 직장으로 옮길 수 있는지 궁금합니다...\n"
     ]
    },
    {
     "name": "stderr",
     "output_type": "stream",
     "text": [
      "번역 진행:  45%|████▌     | 9/20 [01:07<01:20,  7.34s/it]"
     ]
    },
    {
     "name": "stdout",
     "output_type": "stream",
     "text": [
      "[10/20] 완료: 고용주가 지속적으로 급여를 체불하고 있어 저는 직장을 옮기고 싶습니다....\n"
     ]
    },
    {
     "name": "stderr",
     "output_type": "stream",
     "text": [
      "번역 진행:  50%|█████     | 10/20 [01:15<01:16,  7.68s/it]"
     ]
    },
    {
     "name": "stdout",
     "output_type": "stream",
     "text": [
      "[11/20] 완료: 실업급여를 받고 있는 중에 조기 재취업을 하면 '조기 재취업 수당'을 받을 수 있다고 들었...\n"
     ]
    },
    {
     "name": "stderr",
     "output_type": "stream",
     "text": [
      "번역 진행:  55%|█████▌    | 11/20 [01:23<01:08,  7.61s/it]"
     ]
    },
    {
     "name": "stdout",
     "output_type": "stream",
     "text": [
      "[12/20] 완료: E9 비전 소지 비전문 외국인 노동자가 근무하는 사업장이 폐업하거나 임금 체불 등의 이유로...\n"
     ]
    },
    {
     "name": "stderr",
     "output_type": "stream",
     "text": [
      "번역 진행:  60%|██████    | 12/20 [01:29<00:58,  7.37s/it]"
     ]
    },
    {
     "name": "stdout",
     "output_type": "stream",
     "text": [
      "[13/20] 완료: 고용 계약이 종료된 후, 새로운 직장을 찾고 싶다면 언제까지 고용 센터에 신청서를 제출해야...\n"
     ]
    },
    {
     "name": "stderr",
     "output_type": "stream",
     "text": [
      "번역 진행:  65%|██████▌   | 13/20 [01:37<00:52,  7.49s/it]"
     ]
    },
    {
     "name": "stdout",
     "output_type": "stream",
     "text": [
      "[14/20] 완료: E-9 비자를 가진 외국인 노동자가 근무 조건이 노동 계약과 다르다고 주장할 경우, 이는 ...\n"
     ]
    },
    {
     "name": "stderr",
     "output_type": "stream",
     "text": [
      "번역 진행:  70%|███████   | 14/20 [01:44<00:44,  7.38s/it]"
     ]
    },
    {
     "name": "stdout",
     "output_type": "stream",
     "text": [
      "[15/20] 완료: 비자 만료 전에 연장을 신청하고 싶습니다. 어떤 기관에 가야 하며 온라인으로도 신청할 수 ...\n"
     ]
    },
    {
     "name": "stderr",
     "output_type": "stream",
     "text": [
      "번역 진행:  75%|███████▌  | 15/20 [01:53<00:39,  7.86s/it]"
     ]
    },
    {
     "name": "stdout",
     "output_type": "stream",
     "text": [
      "[16/20] 완료: 만약 세금이나 건강 보험 기여금이 미납된 경우 비자를 갱신할 수 있나요? 그리고 만약 채무...\n"
     ]
    },
    {
     "name": "stderr",
     "output_type": "stream",
     "text": [
      "번역 진행:  80%|████████  | 16/20 [02:02<00:32,  8.11s/it]"
     ]
    },
    {
     "name": "stdout",
     "output_type": "stream",
     "text": [
      "[17/20] 완료: 이 과정에서 부상을 입고 병원에서 치료를 받아야 하는 경우, 만약 고용주가 산업재해 보험에...\n"
     ]
    },
    {
     "name": "stderr",
     "output_type": "stream",
     "text": [
      "번역 진행:  85%|████████▌ | 17/20 [02:11<00:24,  8.31s/it]"
     ]
    },
    {
     "name": "stdout",
     "output_type": "stream",
     "text": [
      "[18/20] 완료: 근무 중 전염병에 감염되었을 때, 이를 직업병으로 인정하기 위해 어떤 기준이 사용되나요?...\n"
     ]
    },
    {
     "name": "stderr",
     "output_type": "stream",
     "text": [
      "번역 진행:  90%|█████████ | 18/20 [02:19<00:16,  8.23s/it]"
     ]
    },
    {
     "name": "stdout",
     "output_type": "stream",
     "text": [
      "[19/20] 완료: 출국 만기 보험금을 신청하려면 어떤 자격 조건을 충족해야 하나요? 언제부터 신청할 수 있나...\n"
     ]
    },
    {
     "name": "stderr",
     "output_type": "stream",
     "text": [
      "번역 진행:  95%|█████████▌| 19/20 [02:26<00:07,  7.82s/it]"
     ]
    },
    {
     "name": "stdout",
     "output_type": "stream",
     "text": [
      "[20/20] 완료: 내 고국으로 돌아갈 때, 언제부터 귀국 비용 보험을 신청할 수 있으며, 어떤 서류를 준비해...\n"
     ]
    },
    {
     "name": "stderr",
     "output_type": "stream",
     "text": [
      "번역 진행: 100%|██████████| 20/20 [02:33<00:00,  7.68s/it]"
     ]
    },
    {
     "name": "stdout",
     "output_type": "stream",
     "text": [
      "\n",
      "번역 완료! 총 20개 성공\n",
      "오류 발생: 0개\n"
     ]
    },
    {
     "name": "stderr",
     "output_type": "stream",
     "text": [
      "\n"
     ]
    }
   ],
   "source": [
    "# 모든 쿼리 처리\n",
    "from tqdm import tqdm\n",
    "import time\n",
    "\n",
    "# 결과를 저장할 리스트\n",
    "all_results = []\n",
    "translated_results = []\n",
    "query_results = []\n",
    "\n",
    "print(f\"총 {len(query_df)}개의 쿼리를 처리합니다...\")\n",
    "\n",
    "# 각 쿼리 처리\n",
    "for idx, row in tqdm(query_df.iterrows(), total=len(query_df), desc=\"번역 진행\"):\n",
    "    query_text = row['translated_query']\n",
    "    \n",
    "    # 번역 수행\n",
    "    result = translate_query(query_text)\n",
    "    \n",
    "    if result is not None:\n",
    "        # 전체 결과 저장\n",
    "        all_results.append(result)\n",
    "        \n",
    "        # 개별 필드 저장\n",
    "        translated_results.append(result.get('translated', ''))\n",
    "        query_results.append(result.get('mongo_query', []))\n",
    "        \n",
    "        print(f\"[{idx+1}/{len(query_df)}] 완료: {result.get('translated', '')[:50]}...\")\n",
    "    else:\n",
    "        # 오류 발생 시 빈 값 추가\n",
    "        all_results.append(None)\n",
    "        translated_results.append('')\n",
    "        query_results.append([])\n",
    "        print(f\"[{idx+1}/{len(query_df)}] 오류 발생\")\n",
    "    \n",
    "    # API 호출 제한을 위한 잠시 대기\n",
    "    time.sleep(0.5)\n",
    "\n",
    "print(f\"\\n번역 완료! 총 {len([r for r in all_results if r is not None])}개 성공\")\n",
    "print(f\"오류 발생: {len([r for r in all_results if r is None])}개\")\n"
   ]
  },
  {
   "cell_type": "code",
   "execution_count": 9,
   "id": "56cced19",
   "metadata": {},
   "outputs": [
    {
     "name": "stdout",
     "output_type": "stream",
     "text": [
      "JSONL 파일 저장: ../data/translation_query_results_20250930_191253.jsonl\n",
      "JSONL 파일 저장 완료: 20개 레코드\n",
      "\n",
      "데이터프레임 새 컬럼 추가 완료:\n",
      "- translated_4o_mini: 20개\n",
      "- mongo_query_4o_mini: 20개\n",
      "\n",
      "업데이트된 CSV 파일 저장: ../data/helloworld_test_query_with_translation_query_20250930_191253.csv\n"
     ]
    }
   ],
   "source": [
    "# 결과 저장\n",
    "import datetime\n",
    "\n",
    "# 1. JSONL 파일로 전체 결과 저장\n",
    "timestamp = datetime.datetime.now().strftime(\"%Y%m%d_%H%M%S\")\n",
    "jsonl_filename = f\"../data/translation_query_results_{timestamp}.jsonl\"\n",
    "\n",
    "print(f\"JSONL 파일 저장: {jsonl_filename}\")\n",
    "\n",
    "with open(jsonl_filename, 'w', encoding='utf-8') as f:\n",
    "    for result in all_results:\n",
    "        if result is not None:\n",
    "            f.write(json.dumps(result, ensure_ascii=False) + '\\n')\n",
    "        else:\n",
    "            f.write(json.dumps({\"error\": \"translation_failed\"}, ensure_ascii=False) + '\\n')\n",
    "\n",
    "print(f\"JSONL 파일 저장 완료: {len(all_results)}개 레코드\")\n",
    "\n",
    "# 2. 데이터프레임에 새 컬럼 추가\n",
    "query_df['translated_4o_mini'] = translated_results\n",
    "query_df['mongo_query_4o_mini'] = query_results\n",
    "\n",
    "print(\"\\n데이터프레임 새 컬럼 추가 완료:\")\n",
    "print(f\"- translated_4o_mini: {len(translated_results)}개\")\n",
    "print(f\"- mongo_query_4o_mini: {len(query_results)}개\")\n",
    "\n",
    "# 3. 업데이트된 CSV 저장\n",
    "updated_csv_filename = f\"../data/helloworld_test_query_with_translation_query_{timestamp}.csv\"\n",
    "query_df.to_csv(updated_csv_filename, index=False, encoding='utf-8')\n",
    "\n",
    "print(f\"\\n업데이트된 CSV 파일 저장: {updated_csv_filename}\")\n"
   ]
  },
  {
   "cell_type": "code",
   "execution_count": 10,
   "id": "12b94fa7",
   "metadata": {},
   "outputs": [
    {
     "data": {
      "text/html": [
       "<div>\n",
       "<style scoped>\n",
       "    .dataframe tbody tr th:only-of-type {\n",
       "        vertical-align: middle;\n",
       "    }\n",
       "\n",
       "    .dataframe tbody tr th {\n",
       "        vertical-align: top;\n",
       "    }\n",
       "\n",
       "    .dataframe thead th {\n",
       "        text-align: right;\n",
       "    }\n",
       "</style>\n",
       "<table border=\"1\" class=\"dataframe\">\n",
       "  <thead>\n",
       "    <tr style=\"text-align: right;\">\n",
       "      <th></th>\n",
       "      <th>query</th>\n",
       "      <th>translated_query</th>\n",
       "      <th>언어</th>\n",
       "      <th>ground_truth_id</th>\n",
       "      <th>category</th>\n",
       "      <th>source</th>\n",
       "      <th>작성자</th>\n",
       "      <th>비고</th>\n",
       "      <th>소스</th>\n",
       "      <th>translated_4o_mini</th>\n",
       "      <th>mongo_query_4o_mini</th>\n",
       "    </tr>\n",
       "  </thead>\n",
       "  <tbody>\n",
       "    <tr>\n",
       "      <th>0</th>\n",
       "      <td>제 여자친구가 단속으로 출입국 보호소에 있습니다. 월급이 아직 들어오지 않았는데, ...</td>\n",
       "      <td>แฟนของผมถูกจับกุมและอยู่ที่ศูนย์กักตัวตรวจคนเข...</td>\n",
       "      <td>태국어</td>\n",
       "      <td>['689b3a86ffd306c1cd3c09a4', '689b3a86ffd306c1...</td>\n",
       "      <td>임금체불</td>\n",
       "      <td>경기도외국인지원센터_상담사례</td>\n",
       "      <td>황예원</td>\n",
       "      <td>NaN</td>\n",
       "      <td>https://gmhr.or.kr/case/1529?sca=%EC%9E%84%EA%...</td>\n",
       "      <td>제 여자친구가 체포되어 이민 구금 센터에 있습니다. 지금 급여를 받지 못하고 있는데...</td>\n",
       "      <td>[{'$search': {'index': 'text', 'compound': {'s...</td>\n",
       "    </tr>\n",
       "    <tr>\n",
       "      <th>1</th>\n",
       "      <td>안녕하세요, 건설 현장에서 일하고 있는 사람인데, 사장님이 월급을 안줘서 계좌가 압...</td>\n",
       "      <td>你好，我是在建筑工地工作的，但老板没有发工资，我的账户可能会被查封。遇到这种情况该怎么办呢？</td>\n",
       "      <td>중국어</td>\n",
       "      <td>['689b3a86ffd306c1cd3c06e8', '689b3a86ffd306c1...</td>\n",
       "      <td>임금체불</td>\n",
       "      <td>경기도외국인지원센터_상담사례</td>\n",
       "      <td>황예원</td>\n",
       "      <td>임금체불 및 \"압류방지 통장\" (=임금채권 전용통장) 관련 데이터 필요</td>\n",
       "      <td>https://gmhr.or.kr/case/1493?sca=%EC%9E%84%EA%...</td>\n",
       "      <td>저는 건설 현장에서 일하고 있지만, 사장이 급여를 지급하지 않았습니다. 제 계좌가 ...</td>\n",
       "      <td>[{'$search': {'index': 'text', 'compound': {'s...</td>\n",
       "    </tr>\n",
       "    <tr>\n",
       "      <th>2</th>\n",
       "      <td>안녕하세요, 저는 필리핀에서 온 노동자입니다. 5년 동안 근무를 하고 이제 제 나라...</td>\n",
       "      <td>Magandang araw, ako ay isang manggagawang mula...</td>\n",
       "      <td>필리핀어 (타갈로그어)</td>\n",
       "      <td>['689b3a86ffd306c1cd3c09a4']</td>\n",
       "      <td>임금체불</td>\n",
       "      <td>경기도외국인지원센터_상담사례</td>\n",
       "      <td>황예원</td>\n",
       "      <td>체당금 관련 데이터 필요</td>\n",
       "      <td>https://gmhr.or.kr/case/1667?sca=%EC%9E%84%EA%...</td>\n",
       "      <td>안녕하세요, 저는 필리핀에서 온 근로자입니다. 5년 동안 일했으며 이제 제 나라로 ...</td>\n",
       "      <td>[{'$search': {'index': 'text', 'compound': {'s...</td>\n",
       "    </tr>\n",
       "    <tr>\n",
       "      <th>3</th>\n",
       "      <td>사업장 변경 신청 이후 제가 불법체류자가 될 수 있다는 우편이 날아왔어요. 8월 2...</td>\n",
       "      <td>在申请变更工作单位之后，我收到了一封信，说我可能会变成非法滞留者。只被允许停留到8月22日，...</td>\n",
       "      <td>중국어</td>\n",
       "      <td>['689b3a86ffd306c1cd3c0680', '689b3a86ffd306c1...</td>\n",
       "      <td>체류자격</td>\n",
       "      <td>경기도외국인지원센터_상담사례</td>\n",
       "      <td>황예원</td>\n",
       "      <td>NaN</td>\n",
       "      <td>https://gmhr.or.kr/case/1679?sca=%EC%B2%B4%EB%...</td>\n",
       "      <td>제가 직장 변경을 신청한 후, 불법 체류자가 될 수 있다는 편지를 받았습니다. 8월...</td>\n",
       "      <td>[{'$search': {'index': 'text', 'compound': {'s...</td>\n",
       "    </tr>\n",
       "    <tr>\n",
       "      <th>4</th>\n",
       "      <td>제가 중간에 퇴직을 하게 되었는데, 소득세가 체납되어 비자 연장이 안된대요. 그런데...</td>\n",
       "      <td>我中途离职了，但是因为拖欠所得税，签证无法延期。可是我听不懂相关的通知内容。</td>\n",
       "      <td>중국어</td>\n",
       "      <td>['689b3a86ffd306c1cd3c08f8', '689b3a86ffd306c1...</td>\n",
       "      <td>체류자격</td>\n",
       "      <td>경기도외국인지원센터_상담사례</td>\n",
       "      <td>황예원</td>\n",
       "      <td>NaN</td>\n",
       "      <td>https://gmhr.or.kr/case/1703?sca=%EC%B2%B4%EB%...</td>\n",
       "      <td>저는 중간에 퇴사했지만, 소득세 체납 때문에 비자를 연장할 수 없습니다. 관련 통지...</td>\n",
       "      <td>[{'$search': {'index': 'text', 'compound': {'s...</td>\n",
       "    </tr>\n",
       "  </tbody>\n",
       "</table>\n",
       "</div>"
      ],
      "text/plain": [
       "                                               query  \\\n",
       "0  제 여자친구가 단속으로 출입국 보호소에 있습니다. 월급이 아직 들어오지 않았는데, ...   \n",
       "1  안녕하세요, 건설 현장에서 일하고 있는 사람인데, 사장님이 월급을 안줘서 계좌가 압...   \n",
       "2  안녕하세요, 저는 필리핀에서 온 노동자입니다. 5년 동안 근무를 하고 이제 제 나라...   \n",
       "3  사업장 변경 신청 이후 제가 불법체류자가 될 수 있다는 우편이 날아왔어요. 8월 2...   \n",
       "4  제가 중간에 퇴직을 하게 되었는데, 소득세가 체납되어 비자 연장이 안된대요. 그런데...   \n",
       "\n",
       "                                    translated_query            언어  \\\n",
       "0  แฟนของผมถูกจับกุมและอยู่ที่ศูนย์กักตัวตรวจคนเข...           태국어   \n",
       "1     你好，我是在建筑工地工作的，但老板没有发工资，我的账户可能会被查封。遇到这种情况该怎么办呢？           중국어   \n",
       "2  Magandang araw, ako ay isang manggagawang mula...  필리핀어 (타갈로그어)   \n",
       "3  在申请变更工作单位之后，我收到了一封信，说我可能会变成非法滞留者。只被允许停留到8月22日，...           중국어   \n",
       "4             我中途离职了，但是因为拖欠所得税，签证无法延期。可是我听不懂相关的通知内容。           중국어   \n",
       "\n",
       "                                     ground_truth_id category  \\\n",
       "0  ['689b3a86ffd306c1cd3c09a4', '689b3a86ffd306c1...     임금체불   \n",
       "1  ['689b3a86ffd306c1cd3c06e8', '689b3a86ffd306c1...     임금체불   \n",
       "2                       ['689b3a86ffd306c1cd3c09a4']     임금체불   \n",
       "3  ['689b3a86ffd306c1cd3c0680', '689b3a86ffd306c1...     체류자격   \n",
       "4  ['689b3a86ffd306c1cd3c08f8', '689b3a86ffd306c1...     체류자격   \n",
       "\n",
       "            source  작성자                                       비고  \\\n",
       "0  경기도외국인지원센터_상담사례  황예원                                      NaN   \n",
       "1  경기도외국인지원센터_상담사례  황예원  임금체불 및 \"압류방지 통장\" (=임금채권 전용통장) 관련 데이터 필요   \n",
       "2  경기도외국인지원센터_상담사례  황예원                            체당금 관련 데이터 필요   \n",
       "3  경기도외국인지원센터_상담사례  황예원                                      NaN   \n",
       "4  경기도외국인지원센터_상담사례  황예원                                      NaN   \n",
       "\n",
       "                                                  소스  \\\n",
       "0  https://gmhr.or.kr/case/1529?sca=%EC%9E%84%EA%...   \n",
       "1  https://gmhr.or.kr/case/1493?sca=%EC%9E%84%EA%...   \n",
       "2  https://gmhr.or.kr/case/1667?sca=%EC%9E%84%EA%...   \n",
       "3  https://gmhr.or.kr/case/1679?sca=%EC%B2%B4%EB%...   \n",
       "4  https://gmhr.or.kr/case/1703?sca=%EC%B2%B4%EB%...   \n",
       "\n",
       "                                  translated_4o_mini  \\\n",
       "0  제 여자친구가 체포되어 이민 구금 센터에 있습니다. 지금 급여를 받지 못하고 있는데...   \n",
       "1  저는 건설 현장에서 일하고 있지만, 사장이 급여를 지급하지 않았습니다. 제 계좌가 ...   \n",
       "2  안녕하세요, 저는 필리핀에서 온 근로자입니다. 5년 동안 일했으며 이제 제 나라로 ...   \n",
       "3  제가 직장 변경을 신청한 후, 불법 체류자가 될 수 있다는 편지를 받았습니다. 8월...   \n",
       "4  저는 중간에 퇴사했지만, 소득세 체납 때문에 비자를 연장할 수 없습니다. 관련 통지...   \n",
       "\n",
       "                                 mongo_query_4o_mini  \n",
       "0  [{'$search': {'index': 'text', 'compound': {'s...  \n",
       "1  [{'$search': {'index': 'text', 'compound': {'s...  \n",
       "2  [{'$search': {'index': 'text', 'compound': {'s...  \n",
       "3  [{'$search': {'index': 'text', 'compound': {'s...  \n",
       "4  [{'$search': {'index': 'text', 'compound': {'s...  "
      ]
     },
     "execution_count": 10,
     "metadata": {},
     "output_type": "execute_result"
    }
   ],
   "source": [
    "query_df[['query', 'translated_4o_mini', 'mongo_query_4o_mini']]\n",
    "query_df.head()"
   ]
  },
  {
   "cell_type": "code",
   "execution_count": 11,
   "id": "5c58eeb2",
   "metadata": {},
   "outputs": [
    {
     "name": "stdout",
     "output_type": "stream",
     "text": [
      "제 여자친구가 단속으로 출입국 보호소에 있습니다. 월급이 아직 들어오지 않았는데, 태국으로 가버리면 밀린 월급은 어떻게 받죠..\n",
      "제 여자친구가 체포되어 이민 구금 센터에 있습니다. 지금 급여를 받지 못하고 있는데, 태국으로 돌아가야 한다면 밀린 급여를 어떻게 받을 수 있을까요?\n",
      "[{'$search': {'index': 'text', 'compound': {'should': [{'text': {'query': ['임금체불', '체불임금', '급여 미지급', '임금 청구'], 'path': ['title', 'contents'], 'fuzzy': {'maxEdits': 1, 'prefixLength': 2}}}, {'phrase': {'query': '임금 체불', 'path': 'title', 'slop': 2}}], 'minimumShouldMatch': 1}, 'highlight': {'path': ['title', 'contents']}}}, {'$project': {'_id': 1, 'title': 1, 'contents': 1, 'url': 1, 'score': {'$meta': 'searchScore'}, 'highlights': {'$meta': 'searchHighlights'}}}, {'$limit': 20}]\n",
      "----------------------------------------------------------------------------------------------------\n",
      "안녕하세요, 건설 현장에서 일하고 있는 사람인데, 사장님이 월급을 안줘서 계좌가 압류될 것 같습니다. 이런 경우 어떻게 해야 하나요?\n",
      "저는 건설 현장에서 일하고 있지만, 사장이 급여를 지급하지 않았습니다. 제 계좌가 압류될 수 있는 상황인데, 이런 경우 어떻게 해야 하나요?\n",
      "[{'$search': {'index': 'text', 'compound': {'should': [{'text': {'query': ['임금체불', '급여 미지급', '계좌 압류', '임금 청구'], 'path': ['title', 'contents'], 'fuzzy': {'maxEdits': 1, 'prefixLength': 2}}}, {'phrase': {'query': '임금 체불', 'path': 'title', 'slop': 2}}], 'minimumShouldMatch': 1}, 'highlight': {'path': ['title', 'contents']}}}, {'$project': {'_id': 1, 'title': 1, 'contents': 1, 'url': 1, 'score': {'$meta': 'searchScore'}, 'highlights': {'$meta': 'searchHighlights'}}}, {'$limit': 20}]\n",
      "----------------------------------------------------------------------------------------------------\n",
      "안녕하세요, 저는 필리핀에서 온 노동자입니다. 5년 동안 근무를 하고 이제 제 나라로 돌아가려 해요. 그런데 회사가 망해서 월급을 못받았습니다. 제 월급을 돌려받을 방법이 없나요?\n",
      "안녕하세요, 저는 필리핀에서 온 근로자입니다. 5년 동안 일했으며 이제 제 나라로 돌아가고 싶습니다. 하지만 회사가 파산하여 제 급여를 받지 못했습니다. 제 급여를 회수할 방법이 정말 없나요?\n",
      "[{'$search': {'index': 'text', 'compound': {'should': [{'text': {'query': ['임금체불', '체불임금', '급여 미지급', '임금 청구'], 'path': ['title', 'contents'], 'fuzzy': {'maxEdits': 1, 'prefixLength': 2}}}, {'phrase': {'query': '급여 회수', 'path': 'title', 'slop': 2}}], 'minimumShouldMatch': 1}, 'highlight': {'path': ['title', 'contents']}}}, {'$project': {'_id': 1, 'title': 1, 'contents': 1, 'url': 1, 'score': {'$meta': 'searchScore'}, 'highlights': {'$meta': 'searchHighlights'}}}, {'$limit': 20}]\n",
      "----------------------------------------------------------------------------------------------------\n",
      "사업장 변경 신청 이후 제가 불법체류자가 될 수 있다는 우편이 날아왔어요. 8월 22일까지만 체류가 허가되어있고, 9월부터는 쫓겨날 수도 있대요. 어떡하죠?\n",
      "제가 직장 변경을 신청한 후, 불법 체류자가 될 수 있다는 편지를 받았습니다. 8월 22일까지만 체류가 허용되며, 9월부터는 추방될 수 있다고 합니다. 저는 어떻게 해야 하나요?\n",
      "[{'$search': {'index': 'text', 'compound': {'should': [{'text': {'query': ['불법 체류', '추방', '비자 문제', '체류 허가'], 'path': ['title', 'contents'], 'fuzzy': {'maxEdits': 1, 'prefixLength': 2}}}, {'phrase': {'query': '불법 체류', 'path': 'title', 'slop': 2}}], 'minimumShouldMatch': 1}, 'highlight': {'path': ['title', 'contents']}}}, {'$project': {'_id': 1, 'title': 1, 'contents': 1, 'url': 1, 'score': {'$meta': 'searchScore'}, 'highlights': {'$meta': 'searchHighlights'}}}, {'$limit': 20}]\n",
      "----------------------------------------------------------------------------------------------------\n",
      "제가 중간에 퇴직을 하게 되었는데, 소득세가 체납되어 비자 연장이 안된대요. 그런데 안내 사항을 못알아듣겠어요.\n",
      "저는 중간에 퇴사했지만, 소득세 체납 때문에 비자를 연장할 수 없습니다. 관련 통지 내용을 이해하지 못합니다.\n",
      "[{'$search': {'index': 'text', 'compound': {'should': [{'text': {'query': ['소득세 체납', '비자 연장', '퇴사', '통지 내용'], 'path': ['title', 'contents'], 'fuzzy': {'maxEdits': 1, 'prefixLength': 2}}}, {'phrase': {'query': '소득세 체납', 'path': 'title', 'slop': 2}}], 'minimumShouldMatch': 1}, 'highlight': {'path': ['title', 'contents']}}}, {'$project': {'_id': 1, 'title': 1, 'contents': 1, 'url': 1, 'score': {'$meta': 'searchScore'}, 'highlights': {'$meta': 'searchHighlights'}}}, {'$limit': 20}]\n",
      "----------------------------------------------------------------------------------------------------\n",
      "회사에서 갑자기 나오지 말라고 해서, 체류 자격이 박탈될 것 같습니다. 저는 어떻게 해야 하나요?\n",
      "회사가 갑자기 더 이상 출근하지 말라고 해서, 제가 체류 자격을 잃을 수 있습니다. 어떻게 해야 하나요?\n",
      "[{'$search': {'index': 'text', 'compound': {'should': [{'text': {'query': ['체류 자격', '비자 문제', '이민 상담', '체류 허가'], 'path': ['title', 'contents'], 'fuzzy': {'maxEdits': 1, 'prefixLength': 2}}}, {'phrase': {'query': '체류 자격', 'path': 'title', 'slop': 2}}], 'minimumShouldMatch': 1}, 'highlight': {'path': ['title', 'contents']}}}, {'$project': {'_id': 1, 'title': 1, 'contents': 1, 'url': 1, 'score': {'$meta': 'searchScore'}, 'highlights': {'$meta': 'searchHighlights'}}}, {'$limit': 20}]\n",
      "----------------------------------------------------------------------------------------------------\n",
      "건설업에 근무 중인 외국인입니다. 어떤 경우에 산업재해가 인정되는지, 또 경우에 따라 얼마만큼 보상을 받을 수 있는지 알고 싶어요.\n",
      "저는 건설 산업에서 일하는 외국인 노동자입니다. 어떤 경우에 작업 중 사고로 간주되는지 알고 싶고, 각 경우에 따라 얼마나 보상을 받을 수 있는지 궁금합니다.\n",
      "[{'$search': {'index': 'text', 'compound': {'should': [{'text': {'query': ['작업 중 사고', '산업 재해', '보상', '외국인 노동자'], 'path': ['title', 'contents'], 'fuzzy': {'maxEdits': 1, 'prefixLength': 2}}}, {'phrase': {'query': '작업 중 사고', 'path': 'title', 'slop': 2}}], 'minimumShouldMatch': 1}, 'highlight': {'path': ['title', 'contents']}}}, {'$project': {'_id': 1, 'title': 1, 'contents': 1, 'url': 1, 'score': {'$meta': 'searchScore'}, 'highlights': {'$meta': 'searchHighlights'}}}, {'$limit': 20}]\n",
      "----------------------------------------------------------------------------------------------------\n",
      "안녕하세요, 저는 베트남에 거주중인 재외동포입니다. 이번에 특례고용허가제를 통해 한국에서 취업을 하고 싶은데, 절차에 대해서 상세하게 알려주세요.\n",
      "안녕하세요, 저는 베트남에 거주하는 교포입니다. 이번에 특별 노동 허가 제도를 통해 한국에서 일자리를 구하고 싶습니다. 절차에 대한 자세한 정보를 알려주세요.\n",
      "[{'$search': {'index': 'text', 'compound': {'should': [{'text': {'query': ['특별 노동 허가', '한국 취업 절차', '외국인 노동자', '비자 신청'], 'path': ['title', 'contents'], 'fuzzy': {'maxEdits': 1, 'prefixLength': 2}}}, {'phrase': {'query': '특별 노동 허가 절차', 'path': 'title', 'slop': 2}}], 'minimumShouldMatch': 1}, 'highlight': {'path': ['title', 'contents']}}}, {'$project': {'_id': 1, 'title': 1, 'contents': 1, 'url': 1, 'score': {'$meta': 'searchScore'}, 'highlights': {'$meta': 'searchHighlights'}}}, {'$limit': 20}]\n",
      "----------------------------------------------------------------------------------------------------\n",
      "H-2 비자를 가지고 있는데, 지금 일하고 있는 사업주를 떠나 다른 사업장으로 옮길 수 있는지, 또 옮기려면 어떤 절차와 증빙자료가 필요한지 궁금해요.\n",
      "H-2 비자를 가지고 있는데, 현재 고용주를 떠나 다른 직장으로 옮길 수 있는지 궁금합니다. 가능하다면 어떤 절차와 지원 서류가 필요한가요?\n",
      "[{'$search': {'index': 'text', 'compound': {'should': [{'text': {'query': ['H-2 비자', '고용주 변경', '직장 이동', '비자 절차'], 'path': ['title', 'contents'], 'fuzzy': {'maxEdits': 1, 'prefixLength': 2}}}, {'phrase': {'query': 'H-2 비자 변경', 'path': 'title', 'slop': 2}}], 'minimumShouldMatch': 1}, 'highlight': {'path': ['title', 'contents']}}}, {'$project': {'_id': 1, 'title': 1, 'contents': 1, 'url': 1, 'score': {'$meta': 'searchScore'}, 'highlights': {'$meta': 'searchHighlights'}}}, {'$limit': 20}]\n",
      "----------------------------------------------------------------------------------------------------\n",
      "고용주가 지속적으로 임금체불을 하여 사업장 변경을 원합니다.\n",
      "고용주가 지속적으로 급여를 체불하고 있어 저는 직장을 옮기고 싶습니다.\n",
      "[{'$search': {'index': 'text', 'compound': {'should': [{'text': {'query': ['임금체불', '급여 미지급', '직장 옮기기'], 'path': ['title', 'contents'], 'fuzzy': {'maxEdits': 1, 'prefixLength': 2}}}, {'phrase': {'query': '급여 체불', 'path': 'title', 'slop': 2}}], 'minimumShouldMatch': 1}, 'highlight': {'path': ['title', 'contents']}}}, {'$project': {'_id': 1, 'title': 1, 'contents': 1, 'url': 1, 'score': {'$meta': 'searchScore'}, 'highlights': {'$meta': 'searchHighlights'}}}, {'$limit': 20}]\n",
      "----------------------------------------------------------------------------------------------------\n",
      "실업급여를 받던 중 조기에 재취업을 하게 되면 ‘조기재취업수당’을 받을 수 있다고 들었습니다. 재취업 후 어느 정도 기간을 근무해야 하고, 어떤 경우에는 지급이 제한되나요?\n",
      "실업급여를 받고 있는 중에 조기 재취업을 하면 '조기 재취업 수당'을 받을 수 있다고 들었습니다. 재취업 후에는 얼마나 오랫동안 근무해야 하며, 어떤 경우에 지급이 제한되나요?\n",
      "[{'$search': {'index': 'text', 'compound': {'should': [{'text': {'query': ['조기 재취업 수당', '재취업 조건', '근무 기간', '지급 제한'], 'path': ['title', 'contents'], 'fuzzy': {'maxEdits': 1, 'prefixLength': 2}}}, {'phrase': {'query': '조기 재취업', 'path': 'title', 'slop': 2}}], 'minimumShouldMatch': 1}, 'highlight': {'path': ['title', 'contents']}}}, {'$project': {'_id': 1, 'title': 1, 'contents': 1, 'url': 1, 'score': {'$meta': 'searchScore'}, 'highlights': {'$meta': 'searchHighlights'}}}, {'$limit': 20}]\n",
      "----------------------------------------------------------------------------------------------------\n",
      "E9 비자를 가진 비전문취업 외국인근로자가 근무 중인 사업장이 휴업이나 임금체불 같은 사정으로 더 이상 근로를 지속하기 어려운 경우, 사업장 변경은 몇 번까지 가능하고, 언제까지 신청해야 하나요?\n",
      "E9 비전 소지 비전문 외국인 노동자가 근무하는 사업장이 폐업하거나 임금 체불 등의 이유로 계속 근무하기 어려운 경우, 근무지 변경은 최대 몇 번 가능하며, 언제까지 신청해야 하나요?\n",
      "[{'$search': {'index': 'text', 'compound': {'should': [{'text': {'query': ['E9 비자', '근무지 변경', '임금 체불', '사업장 폐업'], 'path': ['title', 'contents'], 'fuzzy': {'maxEdits': 1, 'prefixLength': 2}}}, {'phrase': {'query': 'E9 비자 근무지 변경', 'path': 'title', 'slop': 2}}], 'minimumShouldMatch': 1}, 'highlight': {'path': ['title', 'contents']}}}, {'$project': {'_id': 1, 'title': 1, 'contents': 1, 'url': 1, 'score': {'$meta': 'searchScore'}, 'highlights': {'$meta': 'searchHighlights'}}}, {'$limit': 20}]\n",
      "----------------------------------------------------------------------------------------------------\n",
      "근로계약 종료 후 사업장 변경을 신청하려면, 언제까지 고용센터에 신청해야 하며, 신청 후 새로운 사업장을 구하지 못하면 어떻게 되나요?\n",
      "고용 계약이 종료된 후, 새로운 직장을 찾고 싶다면 언제까지 고용 센터에 신청서를 제출해야 하나요? 그리고 신청서를 제출한 후 새로운 직장을 찾지 못하면 어떻게 되나요?\n",
      "[{'$search': {'index': 'text', 'compound': {'should': [{'text': {'query': ['고용 계약 종료', '직장 변경', '신청서 제출 기한', '새로운 직장 찾기'], 'path': ['title', 'contents'], 'fuzzy': {'maxEdits': 1, 'prefixLength': 2}}}, {'phrase': {'query': '고용 센터 신청', 'path': 'title', 'slop': 2}}], 'minimumShouldMatch': 1}, 'highlight': {'path': ['title', 'contents']}}}, {'$project': {'_id': 1, 'title': 1, 'contents': 1, 'url': 1, 'score': {'$meta': 'searchScore'}, 'highlights': {'$meta': 'searchHighlights'}}}, {'$limit': 20}]\n",
      "----------------------------------------------------------------------------------------------------\n",
      "E-9 비자를 가진 외국인근로자가 근무 조건이 근로계약서와 다르다고 주장할 경우, 사업장 변경 사유로 인정받을 수 있나요? 그리고 이 경우 어떤 절차를 거쳐야 하나요?\n",
      "E-9 비자를 가진 외국인 노동자가 근무 조건이 노동 계약과 다르다고 주장할 경우, 이는 근무지 변경 사유로 인정될 수 있나요? 가능하다면 어떤 절차를 거쳐야 하나요?\n",
      "[{'$search': {'index': 'text', 'compound': {'should': [{'text': {'query': ['E-9 비자', '근무 조건', '노동 계약', '근무지 변경'], 'path': ['title', 'contents'], 'fuzzy': {'maxEdits': 1, 'prefixLength': 2}}}, {'phrase': {'query': '근무 조건 불일치', 'path': 'title', 'slop': 2}}], 'minimumShouldMatch': 1}, 'highlight': {'path': ['title', 'contents']}}}, {'$project': {'_id': 1, 'title': 1, 'contents': 1, 'url': 1, 'score': {'$meta': 'searchScore'}, 'highlights': {'$meta': 'searchHighlights'}}}, {'$limit': 20}]\n",
      "----------------------------------------------------------------------------------------------------\n",
      "비자 만료 전에 연장을 신청하려고 할 때, 어떤 기관에 방문해야 하고 온라인으로도 신청할 수 있나요?\n",
      "비자 만료 전에 연장을 신청하고 싶습니다. 어떤 기관에 가야 하며 온라인으로도 신청할 수 있나요?\n",
      "[{'$search': {'index': 'text', 'compound': {'should': [{'text': {'query': ['비자 연장', '비자 신청', '비자 만료', '온라인 신청'], 'path': ['title', 'contents'], 'fuzzy': {'maxEdits': 1, 'prefixLength': 2}}}, {'phrase': {'query': '비자 연장 신청', 'path': 'title', 'slop': 2}}], 'minimumShouldMatch': 1}, 'highlight': {'path': ['title', 'contents']}}}, {'$project': {'_id': 1, 'title': 1, 'contents': 1, 'url': 1, 'score': {'$meta': 'searchScore'}, 'highlights': {'$meta': 'searchHighlights'}}}, {'$limit': 20}]\n",
      "----------------------------------------------------------------------------------------------------\n",
      "세금이나 건강보험료를 체납한 경우에도 비자 연장이 가능한가요? 만약 미납 상태라면 어떤 제재가 따르나요?\n",
      "만약 세금이나 건강 보험 기여금이 미납된 경우 비자를 갱신할 수 있나요? 그리고 만약 채무가 있다면 어떤 종류의 처벌이 부과되나요?\n",
      "[{'$search': {'index': 'text', 'compound': {'should': [{'text': {'query': ['비자 갱신', '세금 미납', '건강 보험', '처벌'], 'path': ['title', 'contents'], 'fuzzy': {'maxEdits': 1, 'prefixLength': 2}}}, {'phrase': {'query': '비자 갱신', 'path': 'title', 'slop': 2}}], 'minimumShouldMatch': 1}, 'highlight': {'path': ['title', 'contents']}}}, {'$project': {'_id': 1, 'title': 1, 'contents': 1, 'url': 1, 'score': {'$meta': 'searchScore'}, 'highlights': {'$meta': 'searchHighlights'}}}, {'$limit': 20}]\n",
      "----------------------------------------------------------------------------------------------------\n",
      "근무하다가 작업 중 다쳐서 병원 치료를 받게 된 경우, 고용주가 산재보험에 가입하지 않았다면 재해보상을 받을 수 있나요? 그리고 어디에 문의해야 하나요?\n",
      "이 과정에서 부상을 입고 병원에서 치료를 받아야 하는 경우, 만약 고용주가 산업재해 보험에 가입하지 않았다면, 저는 부상에 대한 보상을 받을 수 있나요? 또한, 이와 관련하여 어디에 문의해야 하나요?\n",
      "[{'$search': {'index': 'text', 'compound': {'should': [{'text': {'query': ['산업재해 보상', '부상 보상', '고용주 보험 미가입', '부상 치료'], 'path': ['title', 'contents'], 'fuzzy': {'maxEdits': 1, 'prefixLength': 2}}}, {'phrase': {'query': '부상 보상', 'path': 'title', 'slop': 2}}], 'minimumShouldMatch': 1}, 'highlight': {'path': ['title', 'contents']}}}, {'$project': {'_id': 1, 'title': 1, 'contents': 1, 'url': 1, 'score': {'$meta': 'searchScore'}, 'highlights': {'$meta': 'searchHighlights'}}}, {'$limit': 20}]\n",
      "----------------------------------------------------------------------------------------------------\n",
      "업무 중 감염병에 걸렸을 때, 이를 업무상 질병으로 인정받으려면 어떤 기준이 적용되나요?\n",
      "근무 중 전염병에 감염되었을 때, 이를 직업병으로 인정하기 위해 어떤 기준이 사용되나요?\n",
      "[{'$search': {'index': 'text', 'compound': {'should': [{'text': {'query': ['직업병', '감염병', '근무 중 감염', '전염병'], 'path': ['title', 'contents'], 'fuzzy': {'maxEdits': 1, 'prefixLength': 2}}}, {'phrase': {'query': '직업병 기준', 'path': 'title', 'slop': 2}}], 'minimumShouldMatch': 1}, 'highlight': {'path': ['title', 'contents']}}}, {'$project': {'_id': 1, 'title': 1, 'contents': 1, 'url': 1, 'score': {'$meta': 'searchScore'}, 'highlights': {'$meta': 'searchHighlights'}}}, {'$limit': 20}]\n",
      "----------------------------------------------------------------------------------------------------\n",
      "출국만기보험금을 신청하려면 어떤 자격 요건을 충족해야 하고, 신청 시기는 언제부터 가능한가요?\n",
      "출국 만기 보험금을 신청하려면 어떤 자격 조건을 충족해야 하나요? 언제부터 신청할 수 있나요?\n",
      "[{'$search': {'index': 'text', 'compound': {'should': [{'text': {'query': ['출국 보험금', '만기 보험금', '보험금 신청 자격', '보험금 신청 시기'], 'path': ['title', 'contents'], 'fuzzy': {'maxEdits': 1, 'prefixLength': 2}}}, {'phrase': {'query': '보험금 신청', 'path': 'title', 'slop': 2}}], 'minimumShouldMatch': 1}, 'highlight': {'path': ['title', 'contents']}}}, {'$project': {'_id': 1, 'title': 1, 'contents': 1, 'url': 1, 'score': {'$meta': 'searchScore'}, 'highlights': {'$meta': 'searchHighlights'}}}, {'$limit': 20}]\n",
      "----------------------------------------------------------------------------------------------------\n",
      "본국으로 돌아갈 때, 귀국비용보험은 언제부터 신청할 수 있으며, 어떤 서류를 준비해야 하나요?\n",
      "내 고국으로 돌아갈 때, 언제부터 귀국 비용 보험을 신청할 수 있으며, 어떤 서류를 준비해야 하나요?\n",
      "[{'$search': {'index': 'text', 'compound': {'should': [{'text': {'query': ['귀국 비용 보험', '보험 신청', '서류 준비', '귀국 절차'], 'path': ['title', 'contents'], 'fuzzy': {'maxEdits': 1, 'prefixLength': 2}}}, {'phrase': {'query': '귀국 비용 보험', 'path': 'title', 'slop': 2}}], 'minimumShouldMatch': 1}, 'highlight': {'path': ['title', 'contents']}}}, {'$project': {'_id': 1, 'title': 1, 'contents': 1, 'url': 1, 'score': {'$meta': 'searchScore'}, 'highlights': {'$meta': 'searchHighlights'}}}, {'$limit': 20}]\n",
      "----------------------------------------------------------------------------------------------------\n"
     ]
    }
   ],
   "source": [
    "for i, row in query_df.iterrows():\n",
    "    print(row['query'])\n",
    "    print(row['translated_4o_mini'])\n",
    "    print(row['mongo_query_4o_mini'])\n",
    "    print('-'*100)"
   ]
  },
  {
   "cell_type": "markdown",
   "id": "4623dbd8",
   "metadata": {},
   "source": [
    "# [실험2] 쿼리 기반 검색"
   ]
  },
  {
   "cell_type": "code",
   "execution_count": 12,
   "id": "e9f80082",
   "metadata": {},
   "outputs": [
    {
     "data": {
      "text/html": [
       "<div>\n",
       "<style scoped>\n",
       "    .dataframe tbody tr th:only-of-type {\n",
       "        vertical-align: middle;\n",
       "    }\n",
       "\n",
       "    .dataframe tbody tr th {\n",
       "        vertical-align: top;\n",
       "    }\n",
       "\n",
       "    .dataframe thead th {\n",
       "        text-align: right;\n",
       "    }\n",
       "</style>\n",
       "<table border=\"1\" class=\"dataframe\">\n",
       "  <thead>\n",
       "    <tr style=\"text-align: right;\">\n",
       "      <th></th>\n",
       "      <th>query</th>\n",
       "      <th>translated_query</th>\n",
       "      <th>언어</th>\n",
       "      <th>ground_truth_id</th>\n",
       "      <th>category</th>\n",
       "      <th>source</th>\n",
       "      <th>작성자</th>\n",
       "      <th>비고</th>\n",
       "      <th>소스</th>\n",
       "      <th>translated_4o_mini</th>\n",
       "      <th>mongo_query_4o_mini</th>\n",
       "    </tr>\n",
       "  </thead>\n",
       "  <tbody>\n",
       "    <tr>\n",
       "      <th>0</th>\n",
       "      <td>제 여자친구가 단속으로 출입국 보호소에 있습니다. 월급이 아직 들어오지 않았는데, ...</td>\n",
       "      <td>แฟนของผมถูกจับกุมและอยู่ที่ศูนย์กักตัวตรวจคนเข...</td>\n",
       "      <td>태국어</td>\n",
       "      <td>['689b3a86ffd306c1cd3c09a4', '689b3a86ffd306c1...</td>\n",
       "      <td>임금체불</td>\n",
       "      <td>경기도외국인지원센터_상담사례</td>\n",
       "      <td>황예원</td>\n",
       "      <td>NaN</td>\n",
       "      <td>https://gmhr.or.kr/case/1529?sca=%EC%9E%84%EA%...</td>\n",
       "      <td>제 여자친구가 체포되어 이민 구금 센터에 있습니다. 지금 급여를 받지 못하고 있는데...</td>\n",
       "      <td>[{'$search': {'index': 'text', 'compound': {'s...</td>\n",
       "    </tr>\n",
       "    <tr>\n",
       "      <th>1</th>\n",
       "      <td>안녕하세요, 건설 현장에서 일하고 있는 사람인데, 사장님이 월급을 안줘서 계좌가 압...</td>\n",
       "      <td>你好，我是在建筑工地工作的，但老板没有发工资，我的账户可能会被查封。遇到这种情况该怎么办呢？</td>\n",
       "      <td>중국어</td>\n",
       "      <td>['689b3a86ffd306c1cd3c06e8', '689b3a86ffd306c1...</td>\n",
       "      <td>임금체불</td>\n",
       "      <td>경기도외국인지원센터_상담사례</td>\n",
       "      <td>황예원</td>\n",
       "      <td>임금체불 및 \"압류방지 통장\" (=임금채권 전용통장) 관련 데이터 필요</td>\n",
       "      <td>https://gmhr.or.kr/case/1493?sca=%EC%9E%84%EA%...</td>\n",
       "      <td>저는 건설 현장에서 일하고 있지만, 사장이 급여를 지급하지 않았습니다. 제 계좌가 ...</td>\n",
       "      <td>[{'$search': {'index': 'text', 'compound': {'s...</td>\n",
       "    </tr>\n",
       "    <tr>\n",
       "      <th>2</th>\n",
       "      <td>안녕하세요, 저는 필리핀에서 온 노동자입니다. 5년 동안 근무를 하고 이제 제 나라...</td>\n",
       "      <td>Magandang araw, ako ay isang manggagawang mula...</td>\n",
       "      <td>필리핀어 (타갈로그어)</td>\n",
       "      <td>['689b3a86ffd306c1cd3c09a4']</td>\n",
       "      <td>임금체불</td>\n",
       "      <td>경기도외국인지원센터_상담사례</td>\n",
       "      <td>황예원</td>\n",
       "      <td>체당금 관련 데이터 필요</td>\n",
       "      <td>https://gmhr.or.kr/case/1667?sca=%EC%9E%84%EA%...</td>\n",
       "      <td>안녕하세요, 저는 필리핀에서 온 근로자입니다. 5년 동안 일했으며 이제 제 나라로 ...</td>\n",
       "      <td>[{'$search': {'index': 'text', 'compound': {'s...</td>\n",
       "    </tr>\n",
       "    <tr>\n",
       "      <th>3</th>\n",
       "      <td>사업장 변경 신청 이후 제가 불법체류자가 될 수 있다는 우편이 날아왔어요. 8월 2...</td>\n",
       "      <td>在申请变更工作单位之后，我收到了一封信，说我可能会变成非法滞留者。只被允许停留到8月22日，...</td>\n",
       "      <td>중국어</td>\n",
       "      <td>['689b3a86ffd306c1cd3c0680', '689b3a86ffd306c1...</td>\n",
       "      <td>체류자격</td>\n",
       "      <td>경기도외국인지원센터_상담사례</td>\n",
       "      <td>황예원</td>\n",
       "      <td>NaN</td>\n",
       "      <td>https://gmhr.or.kr/case/1679?sca=%EC%B2%B4%EB%...</td>\n",
       "      <td>제가 직장 변경을 신청한 후, 불법 체류자가 될 수 있다는 편지를 받았습니다. 8월...</td>\n",
       "      <td>[{'$search': {'index': 'text', 'compound': {'s...</td>\n",
       "    </tr>\n",
       "    <tr>\n",
       "      <th>4</th>\n",
       "      <td>제가 중간에 퇴직을 하게 되었는데, 소득세가 체납되어 비자 연장이 안된대요. 그런데...</td>\n",
       "      <td>我中途离职了，但是因为拖欠所得税，签证无法延期。可是我听不懂相关的通知内容。</td>\n",
       "      <td>중국어</td>\n",
       "      <td>['689b3a86ffd306c1cd3c08f8', '689b3a86ffd306c1...</td>\n",
       "      <td>체류자격</td>\n",
       "      <td>경기도외국인지원센터_상담사례</td>\n",
       "      <td>황예원</td>\n",
       "      <td>NaN</td>\n",
       "      <td>https://gmhr.or.kr/case/1703?sca=%EC%B2%B4%EB%...</td>\n",
       "      <td>저는 중간에 퇴사했지만, 소득세 체납 때문에 비자를 연장할 수 없습니다. 관련 통지...</td>\n",
       "      <td>[{'$search': {'index': 'text', 'compound': {'s...</td>\n",
       "    </tr>\n",
       "  </tbody>\n",
       "</table>\n",
       "</div>"
      ],
      "text/plain": [
       "                                               query  \\\n",
       "0  제 여자친구가 단속으로 출입국 보호소에 있습니다. 월급이 아직 들어오지 않았는데, ...   \n",
       "1  안녕하세요, 건설 현장에서 일하고 있는 사람인데, 사장님이 월급을 안줘서 계좌가 압...   \n",
       "2  안녕하세요, 저는 필리핀에서 온 노동자입니다. 5년 동안 근무를 하고 이제 제 나라...   \n",
       "3  사업장 변경 신청 이후 제가 불법체류자가 될 수 있다는 우편이 날아왔어요. 8월 2...   \n",
       "4  제가 중간에 퇴직을 하게 되었는데, 소득세가 체납되어 비자 연장이 안된대요. 그런데...   \n",
       "\n",
       "                                    translated_query            언어  \\\n",
       "0  แฟนของผมถูกจับกุมและอยู่ที่ศูนย์กักตัวตรวจคนเข...           태국어   \n",
       "1     你好，我是在建筑工地工作的，但老板没有发工资，我的账户可能会被查封。遇到这种情况该怎么办呢？           중국어   \n",
       "2  Magandang araw, ako ay isang manggagawang mula...  필리핀어 (타갈로그어)   \n",
       "3  在申请变更工作单位之后，我收到了一封信，说我可能会变成非法滞留者。只被允许停留到8月22日，...           중국어   \n",
       "4             我中途离职了，但是因为拖欠所得税，签证无法延期。可是我听不懂相关的通知内容。           중국어   \n",
       "\n",
       "                                     ground_truth_id category  \\\n",
       "0  ['689b3a86ffd306c1cd3c09a4', '689b3a86ffd306c1...     임금체불   \n",
       "1  ['689b3a86ffd306c1cd3c06e8', '689b3a86ffd306c1...     임금체불   \n",
       "2                       ['689b3a86ffd306c1cd3c09a4']     임금체불   \n",
       "3  ['689b3a86ffd306c1cd3c0680', '689b3a86ffd306c1...     체류자격   \n",
       "4  ['689b3a86ffd306c1cd3c08f8', '689b3a86ffd306c1...     체류자격   \n",
       "\n",
       "            source  작성자                                       비고  \\\n",
       "0  경기도외국인지원센터_상담사례  황예원                                      NaN   \n",
       "1  경기도외국인지원센터_상담사례  황예원  임금체불 및 \"압류방지 통장\" (=임금채권 전용통장) 관련 데이터 필요   \n",
       "2  경기도외국인지원센터_상담사례  황예원                            체당금 관련 데이터 필요   \n",
       "3  경기도외국인지원센터_상담사례  황예원                                      NaN   \n",
       "4  경기도외국인지원센터_상담사례  황예원                                      NaN   \n",
       "\n",
       "                                                  소스  \\\n",
       "0  https://gmhr.or.kr/case/1529?sca=%EC%9E%84%EA%...   \n",
       "1  https://gmhr.or.kr/case/1493?sca=%EC%9E%84%EA%...   \n",
       "2  https://gmhr.or.kr/case/1667?sca=%EC%9E%84%EA%...   \n",
       "3  https://gmhr.or.kr/case/1679?sca=%EC%B2%B4%EB%...   \n",
       "4  https://gmhr.or.kr/case/1703?sca=%EC%B2%B4%EB%...   \n",
       "\n",
       "                                  translated_4o_mini  \\\n",
       "0  제 여자친구가 체포되어 이민 구금 센터에 있습니다. 지금 급여를 받지 못하고 있는데...   \n",
       "1  저는 건설 현장에서 일하고 있지만, 사장이 급여를 지급하지 않았습니다. 제 계좌가 ...   \n",
       "2  안녕하세요, 저는 필리핀에서 온 근로자입니다. 5년 동안 일했으며 이제 제 나라로 ...   \n",
       "3  제가 직장 변경을 신청한 후, 불법 체류자가 될 수 있다는 편지를 받았습니다. 8월...   \n",
       "4  저는 중간에 퇴사했지만, 소득세 체납 때문에 비자를 연장할 수 없습니다. 관련 통지...   \n",
       "\n",
       "                                 mongo_query_4o_mini  \n",
       "0  [{'$search': {'index': 'text', 'compound': {'s...  \n",
       "1  [{'$search': {'index': 'text', 'compound': {'s...  \n",
       "2  [{'$search': {'index': 'text', 'compound': {'s...  \n",
       "3  [{'$search': {'index': 'text', 'compound': {'s...  \n",
       "4  [{'$search': {'index': 'text', 'compound': {'s...  "
      ]
     },
     "execution_count": 12,
     "metadata": {},
     "output_type": "execute_result"
    }
   ],
   "source": [
    "import os, sys\n",
    "import pandas as pd\n",
    "\n",
    "# 프로젝트 루트 디렉토리를 Python 경로에 추가\n",
    "project_root = os.path.abspath(os.path.join(os.getcwd(), '..'))\n",
    "if project_root not in sys.path:\n",
    "    sys.path.append(project_root)\n",
    "\n",
    "query_df = pd.read_csv(\"../data/helloworld_test_query_with_translation_query_20250930_191253.csv\")\n",
    "query_df.head()"
   ]
  },
  {
   "cell_type": "code",
   "execution_count": 13,
   "id": "2e97aff4",
   "metadata": {},
   "outputs": [
    {
     "name": "stdout",
     "output_type": "stream",
     "text": [
      "쿼리 기반 하이브리드 검색 모델 설정 완료\n",
      "쿼리 기반 검색 함수 정의 완료\n"
     ]
    }
   ],
   "source": [
    "# 키워드 기반 하이브리드 검색 모델 평가\n",
    "from Azure.query_model import ChatModel\n",
    "from dotenv import load_dotenv\n",
    "import json\n",
    "\n",
    "# 환경 설정\n",
    "load_dotenv()\n",
    "\n",
    "# 설정 파일 로드\n",
    "with open('../configs/config.json', 'r', encoding='utf-8') as f:\n",
    "    config = json.load(f)\n",
    "\n",
    "# 키워드 모델 인스턴스 생성\n",
    "query_chat_model = ChatModel(config)\n",
    "\n",
    "print(\"쿼리 기반 하이브리드 검색 모델 설정 완료\")\n",
    "\n",
    "# 키워드 기반 검색 함수\n",
    "def get_query_model_response_with_docs(query_text, mongo_query):\n",
    "    \"\"\"\n",
    "    키워드 기반 하이브리드 검색 모델로부터 답변을 생성하고 검색된 문서들의 인덱스를 반환\n",
    "    \"\"\"\n",
    "    try:\n",
    "        # 빈 대화 히스토리로 시작\n",
    "        conversation_history = []\n",
    "        \n",
    "        # 키워드 기반 모델 답변 생성\n",
    "        response = query_chat_model.generate_ai_response(\n",
    "            conversation_history, \n",
    "            query_text, \n",
    "            target_collection, \n",
    "            mongo_query=mongo_query\n",
    "        )\n",
    "        \n",
    "        return {\n",
    "            \"answer\": response[\"answer\"],\n",
    "            \"retrieved_doc_ids\": response[\"retrieved_doc_ids\"],\n",
    "            \"retrieved_docs\": response[\"retrieved_docs\"]\n",
    "        }\n",
    "        \n",
    "    except Exception as e:\n",
    "        print(f\"오류 발생: {e}\")\n",
    "        return {\n",
    "            \"answer\": \"\",\n",
    "            \"retrieved_doc_ids\": [],\n",
    "            \"retrieved_docs\": []\n",
    "        }\n",
    "\n",
    "print(\"쿼리 기반 검색 함수 정의 완료\")\n"
   ]
  },
  {
   "cell_type": "code",
   "execution_count": 14,
   "id": "3c59f8e9",
   "metadata": {},
   "outputs": [
    {
     "name": "stdout",
     "output_type": "stream",
     "text": [
      "Retrieval Correctness 계산 함수 정의 완료\n",
      "확장된 Retrieval 메트릭 계산 함수들 정의 완료\n"
     ]
    }
   ],
   "source": [
    "# Retrieval Correctness 계산 함수\n",
    "def calculate_retrieval_correctness(retrieved_doc_ids, ground_truth_ids):\n",
    "    \"\"\"\n",
    "    검색된 문서 ID들과 ground truth ID들을 비교하여 correctness 계산\n",
    "    \"\"\"\n",
    "    if not retrieved_doc_ids or not ground_truth_ids:\n",
    "        return 0\n",
    "    \n",
    "    # ground_truth_ids가 문자열 리스트인 경우 처리\n",
    "    if isinstance(ground_truth_ids, str):\n",
    "        try:\n",
    "            # 문자열을 리스트로 변환 (예: \"['id1', 'id2']\" -> ['id1', 'id2'])\n",
    "            import ast\n",
    "            ground_truth_list = ast.literal_eval(ground_truth_ids)\n",
    "        except:\n",
    "            ground_truth_list = [ground_truth_ids]\n",
    "    else:\n",
    "        ground_truth_list = ground_truth_ids\n",
    "    \n",
    "    # 검색된 문서 중 하나라도 ground truth에 있으면 1, 아니면 0\n",
    "    for doc_id in retrieved_doc_ids:\n",
    "        if doc_id in ground_truth_list:\n",
    "            return 1\n",
    "    \n",
    "    return 0\n",
    "\n",
    "print(\"Retrieval Correctness 계산 함수 정의 완료\")\n",
    "\n",
    "# 확장된 Retrieval 메트릭 계산 함수들\n",
    "def calculate_recall_at_k(retrieved_doc_ids, ground_truth_ids, k=None):\n",
    "    \"\"\"\n",
    "    Recall@k 계산: 검색된 문서 중 관련 문서의 비율\n",
    "    \"\"\"\n",
    "    if not retrieved_doc_ids or not ground_truth_ids:\n",
    "        return 0.0\n",
    "    \n",
    "    # ground_truth_ids가 문자열 리스트인 경우 처리\n",
    "    if isinstance(ground_truth_ids, str):\n",
    "        try:\n",
    "            import ast\n",
    "            ground_truth_list = ast.literal_eval(ground_truth_ids)\n",
    "        except:\n",
    "            ground_truth_list = [ground_truth_ids]\n",
    "    else:\n",
    "        ground_truth_list = ground_truth_ids\n",
    "    \n",
    "    # k가 지정되지 않으면 검색된 문서 수만큼 사용\n",
    "    if k is None:\n",
    "        k = len(retrieved_doc_ids)\n",
    "    \n",
    "    # 상위 k개 문서만 고려\n",
    "    top_k_retrieved = retrieved_doc_ids[:k]\n",
    "    \n",
    "    # 관련 문서 수 계산\n",
    "    relevant_retrieved = sum(1 for doc_id in top_k_retrieved if doc_id in ground_truth_list)\n",
    "    \n",
    "    # Recall = 관련 문서 수 / 전체 관련 문서 수\n",
    "    if len(ground_truth_list) == 0:\n",
    "        return 0.0\n",
    "    \n",
    "    return relevant_retrieved / len(ground_truth_list)\n",
    "\n",
    "\n",
    "def calculate_all_metrics(retrieved_doc_ids, ground_truth_ids, k=None):\n",
    "    \"\"\"\n",
    "    모든 메트릭을 한 번에 계산\n",
    "    \"\"\"\n",
    "    return {\n",
    "        \"correctness\": calculate_retrieval_correctness(retrieved_doc_ids, ground_truth_ids),\n",
    "        \"recall_at_k\": calculate_recall_at_k(retrieved_doc_ids, ground_truth_ids, k)\n",
    "    }\n",
    "\n",
    "print(\"확장된 Retrieval 메트릭 계산 함수들 정의 완료\")\n"
   ]
  },
  {
   "cell_type": "code",
   "execution_count": 15,
   "id": "442442d5",
   "metadata": {},
   "outputs": [
    {
     "name": "stdout",
     "output_type": "stream",
     "text": [
      "총 20개의 쿼리에 대해 쿼리 기반 하이브리드 검색 평가를 시작합니다...\n"
     ]
    },
    {
     "name": "stderr",
     "output_type": "stream",
     "text": [
      "쿼리 하이브리드 검색 평가:   0%|          | 0/20 [00:00<?, ?it/s]"
     ]
    },
    {
     "name": "stdout",
     "output_type": "stream",
     "text": [
      "\n",
      "[1/20] 처리 중: 제 여자친구가 체포되어 이민 구금 센터에 있습니다. 지금 급여를 받지 못하고 있는데, 태국...\n",
      "사용할 쿼리: [{'$search': {'index': 'text', 'compound': {'should': [{'text': {'query': ['임금체불', '체불임금', '급여 미지급', '임금 청구'], 'path': ['title', 'contents'], 'fuzzy': {'maxEdits': 1, 'prefixLength': 2}}}, {'phrase': {'query': '임금 체불', 'path': 'title', 'slop': 2}}], 'minimumShouldMatch': 1}, 'highlight': {'path': ['title', 'contents']}}}, {'$project': {'_id': 1, 'title': 1, 'contents': 1, 'url': 1, 'score': {'$meta': 'searchScore'}, 'highlights': {'$meta': 'searchHighlights'}}}, {'$limit': 20}]\n",
      "검색된 문서 수: 20\n",
      "Correctness: 1\n",
      "Recall@k: 0.571\n"
     ]
    },
    {
     "name": "stderr",
     "output_type": "stream",
     "text": [
      "쿼리 하이브리드 검색 평가:   5%|▌         | 1/20 [00:12<03:58, 12.56s/it]"
     ]
    },
    {
     "name": "stdout",
     "output_type": "stream",
     "text": [
      "\n",
      "[2/20] 처리 중: 저는 건설 현장에서 일하고 있지만, 사장이 급여를 지급하지 않았습니다. 제 계좌가 압류될 ...\n",
      "사용할 쿼리: [{'$search': {'index': 'text', 'compound': {'should': [{'text': {'query': ['임금체불', '급여 미지급', '계좌 압류', '임금 청구'], 'path': ['title', 'contents'], 'fuzzy': {'maxEdits': 1, 'prefixLength': 2}}}, {'phrase': {'query': '임금 체불', 'path': 'title', 'slop': 2}}], 'minimumShouldMatch': 1}, 'highlight': {'path': ['title', 'contents']}}}, {'$project': {'_id': 1, 'title': 1, 'contents': 1, 'url': 1, 'score': {'$meta': 'searchScore'}, 'highlights': {'$meta': 'searchHighlights'}}}, {'$limit': 20}]\n",
      "검색된 문서 수: 20\n",
      "Correctness: 1\n",
      "Recall@k: 0.312\n"
     ]
    },
    {
     "name": "stderr",
     "output_type": "stream",
     "text": [
      "쿼리 하이브리드 검색 평가:  10%|█         | 2/20 [00:23<03:32, 11.83s/it]"
     ]
    },
    {
     "name": "stdout",
     "output_type": "stream",
     "text": [
      "\n",
      "[3/20] 처리 중: 안녕하세요, 저는 필리핀에서 온 근로자입니다. 5년 동안 일했으며 이제 제 나라로 돌아가고...\n",
      "사용할 쿼리: [{'$search': {'index': 'text', 'compound': {'should': [{'text': {'query': ['임금체불', '체불임금', '급여 미지급', '임금 청구'], 'path': ['title', 'contents'], 'fuzzy': {'maxEdits': 1, 'prefixLength': 2}}}, {'phrase': {'query': '급여 회수', 'path': 'title', 'slop': 2}}], 'minimumShouldMatch': 1}, 'highlight': {'path': ['title', 'contents']}}}, {'$project': {'_id': 1, 'title': 1, 'contents': 1, 'url': 1, 'score': {'$meta': 'searchScore'}, 'highlights': {'$meta': 'searchHighlights'}}}, {'$limit': 20}]\n",
      "검색된 문서 수: 20\n",
      "Correctness: 1\n",
      "Recall@k: 1.000\n"
     ]
    },
    {
     "name": "stderr",
     "output_type": "stream",
     "text": [
      "쿼리 하이브리드 검색 평가:  15%|█▌        | 3/20 [00:36<03:24, 12.00s/it]"
     ]
    },
    {
     "name": "stdout",
     "output_type": "stream",
     "text": [
      "\n",
      "[4/20] 처리 중: 제가 직장 변경을 신청한 후, 불법 체류자가 될 수 있다는 편지를 받았습니다. 8월 22일...\n",
      "사용할 쿼리: [{'$search': {'index': 'text', 'compound': {'should': [{'text': {'query': ['불법 체류', '추방', '비자 문제', '체류 허가'], 'path': ['title', 'contents'], 'fuzzy': {'maxEdits': 1, 'prefixLength': 2}}}, {'phrase': {'query': '불법 체류', 'path': 'title', 'slop': 2}}], 'minimumShouldMatch': 1}, 'highlight': {'path': ['title', 'contents']}}}, {'$project': {'_id': 1, 'title': 1, 'contents': 1, 'url': 1, 'score': {'$meta': 'searchScore'}, 'highlights': {'$meta': 'searchHighlights'}}}, {'$limit': 20}]\n",
      "검색된 문서 수: 20\n",
      "Correctness: 0\n",
      "Recall@k: 0.000\n"
     ]
    },
    {
     "name": "stderr",
     "output_type": "stream",
     "text": [
      "쿼리 하이브리드 검색 평가:  20%|██        | 4/20 [00:46<03:03, 11.49s/it]"
     ]
    },
    {
     "name": "stdout",
     "output_type": "stream",
     "text": [
      "\n",
      "[5/20] 처리 중: 저는 중간에 퇴사했지만, 소득세 체납 때문에 비자를 연장할 수 없습니다. 관련 통지 내용을...\n",
      "사용할 쿼리: [{'$search': {'index': 'text', 'compound': {'should': [{'text': {'query': ['소득세 체납', '비자 연장', '퇴사', '통지 내용'], 'path': ['title', 'contents'], 'fuzzy': {'maxEdits': 1, 'prefixLength': 2}}}, {'phrase': {'query': '소득세 체납', 'path': 'title', 'slop': 2}}], 'minimumShouldMatch': 1}, 'highlight': {'path': ['title', 'contents']}}}, {'$project': {'_id': 1, 'title': 1, 'contents': 1, 'url': 1, 'score': {'$meta': 'searchScore'}, 'highlights': {'$meta': 'searchHighlights'}}}, {'$limit': 20}]\n",
      "검색된 문서 수: 20\n",
      "Correctness: 1\n",
      "Recall@k: 0.667\n"
     ]
    },
    {
     "name": "stderr",
     "output_type": "stream",
     "text": [
      "쿼리 하이브리드 검색 평가:  25%|██▌       | 5/20 [00:57<02:48, 11.27s/it]"
     ]
    },
    {
     "name": "stdout",
     "output_type": "stream",
     "text": [
      "\n",
      "[6/20] 처리 중: 회사가 갑자기 더 이상 출근하지 말라고 해서, 제가 체류 자격을 잃을 수 있습니다. 어떻게...\n",
      "사용할 쿼리: [{'$search': {'index': 'text', 'compound': {'should': [{'text': {'query': ['체류 자격', '비자 문제', '이민 상담', '체류 허가'], 'path': ['title', 'contents'], 'fuzzy': {'maxEdits': 1, 'prefixLength': 2}}}, {'phrase': {'query': '체류 자격', 'path': 'title', 'slop': 2}}], 'minimumShouldMatch': 1}, 'highlight': {'path': ['title', 'contents']}}}, {'$project': {'_id': 1, 'title': 1, 'contents': 1, 'url': 1, 'score': {'$meta': 'searchScore'}, 'highlights': {'$meta': 'searchHighlights'}}}, {'$limit': 20}]\n",
      "검색된 문서 수: 20\n",
      "Correctness: 1\n",
      "Recall@k: 0.375\n"
     ]
    },
    {
     "name": "stderr",
     "output_type": "stream",
     "text": [
      "쿼리 하이브리드 검색 평가:  30%|███       | 6/20 [01:08<02:35, 11.09s/it]"
     ]
    },
    {
     "name": "stdout",
     "output_type": "stream",
     "text": [
      "\n",
      "[7/20] 처리 중: 저는 건설 산업에서 일하는 외국인 노동자입니다. 어떤 경우에 작업 중 사고로 간주되는지 알...\n",
      "사용할 쿼리: [{'$search': {'index': 'text', 'compound': {'should': [{'text': {'query': ['작업 중 사고', '산업 재해', '보상', '외국인 노동자'], 'path': ['title', 'contents'], 'fuzzy': {'maxEdits': 1, 'prefixLength': 2}}}, {'phrase': {'query': '작업 중 사고', 'path': 'title', 'slop': 2}}], 'minimumShouldMatch': 1}, 'highlight': {'path': ['title', 'contents']}}}, {'$project': {'_id': 1, 'title': 1, 'contents': 1, 'url': 1, 'score': {'$meta': 'searchScore'}, 'highlights': {'$meta': 'searchHighlights'}}}, {'$limit': 20}]\n",
      "검색된 문서 수: 20\n",
      "Correctness: 1\n",
      "Recall@k: 0.200\n"
     ]
    },
    {
     "name": "stderr",
     "output_type": "stream",
     "text": [
      "쿼리 하이브리드 검색 평가:  35%|███▌      | 7/20 [01:24<02:43, 12.57s/it]"
     ]
    },
    {
     "name": "stdout",
     "output_type": "stream",
     "text": [
      "\n",
      "[8/20] 처리 중: 안녕하세요, 저는 베트남에 거주하는 교포입니다. 이번에 특별 노동 허가 제도를 통해 한국에...\n",
      "사용할 쿼리: [{'$search': {'index': 'text', 'compound': {'should': [{'text': {'query': ['특별 노동 허가', '한국 취업 절차', '외국인 노동자', '비자 신청'], 'path': ['title', 'contents'], 'fuzzy': {'maxEdits': 1, 'prefixLength': 2}}}, {'phrase': {'query': '특별 노동 허가 절차', 'path': 'title', 'slop': 2}}], 'minimumShouldMatch': 1}, 'highlight': {'path': ['title', 'contents']}}}, {'$project': {'_id': 1, 'title': 1, 'contents': 1, 'url': 1, 'score': {'$meta': 'searchScore'}, 'highlights': {'$meta': 'searchHighlights'}}}, {'$limit': 20}]\n",
      "검색된 문서 수: 20\n",
      "Correctness: 1\n",
      "Recall@k: 0.133\n"
     ]
    },
    {
     "name": "stderr",
     "output_type": "stream",
     "text": [
      "쿼리 하이브리드 검색 평가:  40%|████      | 8/20 [01:33<02:19, 11.65s/it]"
     ]
    },
    {
     "name": "stdout",
     "output_type": "stream",
     "text": [
      "\n",
      "[9/20] 처리 중: H-2 비자를 가지고 있는데, 현재 고용주를 떠나 다른 직장으로 옮길 수 있는지 궁금합니다...\n",
      "사용할 쿼리: [{'$search': {'index': 'text', 'compound': {'should': [{'text': {'query': ['H-2 비자', '고용주 변경', '직장 이동', '비자 절차'], 'path': ['title', 'contents'], 'fuzzy': {'maxEdits': 1, 'prefixLength': 2}}}, {'phrase': {'query': 'H-2 비자 변경', 'path': 'title', 'slop': 2}}], 'minimumShouldMatch': 1}, 'highlight': {'path': ['title', 'contents']}}}, {'$project': {'_id': 1, 'title': 1, 'contents': 1, 'url': 1, 'score': {'$meta': 'searchScore'}, 'highlights': {'$meta': 'searchHighlights'}}}, {'$limit': 20}]\n",
      "검색된 문서 수: 20\n",
      "Correctness: 1\n",
      "Recall@k: 0.250\n"
     ]
    },
    {
     "name": "stderr",
     "output_type": "stream",
     "text": [
      "쿼리 하이브리드 검색 평가:  45%|████▌     | 9/20 [01:42<01:57, 10.72s/it]"
     ]
    },
    {
     "name": "stdout",
     "output_type": "stream",
     "text": [
      "\n",
      "[10/20] 처리 중: 고용주가 지속적으로 급여를 체불하고 있어 저는 직장을 옮기고 싶습니다....\n",
      "사용할 쿼리: [{'$search': {'index': 'text', 'compound': {'should': [{'text': {'query': ['임금체불', '급여 미지급', '직장 옮기기'], 'path': ['title', 'contents'], 'fuzzy': {'maxEdits': 1, 'prefixLength': 2}}}, {'phrase': {'query': '급여 체불', 'path': 'title', 'slop': 2}}], 'minimumShouldMatch': 1}, 'highlight': {'path': ['title', 'contents']}}}, {'$project': {'_id': 1, 'title': 1, 'contents': 1, 'url': 1, 'score': {'$meta': 'searchScore'}, 'highlights': {'$meta': 'searchHighlights'}}}, {'$limit': 20}]\n",
      "검색된 문서 수: 20\n",
      "Correctness: 0\n",
      "Recall@k: 0.000\n"
     ]
    },
    {
     "name": "stderr",
     "output_type": "stream",
     "text": [
      "쿼리 하이브리드 검색 평가:  50%|█████     | 10/20 [01:53<01:47, 10.78s/it]"
     ]
    },
    {
     "name": "stdout",
     "output_type": "stream",
     "text": [
      "\n",
      "[11/20] 처리 중: 실업급여를 받고 있는 중에 조기 재취업을 하면 '조기 재취업 수당'을 받을 수 있다고 들었...\n",
      "사용할 쿼리: [{'$search': {'index': 'text', 'compound': {'should': [{'text': {'query': ['조기 재취업 수당', '재취업 조건', '근무 기간', '지급 제한'], 'path': ['title', 'contents'], 'fuzzy': {'maxEdits': 1, 'prefixLength': 2}}}, {'phrase': {'query': '조기 재취업', 'path': 'title', 'slop': 2}}], 'minimumShouldMatch': 1}, 'highlight': {'path': ['title', 'contents']}}}, {'$project': {'_id': 1, 'title': 1, 'contents': 1, 'url': 1, 'score': {'$meta': 'searchScore'}, 'highlights': {'$meta': 'searchHighlights'}}}, {'$limit': 20}]\n",
      "검색된 문서 수: 20\n",
      "Correctness: 0\n",
      "Recall@k: 0.000\n"
     ]
    },
    {
     "name": "stderr",
     "output_type": "stream",
     "text": [
      "쿼리 하이브리드 검색 평가:  55%|█████▌    | 11/20 [02:05<01:40, 11.17s/it]"
     ]
    },
    {
     "name": "stdout",
     "output_type": "stream",
     "text": [
      "\n",
      "[12/20] 처리 중: E9 비전 소지 비전문 외국인 노동자가 근무하는 사업장이 폐업하거나 임금 체불 등의 이유로...\n",
      "사용할 쿼리: [{'$search': {'index': 'text', 'compound': {'should': [{'text': {'query': ['E9 비자', '근무지 변경', '임금 체불', '사업장 폐업'], 'path': ['title', 'contents'], 'fuzzy': {'maxEdits': 1, 'prefixLength': 2}}}, {'phrase': {'query': 'E9 비자 근무지 변경', 'path': 'title', 'slop': 2}}], 'minimumShouldMatch': 1}, 'highlight': {'path': ['title', 'contents']}}}, {'$project': {'_id': 1, 'title': 1, 'contents': 1, 'url': 1, 'score': {'$meta': 'searchScore'}, 'highlights': {'$meta': 'searchHighlights'}}}, {'$limit': 20}]\n",
      "검색된 문서 수: 20\n",
      "Correctness: 1\n",
      "Recall@k: 0.750\n"
     ]
    },
    {
     "name": "stderr",
     "output_type": "stream",
     "text": [
      "쿼리 하이브리드 검색 평가:  60%|██████    | 12/20 [02:10<01:14,  9.30s/it]"
     ]
    },
    {
     "name": "stdout",
     "output_type": "stream",
     "text": [
      "\n",
      "[13/20] 처리 중: 고용 계약이 종료된 후, 새로운 직장을 찾고 싶다면 언제까지 고용 센터에 신청서를 제출해야...\n",
      "사용할 쿼리: [{'$search': {'index': 'text', 'compound': {'should': [{'text': {'query': ['고용 계약 종료', '직장 변경', '신청서 제출 기한', '새로운 직장 찾기'], 'path': ['title', 'contents'], 'fuzzy': {'maxEdits': 1, 'prefixLength': 2}}}, {'phrase': {'query': '고용 센터 신청', 'path': 'title', 'slop': 2}}], 'minimumShouldMatch': 1}, 'highlight': {'path': ['title', 'contents']}}}, {'$project': {'_id': 1, 'title': 1, 'contents': 1, 'url': 1, 'score': {'$meta': 'searchScore'}, 'highlights': {'$meta': 'searchHighlights'}}}, {'$limit': 20}]\n",
      "검색된 문서 수: 20\n",
      "Correctness: 1\n",
      "Recall@k: 0.500\n"
     ]
    },
    {
     "name": "stderr",
     "output_type": "stream",
     "text": [
      "쿼리 하이브리드 검색 평가:  65%|██████▌   | 13/20 [02:17<01:00,  8.59s/it]"
     ]
    },
    {
     "name": "stdout",
     "output_type": "stream",
     "text": [
      "\n",
      "[14/20] 처리 중: E-9 비자를 가진 외국인 노동자가 근무 조건이 노동 계약과 다르다고 주장할 경우, 이는 ...\n",
      "사용할 쿼리: [{'$search': {'index': 'text', 'compound': {'should': [{'text': {'query': ['E-9 비자', '근무 조건', '노동 계약', '근무지 변경'], 'path': ['title', 'contents'], 'fuzzy': {'maxEdits': 1, 'prefixLength': 2}}}, {'phrase': {'query': '근무 조건 불일치', 'path': 'title', 'slop': 2}}], 'minimumShouldMatch': 1}, 'highlight': {'path': ['title', 'contents']}}}, {'$project': {'_id': 1, 'title': 1, 'contents': 1, 'url': 1, 'score': {'$meta': 'searchScore'}, 'highlights': {'$meta': 'searchHighlights'}}}, {'$limit': 20}]\n",
      "검색된 문서 수: 20\n",
      "Correctness: 1\n",
      "Recall@k: 1.000\n"
     ]
    },
    {
     "name": "stderr",
     "output_type": "stream",
     "text": [
      "쿼리 하이브리드 검색 평가:  70%|███████   | 14/20 [02:28<00:56,  9.41s/it]"
     ]
    },
    {
     "name": "stdout",
     "output_type": "stream",
     "text": [
      "\n",
      "[15/20] 처리 중: 비자 만료 전에 연장을 신청하고 싶습니다. 어떤 기관에 가야 하며 온라인으로도 신청할 수 ...\n",
      "사용할 쿼리: [{'$search': {'index': 'text', 'compound': {'should': [{'text': {'query': ['비자 연장', '비자 신청', '비자 만료', '온라인 신청'], 'path': ['title', 'contents'], 'fuzzy': {'maxEdits': 1, 'prefixLength': 2}}}, {'phrase': {'query': '비자 연장 신청', 'path': 'title', 'slop': 2}}], 'minimumShouldMatch': 1}, 'highlight': {'path': ['title', 'contents']}}}, {'$project': {'_id': 1, 'title': 1, 'contents': 1, 'url': 1, 'score': {'$meta': 'searchScore'}, 'highlights': {'$meta': 'searchHighlights'}}}, {'$limit': 20}]\n",
      "검색된 문서 수: 20\n",
      "Correctness: 1\n",
      "Recall@k: 1.000\n"
     ]
    },
    {
     "name": "stderr",
     "output_type": "stream",
     "text": [
      "쿼리 하이브리드 검색 평가:  75%|███████▌  | 15/20 [02:36<00:44,  8.89s/it]"
     ]
    },
    {
     "name": "stdout",
     "output_type": "stream",
     "text": [
      "\n",
      "[16/20] 처리 중: 만약 세금이나 건강 보험 기여금이 미납된 경우 비자를 갱신할 수 있나요? 그리고 만약 채무...\n",
      "사용할 쿼리: [{'$search': {'index': 'text', 'compound': {'should': [{'text': {'query': ['비자 갱신', '세금 미납', '건강 보험', '처벌'], 'path': ['title', 'contents'], 'fuzzy': {'maxEdits': 1, 'prefixLength': 2}}}, {'phrase': {'query': '비자 갱신', 'path': 'title', 'slop': 2}}], 'minimumShouldMatch': 1}, 'highlight': {'path': ['title', 'contents']}}}, {'$project': {'_id': 1, 'title': 1, 'contents': 1, 'url': 1, 'score': {'$meta': 'searchScore'}, 'highlights': {'$meta': 'searchHighlights'}}}, {'$limit': 20}]\n",
      "검색된 문서 수: 20\n",
      "Correctness: 1\n",
      "Recall@k: 1.000\n"
     ]
    },
    {
     "name": "stderr",
     "output_type": "stream",
     "text": [
      "쿼리 하이브리드 검색 평가:  80%|████████  | 16/20 [02:47<00:37,  9.46s/it]"
     ]
    },
    {
     "name": "stdout",
     "output_type": "stream",
     "text": [
      "\n",
      "[17/20] 처리 중: 이 과정에서 부상을 입고 병원에서 치료를 받아야 하는 경우, 만약 고용주가 산업재해 보험에...\n",
      "사용할 쿼리: [{'$search': {'index': 'text', 'compound': {'should': [{'text': {'query': ['산업재해 보상', '부상 보상', '고용주 보험 미가입', '부상 치료'], 'path': ['title', 'contents'], 'fuzzy': {'maxEdits': 1, 'prefixLength': 2}}}, {'phrase': {'query': '부상 보상', 'path': 'title', 'slop': 2}}], 'minimumShouldMatch': 1}, 'highlight': {'path': ['title', 'contents']}}}, {'$project': {'_id': 1, 'title': 1, 'contents': 1, 'url': 1, 'score': {'$meta': 'searchScore'}, 'highlights': {'$meta': 'searchHighlights'}}}, {'$limit': 20}]\n",
      "검색된 문서 수: 20\n",
      "Correctness: 1\n",
      "Recall@k: 0.500\n"
     ]
    },
    {
     "name": "stderr",
     "output_type": "stream",
     "text": [
      "쿼리 하이브리드 검색 평가:  85%|████████▌ | 17/20 [02:54<00:26,  8.96s/it]"
     ]
    },
    {
     "name": "stdout",
     "output_type": "stream",
     "text": [
      "\n",
      "[18/20] 처리 중: 근무 중 전염병에 감염되었을 때, 이를 직업병으로 인정하기 위해 어떤 기준이 사용되나요?...\n",
      "사용할 쿼리: [{'$search': {'index': 'text', 'compound': {'should': [{'text': {'query': ['직업병', '감염병', '근무 중 감염', '전염병'], 'path': ['title', 'contents'], 'fuzzy': {'maxEdits': 1, 'prefixLength': 2}}}, {'phrase': {'query': '직업병 기준', 'path': 'title', 'slop': 2}}], 'minimumShouldMatch': 1}, 'highlight': {'path': ['title', 'contents']}}}, {'$project': {'_id': 1, 'title': 1, 'contents': 1, 'url': 1, 'score': {'$meta': 'searchScore'}, 'highlights': {'$meta': 'searchHighlights'}}}, {'$limit': 20}]\n",
      "검색된 문서 수: 20\n",
      "Correctness: 1\n",
      "Recall@k: 1.000\n"
     ]
    },
    {
     "name": "stderr",
     "output_type": "stream",
     "text": [
      "쿼리 하이브리드 검색 평가:  90%|█████████ | 18/20 [03:05<00:18,  9.36s/it]"
     ]
    },
    {
     "name": "stdout",
     "output_type": "stream",
     "text": [
      "\n",
      "[19/20] 처리 중: 출국 만기 보험금을 신청하려면 어떤 자격 조건을 충족해야 하나요? 언제부터 신청할 수 있나...\n",
      "사용할 쿼리: [{'$search': {'index': 'text', 'compound': {'should': [{'text': {'query': ['출국 보험금', '만기 보험금', '보험금 신청 자격', '보험금 신청 시기'], 'path': ['title', 'contents'], 'fuzzy': {'maxEdits': 1, 'prefixLength': 2}}}, {'phrase': {'query': '보험금 신청', 'path': 'title', 'slop': 2}}], 'minimumShouldMatch': 1}, 'highlight': {'path': ['title', 'contents']}}}, {'$project': {'_id': 1, 'title': 1, 'contents': 1, 'url': 1, 'score': {'$meta': 'searchScore'}, 'highlights': {'$meta': 'searchHighlights'}}}, {'$limit': 20}]\n",
      "검색된 문서 수: 20\n",
      "Correctness: 1\n",
      "Recall@k: 0.500\n"
     ]
    },
    {
     "name": "stderr",
     "output_type": "stream",
     "text": [
      "쿼리 하이브리드 검색 평가:  95%|█████████▌| 19/20 [03:11<00:08,  8.47s/it]"
     ]
    },
    {
     "name": "stdout",
     "output_type": "stream",
     "text": [
      "\n",
      "[20/20] 처리 중: 내 고국으로 돌아갈 때, 언제부터 귀국 비용 보험을 신청할 수 있으며, 어떤 서류를 준비해...\n",
      "사용할 쿼리: [{'$search': {'index': 'text', 'compound': {'should': [{'text': {'query': ['귀국 비용 보험', '보험 신청', '서류 준비', '귀국 절차'], 'path': ['title', 'contents'], 'fuzzy': {'maxEdits': 1, 'prefixLength': 2}}}, {'phrase': {'query': '귀국 비용 보험', 'path': 'title', 'slop': 2}}], 'minimumShouldMatch': 1}, 'highlight': {'path': ['title', 'contents']}}}, {'$project': {'_id': 1, 'title': 1, 'contents': 1, 'url': 1, 'score': {'$meta': 'searchScore'}, 'highlights': {'$meta': 'searchHighlights'}}}, {'$limit': 20}]\n",
      "검색된 문서 수: 20\n",
      "Correctness: 1\n",
      "Recall@k: 1.000\n"
     ]
    },
    {
     "name": "stderr",
     "output_type": "stream",
     "text": [
      "쿼리 하이브리드 검색 평가: 100%|██████████| 20/20 [03:17<00:00,  9.85s/it]"
     ]
    },
    {
     "name": "stdout",
     "output_type": "stream",
     "text": [
      "\n",
      "=== 키워드 기반 하이브리드 검색 평가 완료! ===\n",
      "평균 Correctness: 0.850\n",
      "평균 Recall@k: 0.538\n"
     ]
    },
    {
     "name": "stderr",
     "output_type": "stream",
     "text": [
      "\n"
     ]
    }
   ],
   "source": [
    "# 안전한 mongo_query 파싱 및 평가 루프 대체\n",
    "import json, ast, time\n",
    "from tqdm import tqdm\n",
    "\n",
    "def parse_mongo_query(query_raw):\n",
    "    # 이미 리스트[dict]\n",
    "    if isinstance(query_raw, list):\n",
    "        return query_raw\n",
    "    # 문자열이면 ast 우선 → json → 마지막으로 단순치환 후 json\n",
    "    if isinstance(query_raw, str):\n",
    "        for parser in (ast.literal_eval, json.loads):\n",
    "            try:\n",
    "                return parser(query_raw)\n",
    "            except Exception:\n",
    "                pass\n",
    "        # 단순 따옴표 치환 시도 (가능한 경우에만)\n",
    "        try:\n",
    "            sanitized = query_raw.replace(\"'\", '\"')\n",
    "            return json.loads(sanitized)\n",
    "        except Exception as e:\n",
    "            raise e\n",
    "    raise ValueError(\"Unsupported mongo_query type: {}\".format(type(query_raw)))\n",
    "\n",
    "# 평가 실행 (기존 변수들 재사용)\n",
    "baseline_results = []\n",
    "retrieved_doc_ids_list = []\n",
    "correctness_scores = []\n",
    "recall_at_k_scores = []\n",
    "\n",
    "print(f\"총 {len(query_df)}개의 쿼리에 대해 쿼리 기반 하이브리드 검색 평가를 시작합니다...\")\n",
    "\n",
    "for idx, row in tqdm(query_df.iterrows(), total=len(query_df), desc=\"쿼리 하이브리드 검색 평가\"): \n",
    "    query_text = row['translated_4o_mini']\n",
    "    ground_truth_ids = row['ground_truth_id']\n",
    "\n",
    "    try:\n",
    "        mongo_query = parse_mongo_query(row['mongo_query_4o_mini'])\n",
    "    except Exception as e:\n",
    "        print(f\"파싱 실패로 해당 샘플 건너뜀: {e}\")\n",
    "        baseline_results.append(\"\")\n",
    "        retrieved_doc_ids_list.append([])\n",
    "        correctness_scores.append(0)\n",
    "        recall_at_k_scores.append(0.0)\n",
    "        continue\n",
    "\n",
    "    print(f\"\\n[{idx+1}/{len(query_df)}] 처리 중: {query_text[:50]}...\")\n",
    "    print(f\"사용할 쿼리: {mongo_query}\")\n",
    "\n",
    "    result = get_query_model_response_with_docs(query_text, mongo_query)\n",
    "\n",
    "    baseline_results.append(result['answer'])\n",
    "    retrieved_doc_ids_list.append(result['retrieved_doc_ids'])\n",
    "\n",
    "    metrics = calculate_all_metrics(result['retrieved_doc_ids'], ground_truth_ids)\n",
    "    correctness_scores.append(metrics['correctness'])\n",
    "    recall_at_k_scores.append(metrics['recall_at_k'])\n",
    "\n",
    "    print(f\"검색된 문서 수: {len(result['retrieved_doc_ids'])}\")\n",
    "    print(f\"Correctness: {metrics['correctness']}\")\n",
    "    print(f\"Recall@k: {metrics['recall_at_k']:.3f}\")\n",
    "\n",
    "    time.sleep(1)\n",
    "\n",
    "print(f\"\\n=== 키워드 기반 하이브리드 검색 평가 완료! ===\")\n",
    "print(f\"평균 Correctness: {sum(correctness_scores) / len(correctness_scores):.3f}\")\n",
    "print(f\"평균 Recall@k: {sum(recall_at_k_scores) / len(recall_at_k_scores):.3f}\")\n"
   ]
  },
  {
   "cell_type": "code",
   "execution_count": 16,
   "id": "8476e107",
   "metadata": {},
   "outputs": [
    {
     "name": "stdout",
     "output_type": "stream",
     "text": [
      "\n",
      "키워드 기반 검색 결과 저장 완료:\n",
      "- answer: 20개\n",
      "- retrieved_doc_ids: 20개\n",
      "- correctness: 20개\n",
      "- recall_at_k: 20개\n",
      "- CSV 파일: ../data/evaluation_results_20250930_191635.csv\n",
      "\n",
      "=== 키워드 기반 하이브리드 검색 평가 결과 요약 ===\n",
      "총 쿼리 수: 20\n",
      "정확한 검색 수: 17\n",
      "평균 Correctness: 0.850 (85.0%)\n",
      "평균 Recall@k: 0.538 (53.8%)\n"
     ]
    }
   ],
   "source": [
    "# 키워드 기반 검색 결과 저장 및 비교 분석\n",
    "import datetime\n",
    "\n",
    "# 데이터프레임에 키워드 기반 검색 결과 추가\n",
    "query_df['answer'] = baseline_results\n",
    "query_df['retrieved_doc_ids'] = retrieved_doc_ids_list\n",
    "query_df['correctness'] = correctness_scores\n",
    "query_df['recall_at_k'] = recall_at_k_scores\n",
    "\n",
    "# 결과 저장\n",
    "timestamp = datetime.datetime.now().strftime(\"%Y%m%d_%H%M%S\")\n",
    "evaluation_csv_filename = f\"../data/evaluation_results_{timestamp}.csv\"\n",
    "query_df.to_csv(evaluation_csv_filename, index=False, encoding='utf-8')\n",
    "\n",
    "print(f\"\\n키워드 기반 검색 결과 저장 완료:\")\n",
    "print(f\"- answer: {len(baseline_results)}개\")\n",
    "print(f\"- retrieved_doc_ids: {len(retrieved_doc_ids_list)}개\") \n",
    "print(f\"- correctness: {len(correctness_scores)}개\")\n",
    "print(f\"- recall_at_k: {len(recall_at_k_scores)}개\")\n",
    "print(f\"- CSV 파일: {evaluation_csv_filename}\")\n",
    "\n",
    "# 평가 결과 상세 요약\n",
    "total_queries = len(query_df)\n",
    "correct_retrievals = sum(correctness_scores)\n",
    "avg_correctness = correct_retrievals / total_queries\n",
    "avg_recall = sum(recall_at_k_scores) / len(recall_at_k_scores)\n",
    "\n",
    "print(f\"\\n=== 키워드 기반 하이브리드 검색 평가 결과 요약 ===\")\n",
    "print(f\"총 쿼리 수: {total_queries}\")\n",
    "print(f\"정확한 검색 수: {correct_retrievals}\")\n",
    "print(f\"평균 Correctness: {avg_correctness:.3f} ({avg_correctness*100:.1f}%)\")\n",
    "print(f\"평균 Recall@k: {avg_recall:.3f} ({avg_recall*100:.1f}%)\")\n"
   ]
  },
  {
   "cell_type": "code",
   "execution_count": null,
   "id": "f4062b2d",
   "metadata": {},
   "outputs": [],
   "source": []
  }
 ],
 "metadata": {
  "kernelspec": {
   "display_name": "helloworld-ai",
   "language": "python",
   "name": "python3"
  },
  "language_info": {
   "codemirror_mode": {
    "name": "ipython",
    "version": 3
   },
   "file_extension": ".py",
   "mimetype": "text/x-python",
   "name": "python",
   "nbconvert_exporter": "python",
   "pygments_lexer": "ipython3",
   "version": "3.11.12"
  }
 },
 "nbformat": 4,
 "nbformat_minor": 5
}
