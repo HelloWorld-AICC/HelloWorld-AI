{
 "cells": [
  {
   "cell_type": "markdown",
   "metadata": {},
   "source": [
    "# Reranking 평가\n",
    "\n",
    "- Cross-encoder 기반 reranker 모듈을 도입하여 성능 향상 평가"
   ]
  },
  {
   "cell_type": "code",
   "execution_count": 1,
   "metadata": {},
   "outputs": [],
   "source": [
    "import os, sys, builtins, logging\n",
    "\n",
    "# repo 루트 기준으로 utils 임포트 가능하도록 경로 추가\n",
    "sys.path.append(os.path.abspath(os.path.join(os.getcwd(), '..')))\n",
    "\n",
    "from utils.logging_setup import setup_logging\n",
    "\n",
    "# UTF-8 파일 핸들러로 로그 초기화 (logs/{timestamp}.log)\n",
    "# print를 직접 로거로 보낼 것이므로 redirect_prints는 False\n",
    "setup_logging(force=True, redirect_prints=False)\n",
    "\n",
    "# print를 로거로 보내되, 기존 콘솔 출력도 유지\n",
    "_original_print = builtins.print\n",
    "\n",
    "def print(*args, **kwargs):  # noqa: A001 (shadow builtins)\n",
    "    message = \" \".join(str(a) for a in args)\n",
    "    logging.info(message)\n",
    "    try:\n",
    "        _original_print(*args, **kwargs)\n",
    "    except Exception:\n",
    "        # 콘솔 출력 실패 시에도 로깅은 유지\n",
    "        pass"
   ]
  },
  {
   "cell_type": "code",
   "execution_count": 2,
   "metadata": {},
   "outputs": [
    {
     "data": {
      "text/plain": [
       "True"
      ]
     },
     "execution_count": 2,
     "metadata": {},
     "output_type": "execute_result"
    }
   ],
   "source": [
    "# OpenAI API 설정 및 라이브러리 import\n",
    "from openai import OpenAI\n",
    "import os, sys\n",
    "from typing import List, Dict\n",
    "import dotenv\n",
    "import sys\n",
    "\n",
    "# 프로젝트 루트 디렉토리를 Python 경로에 추가\n",
    "project_root = os.path.abspath(os.path.join(os.getcwd(), '..'))\n",
    "if project_root not in sys.path:\n",
    "    sys.path.append(project_root)\n",
    "\n",
    "\n",
    "dotenv.load_dotenv()"
   ]
  },
  {
   "cell_type": "code",
   "execution_count": 3,
   "metadata": {},
   "outputs": [],
   "source": [
    "# openai 설정\n",
    "\n",
    "# API 키 설정 (환경변수에서 가져오기)\n",
    "client = OpenAI(\n",
    "    api_key=os.getenv(\"OPENAI_API_KEY\")  # 환경변수에 API 키를 설정해주세요\n",
    ")\n",
    "\n",
    "\n",
    "response_format = {\n",
    "    \"type\": \"json_schema\",          # JSON 스키마 강제 모드\n",
    "    \"json_schema\": {\n",
    "        \"name\": \"translate_result\",\n",
    "        \"schema\": {\n",
    "            \"type\": \"object\",\n",
    "            \"properties\": {\n",
    "                \"translated\": { \"type\": \"string\" },\n",
    "                \"mongo_query\": {\n",
    "                    \"type\": \"array\",\n",
    "                    \"minItems\": 1,\n",
    "                    # 각 stage는 자유형 객체로 허용(예: {\"$search\": {...}}, {\"$project\": {...}})\n",
    "                    \"items\": {\n",
    "                        \"type\": \"object\",\n",
    "                        \"additionalProperties\": True\n",
    "                    }\n",
    "                }\n",
    "            },\n",
    "            \"required\": [\"translated\", \"mongo_query\"],\n",
    "            \"additionalProperties\": False\n",
    "        }\n",
    "    },\n",
    "    # 스키마를 더 엄격히 따르게 함(모델이 스키마 밖 형식을 내보내지 않도록)\n",
    "    \"strict\": True\n",
    "}\n",
    "\n",
    "def chat(\n",
    "    messages: List[Dict[str, str]], \n",
    "    model: str = \"gpt-4o-mini\",\n",
    "    response_format: dict = None,\n",
    "    **kwargs\n",
    ") -> str:\n",
    "    \"\"\"\n",
    "    OpenAI GPT-4o-mini API를 사용하여 채팅 완성을 수행합니다.\n",
    "    \n",
    "    Args:\n",
    "        messages: 대화 메시지 리스트 [{\"role\": \"user\", \"content\": \"메시지\"}]\n",
    "        model: 사용할 모델명 (기본값: gpt-4o-mini)\n",
    "        **kwargs: OpenAI API 매개변수들\n",
    "            - temperature: 창의성 조절 (0.0-2.0, 기본값: 0.7)\n",
    "            - max_tokens: 최대 토큰 수 (기본값: 1000)\n",
    "            - top_p: 확률 임계값 (기본값: 0.95)\n",
    "            - frequency_penalty: 빈도 페널티 (기본값: 0.0)\n",
    "            - presence_penalty: 존재 페널티 (기본값: 0.0)\n",
    "            - stream: 스트리밍 여부 (기본값: False)\n",
    "            - 기타 OpenAI API가 지원하는 모든 매개변수\n",
    "        \n",
    "    Returns:\n",
    "        GPT 응답 텍스트\n",
    "    \"\"\"\n",
    "    # 기본값 설정\n",
    "    default_params = {\n",
    "        \"temperature\": 0.1,\n",
    "        \"max_tokens\": 2048,\n",
    "        \"top_p\": 0.95,\n",
    "        \"frequency_penalty\": 0.0,\n",
    "        \"presence_penalty\": 0.0\n",
    "    }\n",
    "    \n",
    "    # 기본값과 사용자 입력 병합\n",
    "    params = {**default_params, **kwargs}\n",
    "    \n",
    "    try:\n",
    "        response = client.chat.completions.create(\n",
    "            model=model,\n",
    "            messages=messages,\n",
    "            response_format=response_format,\n",
    "            **params\n",
    "        )\n",
    "        \n",
    "        return response.choices[0].message.content\n",
    "        \n",
    "    except Exception as e:\n",
    "        print(f\"API 호출 중 오류 발생: {e}\")\n",
    "        return None\n"
   ]
  },
  {
   "cell_type": "code",
   "execution_count": 4,
   "metadata": {},
   "outputs": [
    {
     "name": "stdout",
     "output_type": "stream",
     "text": [
      "==================================================\n",
      "MongoDB 연결 테스트 시작\n",
      "==================================================\n",
      "🔗 MongoDB 클라이언트 연결 완료\n",
      "✅ MongoDB 연결 성공!\n",
      "🎯 현재 데이터베이스: HelloWorld-AI\n",
      "🎯 타겟 컬렉션: foreigner_legalQA_v3\n",
      "📈 문서 개수: 867\n",
      "==================================================\n",
      "✅ MongoDB 연결 테스트 완료!\n",
      "==================================================\n"
     ]
    }
   ],
   "source": [
    "# MongoDB 연결 테스트\n",
    "import json\n",
    "import os\n",
    "import pymongo\n",
    "from pymongo import MongoClient\n",
    "import dotenv\n",
    "\n",
    "dotenv.load_dotenv()\n",
    "\n",
    "print(\"=\" * 50)\n",
    "print(\"MongoDB 연결 테스트 시작\")\n",
    "print(\"=\" * 50)\n",
    "\n",
    "# 설정 파일 로드\n",
    "with open('../configs/config.json', 'r', encoding='utf-8') as f:\n",
    "    config = json.load(f)\n",
    "\n",
    "# MongoDB 클라이언트 연결\n",
    "mongodb_client = MongoClient(os.getenv(\"MONGODB_URI\"))\n",
    "print(\"🔗 MongoDB 클라이언트 연결 완료\")\n",
    "\n",
    "try:\n",
    "    mongodb_client.admin.command('ping')\n",
    "    print(\"✅ MongoDB 연결 성공!\")\n",
    "    \n",
    "    current_db = mongodb_client[config['path']['db_name']]\n",
    "    target_collection = current_db[config['path']['collection_name']]\n",
    "    \n",
    "    print(f\"🎯 현재 데이터베이스: {config['path']['db_name']}\")\n",
    "    print(f\"🎯 타겟 컬렉션: {config['path']['collection_name']}\")\n",
    "    \n",
    "    # 컬렉션 통계 정보\n",
    "    stats = current_db.command(\"collStats\", config['path']['collection_name'])\n",
    "    print(f\"📈 문서 개수: {stats['count']:,}\")\n",
    "    \n",
    "    print(\"=\" * 50)\n",
    "    print(\"✅ MongoDB 연결 테스트 완료!\")\n",
    "    print(\"=\" * 50)\n",
    "    \n",
    "except Exception as e:\n",
    "    print(f\"❌ 오류: {e}\")"
   ]
  },
  {
   "cell_type": "markdown",
   "metadata": {},
   "source": [
    "## 실험 2 파이프라인 기반"
   ]
  },
  {
   "cell_type": "code",
   "execution_count": 5,
   "metadata": {},
   "outputs": [
    {
     "data": {
      "text/html": [
       "<div>\n",
       "<style scoped>\n",
       "    .dataframe tbody tr th:only-of-type {\n",
       "        vertical-align: middle;\n",
       "    }\n",
       "\n",
       "    .dataframe tbody tr th {\n",
       "        vertical-align: top;\n",
       "    }\n",
       "\n",
       "    .dataframe thead th {\n",
       "        text-align: right;\n",
       "    }\n",
       "</style>\n",
       "<table border=\"1\" class=\"dataframe\">\n",
       "  <thead>\n",
       "    <tr style=\"text-align: right;\">\n",
       "      <th></th>\n",
       "      <th>query</th>\n",
       "      <th>translated_query</th>\n",
       "      <th>언어</th>\n",
       "      <th>ground_truth_id</th>\n",
       "      <th>category</th>\n",
       "      <th>source</th>\n",
       "      <th>작성자</th>\n",
       "      <th>비고</th>\n",
       "      <th>소스</th>\n",
       "      <th>translated_4o_mini</th>\n",
       "      <th>mongo_query_4o_mini</th>\n",
       "    </tr>\n",
       "  </thead>\n",
       "  <tbody>\n",
       "    <tr>\n",
       "      <th>0</th>\n",
       "      <td>제 여자친구가 단속으로 출입국 보호소에 있습니다. 월급이 아직 들어오지 않았는데, ...</td>\n",
       "      <td>แฟนของผมถูกจับกุมและอยู่ที่ศูนย์กักตัวตรวจคนเข...</td>\n",
       "      <td>태국어</td>\n",
       "      <td>['689b3a86ffd306c1cd3c09a4', '689b3a86ffd306c1...</td>\n",
       "      <td>임금체불</td>\n",
       "      <td>경기도외국인지원센터_상담사례</td>\n",
       "      <td>황예원</td>\n",
       "      <td>NaN</td>\n",
       "      <td>https://gmhr.or.kr/case/1529?sca=%EC%9E%84%EA%...</td>\n",
       "      <td>제 여자친구가 체포되어 이민 구금 센터에 있습니다. 지금 급여를 받지 못하고 있는데...</td>\n",
       "      <td>[{'$search': {'index': 'text', 'compound': {'s...</td>\n",
       "    </tr>\n",
       "    <tr>\n",
       "      <th>1</th>\n",
       "      <td>안녕하세요, 건설 현장에서 일하고 있는 사람인데, 사장님이 월급을 안줘서 계좌가 압...</td>\n",
       "      <td>你好，我是在建筑工地工作的，但老板没有发工资，我的账户可能会被查封。遇到这种情况该怎么办呢？</td>\n",
       "      <td>중국어</td>\n",
       "      <td>['689b3a86ffd306c1cd3c06e8', '689b3a86ffd306c1...</td>\n",
       "      <td>임금체불</td>\n",
       "      <td>경기도외국인지원센터_상담사례</td>\n",
       "      <td>황예원</td>\n",
       "      <td>임금체불 및 \"압류방지 통장\" (=임금채권 전용통장) 관련 데이터 필요</td>\n",
       "      <td>https://gmhr.or.kr/case/1493?sca=%EC%9E%84%EA%...</td>\n",
       "      <td>안녕하세요, 저는 건설 현장에서 일하고 있지만 사장이 급여를 지급하지 않았습니다. ...</td>\n",
       "      <td>[{'$search': {'index': 'text', 'compound': {'s...</td>\n",
       "    </tr>\n",
       "    <tr>\n",
       "      <th>2</th>\n",
       "      <td>안녕하세요, 저는 필리핀에서 온 노동자입니다. 5년 동안 근무를 하고 이제 제 나라...</td>\n",
       "      <td>Magandang araw, ako ay isang manggagawang mula...</td>\n",
       "      <td>필리핀어 (타갈로그어)</td>\n",
       "      <td>['689b3a86ffd306c1cd3c09a4']</td>\n",
       "      <td>임금체불</td>\n",
       "      <td>경기도외국인지원센터_상담사례</td>\n",
       "      <td>황예원</td>\n",
       "      <td>체당금 관련 데이터 필요</td>\n",
       "      <td>https://gmhr.or.kr/case/1667?sca=%EC%9E%84%EA%...</td>\n",
       "      <td>안녕하세요, 저는 필리핀에서 온 근로자입니다. 5년 동안 일했는데 이제 고국으로 돌...</td>\n",
       "      <td>[{'$search': {'index': 'text', 'compound': {'s...</td>\n",
       "    </tr>\n",
       "    <tr>\n",
       "      <th>3</th>\n",
       "      <td>사업장 변경 신청 이후 제가 불법체류자가 될 수 있다는 우편이 날아왔어요. 8월 2...</td>\n",
       "      <td>在申请变更工作单位之后，我收到了一封信，说我可能会变成非法滞留者。只被允许停留到8月22日，...</td>\n",
       "      <td>중국어</td>\n",
       "      <td>['689b3a86ffd306c1cd3c0680', '689b3a86ffd306c1...</td>\n",
       "      <td>체류자격</td>\n",
       "      <td>경기도외국인지원센터_상담사례</td>\n",
       "      <td>황예원</td>\n",
       "      <td>NaN</td>\n",
       "      <td>https://gmhr.or.kr/case/1679?sca=%EC%B2%B4%EB%...</td>\n",
       "      <td>직장 변경 신청 후, 불법 체류자가 될 수 있다는 편지를 받았습니다. 8월 22일까...</td>\n",
       "      <td>[{'$search': {'index': 'text', 'compound': {'s...</td>\n",
       "    </tr>\n",
       "    <tr>\n",
       "      <th>4</th>\n",
       "      <td>제가 중간에 퇴직을 하게 되었는데, 소득세가 체납되어 비자 연장이 안된대요. 그런데...</td>\n",
       "      <td>我中途离职了，但是因为拖欠所得税，签证无法延期。可是我听不懂相关的通知内容。</td>\n",
       "      <td>중국어</td>\n",
       "      <td>['689b3a86ffd306c1cd3c08f8', '689b3a86ffd306c1...</td>\n",
       "      <td>체류자격</td>\n",
       "      <td>경기도외국인지원센터_상담사례</td>\n",
       "      <td>황예원</td>\n",
       "      <td>NaN</td>\n",
       "      <td>https://gmhr.or.kr/case/1703?sca=%EC%B2%B4%EB%...</td>\n",
       "      <td>저는 중간에 퇴사했지만, 소득세 체납 때문에 비자를 연장할 수 없습니다. 관련 통지...</td>\n",
       "      <td>[{'$search': {'index': 'text', 'compound': {'s...</td>\n",
       "    </tr>\n",
       "  </tbody>\n",
       "</table>\n",
       "</div>"
      ],
      "text/plain": [
       "                                               query  \\\n",
       "0  제 여자친구가 단속으로 출입국 보호소에 있습니다. 월급이 아직 들어오지 않았는데, ...   \n",
       "1  안녕하세요, 건설 현장에서 일하고 있는 사람인데, 사장님이 월급을 안줘서 계좌가 압...   \n",
       "2  안녕하세요, 저는 필리핀에서 온 노동자입니다. 5년 동안 근무를 하고 이제 제 나라...   \n",
       "3  사업장 변경 신청 이후 제가 불법체류자가 될 수 있다는 우편이 날아왔어요. 8월 2...   \n",
       "4  제가 중간에 퇴직을 하게 되었는데, 소득세가 체납되어 비자 연장이 안된대요. 그런데...   \n",
       "\n",
       "                                    translated_query            언어  \\\n",
       "0  แฟนของผมถูกจับกุมและอยู่ที่ศูนย์กักตัวตรวจคนเข...           태국어   \n",
       "1     你好，我是在建筑工地工作的，但老板没有发工资，我的账户可能会被查封。遇到这种情况该怎么办呢？           중국어   \n",
       "2  Magandang araw, ako ay isang manggagawang mula...  필리핀어 (타갈로그어)   \n",
       "3  在申请变更工作单位之后，我收到了一封信，说我可能会变成非法滞留者。只被允许停留到8月22日，...           중국어   \n",
       "4             我中途离职了，但是因为拖欠所得税，签证无法延期。可是我听不懂相关的通知内容。           중국어   \n",
       "\n",
       "                                     ground_truth_id category  \\\n",
       "0  ['689b3a86ffd306c1cd3c09a4', '689b3a86ffd306c1...     임금체불   \n",
       "1  ['689b3a86ffd306c1cd3c06e8', '689b3a86ffd306c1...     임금체불   \n",
       "2                       ['689b3a86ffd306c1cd3c09a4']     임금체불   \n",
       "3  ['689b3a86ffd306c1cd3c0680', '689b3a86ffd306c1...     체류자격   \n",
       "4  ['689b3a86ffd306c1cd3c08f8', '689b3a86ffd306c1...     체류자격   \n",
       "\n",
       "            source  작성자                                       비고  \\\n",
       "0  경기도외국인지원센터_상담사례  황예원                                      NaN   \n",
       "1  경기도외국인지원센터_상담사례  황예원  임금체불 및 \"압류방지 통장\" (=임금채권 전용통장) 관련 데이터 필요   \n",
       "2  경기도외국인지원센터_상담사례  황예원                            체당금 관련 데이터 필요   \n",
       "3  경기도외국인지원센터_상담사례  황예원                                      NaN   \n",
       "4  경기도외국인지원센터_상담사례  황예원                                      NaN   \n",
       "\n",
       "                                                  소스  \\\n",
       "0  https://gmhr.or.kr/case/1529?sca=%EC%9E%84%EA%...   \n",
       "1  https://gmhr.or.kr/case/1493?sca=%EC%9E%84%EA%...   \n",
       "2  https://gmhr.or.kr/case/1667?sca=%EC%9E%84%EA%...   \n",
       "3  https://gmhr.or.kr/case/1679?sca=%EC%B2%B4%EB%...   \n",
       "4  https://gmhr.or.kr/case/1703?sca=%EC%B2%B4%EB%...   \n",
       "\n",
       "                                  translated_4o_mini  \\\n",
       "0  제 여자친구가 체포되어 이민 구금 센터에 있습니다. 지금 급여를 받지 못하고 있는데...   \n",
       "1  안녕하세요, 저는 건설 현장에서 일하고 있지만 사장이 급여를 지급하지 않았습니다. ...   \n",
       "2  안녕하세요, 저는 필리핀에서 온 근로자입니다. 5년 동안 일했는데 이제 고국으로 돌...   \n",
       "3  직장 변경 신청 후, 불법 체류자가 될 수 있다는 편지를 받았습니다. 8월 22일까...   \n",
       "4  저는 중간에 퇴사했지만, 소득세 체납 때문에 비자를 연장할 수 없습니다. 관련 통지...   \n",
       "\n",
       "                                 mongo_query_4o_mini  \n",
       "0  [{'$search': {'index': 'text', 'compound': {'s...  \n",
       "1  [{'$search': {'index': 'text', 'compound': {'s...  \n",
       "2  [{'$search': {'index': 'text', 'compound': {'s...  \n",
       "3  [{'$search': {'index': 'text', 'compound': {'s...  \n",
       "4  [{'$search': {'index': 'text', 'compound': {'s...  "
      ]
     },
     "execution_count": 5,
     "metadata": {},
     "output_type": "execute_result"
    }
   ],
   "source": [
    "import os, sys\n",
    "import pandas as pd\n",
    "\n",
    "# 프로젝트 루트 디렉토리를 Python 경로에 추가\n",
    "project_root = os.path.abspath(os.path.join(os.getcwd(), '..'))\n",
    "if project_root not in sys.path:\n",
    "    sys.path.append(project_root)\n",
    "\n",
    "query_df = pd.read_csv(\"../data/helloworld_test_query_with_translation_query_20251014_000434.csv\")\n",
    "query_df.head()"
   ]
  },
  {
   "cell_type": "code",
   "execution_count": 6,
   "metadata": {},
   "outputs": [
    {
     "name": "stderr",
     "output_type": "stream",
     "text": [
      "c:\\Users\\hwyew\\Downloads\\HelloWorld-AI\\.venv\\Lib\\site-packages\\tqdm\\auto.py:21: TqdmWarning: IProgress not found. Please update jupyter and ipywidgets. See https://ipywidgets.readthedocs.io/en/stable/user_install.html\n",
      "  from .autonotebook import tqdm as notebook_tqdm\n",
      "Xet Storage is enabled for this repo, but the 'hf_xet' package is not installed. Falling back to regular HTTP download. For better performance, install the package with: `pip install huggingface_hub[hf_xet]` or `pip install hf_xet`\n",
      "Xet Storage is enabled for this repo, but the 'hf_xet' package is not installed. Falling back to regular HTTP download. For better performance, install the package with: `pip install huggingface_hub[hf_xet]` or `pip install hf_xet`\n",
      "Xet Storage is enabled for this repo, but the 'hf_xet' package is not installed. Falling back to regular HTTP download. For better performance, install the package with: `pip install huggingface_hub[hf_xet]` or `pip install hf_xet`\n"
     ]
    },
    {
     "name": "stdout",
     "output_type": "stream",
     "text": [
      "Reranking 기반 하이브리드 검색 모델 설정 완료\n",
      "Reranker 모델: Dongjin-kr/ko-reranker\n",
      "후보 문서 수: 30\n",
      "최종 반환 문서 수: 20\n",
      "쿼리 기반 하이브리드 검색 모델 설정 완료\n",
      "쿼리 기반 검색 함수 정의 완료\n"
     ]
    }
   ],
   "source": [
    "# Reranking 모델 설정\n",
    "from Azure.reranking_model import ChatModel\n",
    "from dotenv import load_dotenv\n",
    "\n",
    "load_dotenv()\n",
    "with open('../configs/config.json', 'r', encoding='utf-8') as f:\n",
    "    config = json.load(f)\n",
    "    \n",
    "# Reranking 모델 인스턴스 생성\n",
    "reranking_chat_model = ChatModel(config)\n",
    "\n",
    "print(\"Reranking 기반 하이브리드 검색 모델 설정 완료\")\n",
    "print(f\"Reranker 모델: {config['reranker_config']['model']}\")\n",
    "print(f\"후보 문서 수: {config['reranker_config']['numCandidates']}\")\n",
    "print(f\"최종 반환 문서 수: {config['chat_config']['top_k']}\")\n",
    "\n",
    "print(\"쿼리 기반 하이브리드 검색 모델 설정 완료\")\n",
    "\n",
    "# 키워드 기반 검색 함수\n",
    "def get_query_model_response_with_docs(query_text, mongo_query):\n",
    "    \"\"\"\n",
    "    키워드 기반 하이브리드 검색 모델로부터 답변을 생성하고 검색된 문서들의 인덱스를 반환\n",
    "    \"\"\"\n",
    "    try:\n",
    "        # 빈 대화 히스토리로 시작\n",
    "        conversation_history = []\n",
    "        \n",
    "        # 키워드 기반 모델 답변 생성\n",
    "        response = reranking_chat_model.generate_ai_response(\n",
    "            conversation_history, \n",
    "            query_text, \n",
    "            target_collection, \n",
    "            mongo_query=mongo_query\n",
    "        )\n",
    "        \n",
    "        return {\n",
    "            \"answer\": response[\"answer\"],\n",
    "            \"retrieved_doc_ids\": response[\"retrieved_doc_ids\"],\n",
    "            \"retrieved_docs\": response[\"retrieved_docs\"]\n",
    "        }\n",
    "        \n",
    "    except Exception as e:\n",
    "        print(f\"오류 발생: {e}\")\n",
    "        return {\n",
    "            \"answer\": \"\",\n",
    "            \"retrieved_doc_ids\": [],\n",
    "            \"retrieved_docs\": []\n",
    "        }\n",
    "\n",
    "print(\"쿼리 기반 검색 함수 정의 완료\")\n"
   ]
  },
  {
   "cell_type": "code",
   "execution_count": 7,
   "metadata": {},
   "outputs": [
    {
     "name": "stdout",
     "output_type": "stream",
     "text": [
      "Retrieval Correctness 계산 함수 정의 완료\n",
      "확장된 Retrieval 메트릭 계산 함수들 정의 완료\n"
     ]
    }
   ],
   "source": [
    "# Retrieval Correctness 계산 함수\n",
    "def calculate_retrieval_correctness(retrieved_doc_ids, ground_truth_ids):\n",
    "    \"\"\"\n",
    "    검색된 문서 ID들과 ground truth ID들을 비교하여 correctness 계산\n",
    "    \"\"\"\n",
    "    if not retrieved_doc_ids or not ground_truth_ids:\n",
    "        return 0\n",
    "    \n",
    "    # ground_truth_ids가 문자열 리스트인 경우 처리\n",
    "    if isinstance(ground_truth_ids, str):\n",
    "        try:\n",
    "            # 문자열을 리스트로 변환 (예: \"['id1', 'id2']\" -> ['id1', 'id2'])\n",
    "            import ast\n",
    "            ground_truth_list = ast.literal_eval(ground_truth_ids)\n",
    "        except:\n",
    "            ground_truth_list = [ground_truth_ids]\n",
    "    else:\n",
    "        ground_truth_list = ground_truth_ids\n",
    "    \n",
    "    # 검색된 문서 중 하나라도 ground truth에 있으면 1, 아니면 0\n",
    "    for doc_id in retrieved_doc_ids:\n",
    "        if doc_id in ground_truth_list:\n",
    "            return 1\n",
    "    \n",
    "    return 0\n",
    "\n",
    "print(\"Retrieval Correctness 계산 함수 정의 완료\")\n",
    "\n",
    "# 확장된 Retrieval 메트릭 계산 함수들\n",
    "def calculate_recall_at_k(retrieved_doc_ids, ground_truth_ids, k=None):\n",
    "    \"\"\"\n",
    "    Recall@k 계산: 검색된 문서 중 관련 문서의 비율\n",
    "    \"\"\"\n",
    "    if not retrieved_doc_ids or not ground_truth_ids:\n",
    "        return 0.0\n",
    "    \n",
    "    # ground_truth_ids가 문자열 리스트인 경우 처리\n",
    "    if isinstance(ground_truth_ids, str):\n",
    "        try:\n",
    "            import ast\n",
    "            ground_truth_list = ast.literal_eval(ground_truth_ids)\n",
    "        except:\n",
    "            ground_truth_list = [ground_truth_ids]\n",
    "    else:\n",
    "        ground_truth_list = ground_truth_ids\n",
    "    \n",
    "    # k가 지정되지 않으면 검색된 문서 수만큼 사용\n",
    "    if k is None:\n",
    "        k = len(retrieved_doc_ids)\n",
    "    \n",
    "    # 상위 k개 문서만 고려\n",
    "    top_k_retrieved = retrieved_doc_ids[:k]\n",
    "    \n",
    "    # 관련 문서 수 계산\n",
    "    relevant_retrieved = sum(1 for doc_id in top_k_retrieved if doc_id in ground_truth_list)\n",
    "    \n",
    "    # Recall = 관련 문서 수 / 전체 관련 문서 수\n",
    "    if len(ground_truth_list) == 0:\n",
    "        return 0.0\n",
    "    \n",
    "    return relevant_retrieved / len(ground_truth_list)\n",
    "\n",
    "\n",
    "def calculate_all_metrics(retrieved_doc_ids, ground_truth_ids, k=None):\n",
    "    \"\"\"\n",
    "    모든 메트릭을 한 번에 계산\n",
    "    \"\"\"\n",
    "    return {\n",
    "        \"correctness\": calculate_retrieval_correctness(retrieved_doc_ids, ground_truth_ids),\n",
    "        \"recall_at_k\": calculate_recall_at_k(retrieved_doc_ids, ground_truth_ids, k)\n",
    "    }\n",
    "\n",
    "print(\"확장된 Retrieval 메트릭 계산 함수들 정의 완료\")\n"
   ]
  },
  {
   "cell_type": "code",
   "execution_count": 8,
   "metadata": {},
   "outputs": [
    {
     "name": "stdout",
     "output_type": "stream",
     "text": [
      "총 20개의 쿼리에 대해 쿼리 기반 하이브리드 검색 평가를 시작합니다...\n"
     ]
    },
    {
     "name": "stderr",
     "output_type": "stream",
     "text": [
      "쿼리 하이브리드 검색 평가:   0%|          | 0/20 [00:00<?, ?it/s]"
     ]
    },
    {
     "name": "stdout",
     "output_type": "stream",
     "text": [
      "\n",
      "[1/20] 처리 중: 제 여자친구가 체포되어 이민 구금 센터에 있습니다. 지금 급여를 받지 못하고 있는데, 태국...\n",
      "사용할 쿼리: [{'$search': {'index': 'text', 'compound': {'should': [{'text': {'query': ['임금체불', '체불임금', '급여 미지급', '임금 청구'], 'path': ['title', 'contents'], 'fuzzy': {'maxEdits': 1, 'prefixLength': 2}}}, {'phrase': {'query': '임금 체불', 'path': 'title', 'slop': 2}}], 'minimumShouldMatch': 1}, 'highlight': {'path': ['title', 'contents']}}}, {'$project': {'_id': 1, 'title': 1, 'contents': 1, 'url': 1, 'score': {'$meta': 'searchScore'}, 'highlights': {'$meta': 'searchHighlights'}}}, {'$limit': 20}]\n",
      "검색된 문서 수: 20\n",
      "Correctness: 1\n",
      "Recall@k: 0.786\n"
     ]
    },
    {
     "name": "stderr",
     "output_type": "stream",
     "text": [
      "쿼리 하이브리드 검색 평가:   5%|▌         | 1/20 [00:26<08:31, 26.94s/it]"
     ]
    },
    {
     "name": "stdout",
     "output_type": "stream",
     "text": [
      "\n",
      "[2/20] 처리 중: 안녕하세요, 저는 건설 현장에서 일하고 있지만 사장이 급여를 지급하지 않았습니다. 제 계좌...\n",
      "사용할 쿼리: [{'$search': {'index': 'text', 'compound': {'should': [{'text': {'query': ['임금체불', '급여 미지급', '임금 청구', '계좌 압류'], 'path': ['title', 'contents'], 'fuzzy': {'maxEdits': 1, 'prefixLength': 2}}}, {'phrase': {'query': '임금 체불', 'path': 'title', 'slop': 2}}], 'minimumShouldMatch': 1}, 'highlight': {'path': ['title', 'contents']}}}, {'$project': {'_id': 1, 'title': 1, 'contents': 1, 'url': 1, 'score': {'$meta': 'searchScore'}, 'highlights': {'$meta': 'searchHighlights'}}}, {'$limit': 20}]\n",
      "검색된 문서 수: 20\n",
      "Correctness: 1\n",
      "Recall@k: 0.500\n"
     ]
    },
    {
     "name": "stderr",
     "output_type": "stream",
     "text": [
      "쿼리 하이브리드 검색 평가:  10%|█         | 2/20 [00:52<07:54, 26.35s/it]"
     ]
    },
    {
     "name": "stdout",
     "output_type": "stream",
     "text": [
      "\n",
      "[3/20] 처리 중: 안녕하세요, 저는 필리핀에서 온 근로자입니다. 5년 동안 일했는데 이제 고국으로 돌아가려고...\n",
      "사용할 쿼리: [{'$search': {'index': 'text', 'compound': {'should': [{'text': {'query': ['임금체불', '체불임금', '급여 미지급', '임금 청구'], 'path': ['title', 'contents'], 'fuzzy': {'maxEdits': 1, 'prefixLength': 2}}}, {'phrase': {'query': '급여 회수', 'path': 'title', 'slop': 2}}], 'minimumShouldMatch': 1}, 'highlight': {'path': ['title', 'contents']}}}, {'$project': {'_id': 1, 'title': 1, 'contents': 1, 'url': 1, 'score': {'$meta': 'searchScore'}, 'highlights': {'$meta': 'searchHighlights'}}}, {'$limit': 20}]\n",
      "검색된 문서 수: 20\n",
      "Correctness: 1\n",
      "Recall@k: 1.000\n"
     ]
    },
    {
     "name": "stderr",
     "output_type": "stream",
     "text": [
      "쿼리 하이브리드 검색 평가:  15%|█▌        | 3/20 [01:17<07:12, 25.41s/it]"
     ]
    },
    {
     "name": "stdout",
     "output_type": "stream",
     "text": [
      "\n",
      "[4/20] 처리 중: 직장 변경 신청 후, 불법 체류자가 될 수 있다는 편지를 받았습니다. 8월 22일까지만 체...\n",
      "사용할 쿼리: [{'$search': {'index': 'text', 'compound': {'should': [{'text': {'query': ['불법 체류', '체류 허가', '추방', '비자 문제'], 'path': ['title', 'contents'], 'fuzzy': {'maxEdits': 1, 'prefixLength': 2}}}, {'phrase': {'query': '불법 체류', 'path': 'title', 'slop': 2}}], 'minimumShouldMatch': 1}, 'highlight': {'path': ['title', 'contents']}}}, {'$project': {'_id': 1, 'title': 1, 'contents': 1, 'url': 1, 'score': {'$meta': 'searchScore'}, 'highlights': {'$meta': 'searchHighlights'}}}, {'$limit': 20}]\n",
      "검색된 문서 수: 20\n",
      "Correctness: 0\n",
      "Recall@k: 0.000\n"
     ]
    },
    {
     "name": "stderr",
     "output_type": "stream",
     "text": [
      "쿼리 하이브리드 검색 평가:  20%|██        | 4/20 [01:39<06:24, 24.00s/it]"
     ]
    },
    {
     "name": "stdout",
     "output_type": "stream",
     "text": [
      "\n",
      "[5/20] 처리 중: 저는 중간에 퇴사했지만, 소득세 체납 때문에 비자를 연장할 수 없습니다. 관련 통지 내용을...\n",
      "사용할 쿼리: [{'$search': {'index': 'text', 'compound': {'should': [{'text': {'query': ['소득세 체납', '비자 연장', '퇴사', '통지 내용'], 'path': ['title', 'contents'], 'fuzzy': {'maxEdits': 1, 'prefixLength': 2}}}, {'phrase': {'query': '소득세 체납', 'path': 'title', 'slop': 2}}], 'minimumShouldMatch': 1}, 'highlight': {'path': ['title', 'contents']}}}, {'$project': {'_id': 1, 'title': 1, 'contents': 1, 'url': 1, 'score': {'$meta': 'searchScore'}, 'highlights': {'$meta': 'searchHighlights'}}}, {'$limit': 20}]\n",
      "검색된 문서 수: 20\n",
      "Correctness: 1\n",
      "Recall@k: 0.667\n"
     ]
    },
    {
     "name": "stderr",
     "output_type": "stream",
     "text": [
      "쿼리 하이브리드 검색 평가:  25%|██▌       | 5/20 [02:00<05:46, 23.13s/it]"
     ]
    },
    {
     "name": "stdout",
     "output_type": "stream",
     "text": [
      "\n",
      "[6/20] 처리 중: 회사가 갑자기 더 이상 출근하지 말라고 해서, 제가 체류 자격을 잃을 수 있습니다. 어떻게...\n",
      "사용할 쿼리: [{'$search': {'index': 'text', 'compound': {'should': [{'text': {'query': ['체류 자격', '비자 문제', '체류 허가', '이민 상담'], 'path': ['title', 'contents'], 'fuzzy': {'maxEdits': 1, 'prefixLength': 2}}}, {'phrase': {'query': '체류 자격', 'path': 'title', 'slop': 2}}], 'minimumShouldMatch': 1}, 'highlight': {'path': ['title', 'contents']}}}, {'$project': {'_id': 1, 'title': 1, 'contents': 1, 'url': 1, 'score': {'$meta': 'searchScore'}, 'highlights': {'$meta': 'searchHighlights'}}}, {'$limit': 20}]\n",
      "검색된 문서 수: 20\n",
      "Correctness: 1\n",
      "Recall@k: 0.500\n"
     ]
    },
    {
     "name": "stderr",
     "output_type": "stream",
     "text": [
      "쿼리 하이브리드 검색 평가:  30%|███       | 6/20 [02:22<05:16, 22.61s/it]"
     ]
    },
    {
     "name": "stdout",
     "output_type": "stream",
     "text": [
      "\n",
      "[7/20] 처리 중: 저는 건설 산업에서 일하는 외국인 노동자입니다. 어떤 경우에 작업 중 사고로 간주되는지 알...\n",
      "사용할 쿼리: [{'$search': {'index': 'text', 'compound': {'should': [{'text': {'query': ['작업 중 사고', '산업 재해', '보상 금액', '외국인 노동자'], 'path': ['title', 'contents'], 'fuzzy': {'maxEdits': 1, 'prefixLength': 2}}}, {'phrase': {'query': '작업 중 사고', 'path': 'title', 'slop': 2}}], 'minimumShouldMatch': 1}, 'highlight': {'path': ['title', 'contents']}}}, {'$project': {'_id': 1, 'title': 1, 'contents': 1, 'url': 1, 'score': {'$meta': 'searchScore'}, 'highlights': {'$meta': 'searchHighlights'}}}, {'$limit': 20}]\n",
      "검색된 문서 수: 20\n",
      "Correctness: 1\n",
      "Recall@k: 0.400\n"
     ]
    },
    {
     "name": "stderr",
     "output_type": "stream",
     "text": [
      "쿼리 하이브리드 검색 평가:  35%|███▌      | 7/20 [02:46<05:01, 23.18s/it]"
     ]
    },
    {
     "name": "stdout",
     "output_type": "stream",
     "text": [
      "\n",
      "[8/20] 처리 중: 안녕하세요, 저는 베트남에 거주하는 교포입니다. 이번에 특별 노동 허가 제도를 통해 한국에...\n",
      "사용할 쿼리: [{'$search': {'index': 'text', 'compound': {'should': [{'text': {'query': ['특별 노동 허가', '노동 허가 절차', '한국 취업', '비자 신청'], 'path': ['title', 'contents'], 'fuzzy': {'maxEdits': 1, 'prefixLength': 2}}}, {'phrase': {'query': '노동 허가 절차', 'path': 'title', 'slop': 2}}], 'minimumShouldMatch': 1}, 'highlight': {'path': ['title', 'contents']}}}, {'$project': {'_id': 1, 'title': 1, 'contents': 1, 'url': 1, 'score': {'$meta': 'searchScore'}, 'highlights': {'$meta': 'searchHighlights'}}}, {'$limit': 20}]\n",
      "검색된 문서 수: 20\n",
      "Correctness: 1\n",
      "Recall@k: 0.267\n"
     ]
    },
    {
     "name": "stderr",
     "output_type": "stream",
     "text": [
      "쿼리 하이브리드 검색 평가:  40%|████      | 8/20 [03:08<04:35, 22.92s/it]"
     ]
    },
    {
     "name": "stdout",
     "output_type": "stream",
     "text": [
      "\n",
      "[9/20] 처리 중: 저는 H-2 비자를 가지고 있는데, 현재 고용주를 떠나 다른 직장으로 옮길 수 있는지 궁금...\n",
      "사용할 쿼리: [{'$search': {'index': 'text', 'compound': {'should': [{'text': {'query': ['H-2 비자', '고용주 변경', '직장 이동', '비자 절차'], 'path': ['title', 'contents'], 'fuzzy': {'maxEdits': 1, 'prefixLength': 2}}}, {'phrase': {'query': 'H-2 비자 고용주 변경', 'path': 'title', 'slop': 2}}], 'minimumShouldMatch': 1}, 'highlight': {'path': ['title', 'contents']}}}, {'$project': {'_id': 1, 'title': 1, 'contents': 1, 'url': 1, 'score': {'$meta': 'searchScore'}, 'highlights': {'$meta': 'searchHighlights'}}}, {'$limit': 20}]\n",
      "검색된 문서 수: 20\n",
      "Correctness: 1\n",
      "Recall@k: 0.250\n"
     ]
    },
    {
     "name": "stderr",
     "output_type": "stream",
     "text": [
      "쿼리 하이브리드 검색 평가:  45%|████▌     | 9/20 [03:32<04:12, 22.99s/it]"
     ]
    },
    {
     "name": "stdout",
     "output_type": "stream",
     "text": [
      "\n",
      "[10/20] 처리 중: 고용주가 지속적으로 임금을 체불하여 저는 직장을 옮기고 싶습니다....\n",
      "사용할 쿼리: [{'$search': {'index': 'text', 'compound': {'should': [{'text': {'query': ['임금체불', '체불임금', '급여 미지급'], 'path': ['title', 'contents'], 'fuzzy': {'maxEdits': 1, 'prefixLength': 2}}}, {'phrase': {'query': '임금 체불', 'path': 'title', 'slop': 2}}], 'minimumShouldMatch': 1}, 'highlight': {'path': ['title', 'contents']}}}, {'$project': {'_id': 1, 'title': 1, 'contents': 1, 'url': 1, 'score': {'$meta': 'searchScore'}, 'highlights': {'$meta': 'searchHighlights'}}}, {'$limit': 20}]\n",
      "검색된 문서 수: 20\n",
      "Correctness: 0\n",
      "Recall@k: 0.000\n"
     ]
    },
    {
     "name": "stderr",
     "output_type": "stream",
     "text": [
      "쿼리 하이브리드 검색 평가:  50%|█████     | 10/20 [03:58<04:00, 24.01s/it]"
     ]
    },
    {
     "name": "stdout",
     "output_type": "stream",
     "text": [
      "\n",
      "[11/20] 처리 중: 실업급여를 받는 도중에 조기 재취업을 하면 '조기 재취업 수당'을 받을 수 있다고 들었습니...\n",
      "사용할 쿼리: [{'$search': {'index': 'text', 'compound': {'should': [{'text': {'query': ['조기 재취업 수당', '재취업 조건', '근무 기간', '지급 제한'], 'path': ['title', 'contents'], 'fuzzy': {'maxEdits': 1, 'prefixLength': 2}}}, {'phrase': {'query': '조기 재취업', 'path': 'title', 'slop': 2}}], 'minimumShouldMatch': 1}, 'highlight': {'path': ['title', 'contents']}}}, {'$project': {'_id': 1, 'title': 1, 'contents': 1, 'url': 1, 'score': {'$meta': 'searchScore'}, 'highlights': {'$meta': 'searchHighlights'}}}, {'$limit': 20}]\n",
      "검색된 문서 수: 20\n",
      "Correctness: 0\n",
      "Recall@k: 0.000\n"
     ]
    },
    {
     "name": "stderr",
     "output_type": "stream",
     "text": [
      "쿼리 하이브리드 검색 평가:  55%|█████▌    | 11/20 [04:20<03:29, 23.32s/it]"
     ]
    },
    {
     "name": "stdout",
     "output_type": "stream",
     "text": [
      "\n",
      "[12/20] 처리 중: E9 비자 소지 비전문 외국인 노동자가 근무하는 사업장이 휴업하거나 임금 체불 등의 이유로...\n",
      "사용할 쿼리: [{'$search': {'index': 'text', 'compound': {'should': [{'text': {'query': ['E9 비자', '근무지 변경', '비전문 외국인 노동자', '임금 체불'], 'path': ['title', 'contents'], 'fuzzy': {'maxEdits': 1, 'prefixLength': 2}}}, {'phrase': {'query': '근무지 변경', 'path': 'title', 'slop': 2}}], 'minimumShouldMatch': 1}, 'highlight': {'path': ['title', 'contents']}}}, {'$project': {'_id': 1, 'title': 1, 'contents': 1, 'url': 1, 'score': {'$meta': 'searchScore'}, 'highlights': {'$meta': 'searchHighlights'}}}, {'$limit': 20}]\n",
      "검색된 문서 수: 20\n",
      "Correctness: 1\n",
      "Recall@k: 1.000\n"
     ]
    },
    {
     "name": "stderr",
     "output_type": "stream",
     "text": [
      "쿼리 하이브리드 검색 평가:  60%|██████    | 12/20 [04:40<02:59, 22.41s/it]"
     ]
    },
    {
     "name": "stdout",
     "output_type": "stream",
     "text": [
      "\n",
      "[13/20] 처리 중: 근로계약이 종료된 후, 새로운 직장을 원할 경우 언제까지 고용 센터에 신청서를 제출해야 하...\n",
      "사용할 쿼리: [{'$search': {'index': 'text', 'compound': {'should': [{'text': {'query': ['근로계약 종료', '고용 센터 신청', '직장 변경', '신청서 제출 기한'], 'path': ['title', 'contents'], 'fuzzy': {'maxEdits': 1, 'prefixLength': 2}}}, {'phrase': {'query': '직장 변경', 'path': 'title', 'slop': 2}}], 'minimumShouldMatch': 1}, 'highlight': {'path': ['title', 'contents']}}}, {'$project': {'_id': 1, 'title': 1, 'contents': 1, 'url': 1, 'score': {'$meta': 'searchScore'}, 'highlights': {'$meta': 'searchHighlights'}}}, {'$limit': 20}]\n",
      "검색된 문서 수: 20\n",
      "Correctness: 1\n",
      "Recall@k: 0.500\n"
     ]
    },
    {
     "name": "stderr",
     "output_type": "stream",
     "text": [
      "쿼리 하이브리드 검색 평가:  65%|██████▌   | 13/20 [05:00<02:31, 21.66s/it]"
     ]
    },
    {
     "name": "stdout",
     "output_type": "stream",
     "text": [
      "\n",
      "[14/20] 처리 중: E-9 비자를 가진 외국인 노동자가 근무 조건이 노동 계약과 다르다고 주장할 경우, 이러한...\n",
      "사용할 쿼리: [{'$search': {'index': 'text', 'compound': {'should': [{'text': {'query': ['E-9 비자', '근무 조건', '노동 계약', '근무지 변경'], 'path': ['title', 'contents'], 'fuzzy': {'maxEdits': 1, 'prefixLength': 2}}}, {'phrase': {'query': '근무 조건 변경', 'path': 'title', 'slop': 2}}], 'minimumShouldMatch': 1}, 'highlight': {'path': ['title', 'contents']}}}, {'$project': {'_id': 1, 'title': 1, 'contents': 1, 'url': 1, 'score': {'$meta': 'searchScore'}, 'highlights': {'$meta': 'searchHighlights'}}}, {'$limit': 20}]\n",
      "검색된 문서 수: 20\n",
      "Correctness: 1\n",
      "Recall@k: 1.000\n"
     ]
    },
    {
     "name": "stderr",
     "output_type": "stream",
     "text": [
      "쿼리 하이브리드 검색 평가:  70%|███████   | 14/20 [05:23<02:12, 22.15s/it]"
     ]
    },
    {
     "name": "stdout",
     "output_type": "stream",
     "text": [
      "\n",
      "[15/20] 처리 중: 비자 만료 전에 연장을 신청하고 싶습니다. 어떤 기관에 가야 하며 온라인으로도 신청할 수 ...\n",
      "사용할 쿼리: [{'$search': {'index': 'text', 'compound': {'should': [{'text': {'query': ['비자 연장', '비자 신청', '비자 만료', '온라인 신청'], 'path': ['title', 'contents'], 'fuzzy': {'maxEdits': 1, 'prefixLength': 2}}}, {'phrase': {'query': '비자 연장 신청', 'path': 'title', 'slop': 2}}], 'minimumShouldMatch': 1}, 'highlight': {'path': ['title', 'contents']}}}, {'$project': {'_id': 1, 'title': 1, 'contents': 1, 'url': 1, 'score': {'$meta': 'searchScore'}, 'highlights': {'$meta': 'searchHighlights'}}}, {'$limit': 20}]\n",
      "검색된 문서 수: 20\n",
      "Correctness: 1\n",
      "Recall@k: 1.000\n"
     ]
    },
    {
     "name": "stderr",
     "output_type": "stream",
     "text": [
      "쿼리 하이브리드 검색 평가:  75%|███████▌  | 15/20 [05:43<01:46, 21.38s/it]"
     ]
    },
    {
     "name": "stdout",
     "output_type": "stream",
     "text": [
      "\n",
      "[16/20] 처리 중: 세금이나 건강 보험 기여금이 미납된 경우 비자 갱신이 가능한가요? 만약 빚이 있다면 어떤 ...\n",
      "사용할 쿼리: [{'$search': {'index': 'text', 'compound': {'should': [{'text': {'query': ['비자 갱신', '세금 미납', '건강 보험', '처벌'], 'path': ['title', 'contents'], 'fuzzy': {'maxEdits': 1, 'prefixLength': 2}}}, {'phrase': {'query': '비자 갱신', 'path': 'title', 'slop': 2}}], 'minimumShouldMatch': 1}, 'highlight': {'path': ['title', 'contents']}}}, {'$project': {'_id': 1, 'title': 1, 'contents': 1, 'url': 1, 'score': {'$meta': 'searchScore'}, 'highlights': {'$meta': 'searchHighlights'}}}, {'$limit': 20}]\n",
      "검색된 문서 수: 20\n",
      "Correctness: 1\n",
      "Recall@k: 1.000\n"
     ]
    },
    {
     "name": "stderr",
     "output_type": "stream",
     "text": [
      "쿼리 하이브리드 검색 평가:  80%|████████  | 16/20 [06:03<01:23, 20.95s/it]"
     ]
    },
    {
     "name": "stdout",
     "output_type": "stream",
     "text": [
      "\n",
      "[17/20] 처리 중: 이 과정에서 부상을 입고 병원에서 치료를 받아야 하는 경우, 만약 고용주가 산업재해 보험에...\n",
      "사용할 쿼리: [{'$search': {'index': 'text', 'compound': {'should': [{'text': {'query': ['산업재해 보상', '부상 보상', '고용주 보험', '사고 보상'], 'path': ['title', 'contents'], 'fuzzy': {'maxEdits': 1, 'prefixLength': 2}}}, {'phrase': {'query': '부상 보상', 'path': 'title', 'slop': 2}}], 'minimumShouldMatch': 1}, 'highlight': {'path': ['title', 'contents']}}}, {'$project': {'_id': 1, 'title': 1, 'contents': 1, 'url': 1, 'score': {'$meta': 'searchScore'}, 'highlights': {'$meta': 'searchHighlights'}}}, {'$limit': 20}]\n",
      "검색된 문서 수: 20\n",
      "Correctness: 1\n",
      "Recall@k: 0.500\n"
     ]
    },
    {
     "name": "stderr",
     "output_type": "stream",
     "text": [
      "쿼리 하이브리드 검색 평가:  85%|████████▌ | 17/20 [06:25<01:04, 21.50s/it]"
     ]
    },
    {
     "name": "stdout",
     "output_type": "stream",
     "text": [
      "\n",
      "[18/20] 처리 중: 근무 중 전염병에 감염되었을 때, 이를 직업병으로 인정하기 위해 어떤 기준이 사용되나요?...\n",
      "사용할 쿼리: [{'$search': {'index': 'text', 'compound': {'should': [{'text': {'query': ['직업병', '감염병', '근무 중 감염', '전염병'], 'path': ['title', 'contents'], 'fuzzy': {'maxEdits': 1, 'prefixLength': 2}}}, {'phrase': {'query': '직업병 기준', 'path': 'title', 'slop': 2}}], 'minimumShouldMatch': 1}, 'highlight': {'path': ['title', 'contents']}}}, {'$project': {'_id': 1, 'title': 1, 'contents': 1, 'url': 1, 'score': {'$meta': 'searchScore'}, 'highlights': {'$meta': 'searchHighlights'}}}, {'$limit': 20}]\n",
      "검색된 문서 수: 20\n",
      "Correctness: 1\n",
      "Recall@k: 1.000\n"
     ]
    },
    {
     "name": "stderr",
     "output_type": "stream",
     "text": [
      "쿼리 하이브리드 검색 평가:  90%|█████████ | 18/20 [06:46<00:42, 21.33s/it]"
     ]
    },
    {
     "name": "stdout",
     "output_type": "stream",
     "text": [
      "\n",
      "[19/20] 처리 중: 해외 출국 만기 보험금을 신청하려면 어떤 자격 조건을 충족해야 하나요? 언제부터 신청할 수...\n",
      "사용할 쿼리: [{'$search': {'index': 'text', 'compound': {'should': [{'text': {'query': ['해외 출국 보험금', '보험금 신청 자격', '만기 보험금', '신청 시기'], 'path': ['title', 'contents'], 'fuzzy': {'maxEdits': 1, 'prefixLength': 2}}}, {'phrase': {'query': '보험금 신청', 'path': 'title', 'slop': 2}}], 'minimumShouldMatch': 1}, 'highlight': {'path': ['title', 'contents']}}}, {'$project': {'_id': 1, 'title': 1, 'contents': 1, 'url': 1, 'score': {'$meta': 'searchScore'}, 'highlights': {'$meta': 'searchHighlights'}}}, {'$limit': 20}]\n",
      "검색된 문서 수: 20\n",
      "Correctness: 1\n",
      "Recall@k: 0.500\n"
     ]
    },
    {
     "name": "stderr",
     "output_type": "stream",
     "text": [
      "쿼리 하이브리드 검색 평가:  95%|█████████▌| 19/20 [07:05<00:20, 20.60s/it]"
     ]
    },
    {
     "name": "stdout",
     "output_type": "stream",
     "text": [
      "\n",
      "[20/20] 처리 중: 내 고국으로 돌아갈 때, 언제부터 귀국 비용 보험을 신청할 수 있으며, 어떤 서류를 준비해...\n",
      "사용할 쿼리: [{'$search': {'index': 'text', 'compound': {'should': [{'text': {'query': ['귀국 비용 보험', '보험 신청', '서류 준비', '귀국 절차'], 'path': ['title', 'contents'], 'fuzzy': {'maxEdits': 1, 'prefixLength': 2}}}, {'phrase': {'query': '귀국 비용 보험', 'path': 'title', 'slop': 2}}], 'minimumShouldMatch': 1}, 'highlight': {'path': ['title', 'contents']}}}, {'$project': {'_id': 1, 'title': 1, 'contents': 1, 'url': 1, 'score': {'$meta': 'searchScore'}, 'highlights': {'$meta': 'searchHighlights'}}}, {'$limit': 20}]\n",
      "검색된 문서 수: 20\n",
      "Correctness: 1\n",
      "Recall@k: 1.000\n"
     ]
    },
    {
     "name": "stderr",
     "output_type": "stream",
     "text": [
      "쿼리 하이브리드 검색 평가: 100%|██████████| 20/20 [07:22<00:00, 22.13s/it]"
     ]
    },
    {
     "name": "stdout",
     "output_type": "stream",
     "text": [
      "\n",
      "=== 키워드 기반 하이브리드 검색 평가 완료! ===\n",
      "평균 Correctness: 0.850\n",
      "평균 Recall@k: 0.593\n"
     ]
    },
    {
     "name": "stderr",
     "output_type": "stream",
     "text": [
      "\n"
     ]
    }
   ],
   "source": [
    "# 안전한 mongo_query 파싱 및 평가 루프 대체\n",
    "import json, ast, time\n",
    "from tqdm import tqdm\n",
    "\n",
    "def parse_mongo_query(query_raw):\n",
    "    # 이미 리스트[dict]\n",
    "    if isinstance(query_raw, list):\n",
    "        return query_raw\n",
    "    # 문자열이면 ast 우선 → json → 마지막으로 단순치환 후 json\n",
    "    if isinstance(query_raw, str):\n",
    "        for parser in (ast.literal_eval, json.loads):\n",
    "            try:\n",
    "                return parser(query_raw)\n",
    "            except Exception:\n",
    "                pass\n",
    "        # 단순 따옴표 치환 시도 (가능한 경우에만)\n",
    "        try:\n",
    "            sanitized = query_raw.replace(\"'\", '\"')\n",
    "            return json.loads(sanitized)\n",
    "        except Exception as e:\n",
    "            raise e\n",
    "    raise ValueError(\"Unsupported mongo_query type: {}\".format(type(query_raw)))\n",
    "\n",
    "# 평가 실행 (기존 변수들 재사용)\n",
    "baseline_results = []\n",
    "retrieved_doc_ids_list = []\n",
    "correctness_scores = []\n",
    "recall_at_k_scores = []\n",
    "\n",
    "print(f\"총 {len(query_df)}개의 쿼리에 대해 쿼리 기반 하이브리드 검색 평가를 시작합니다...\")\n",
    "\n",
    "for idx, row in tqdm(query_df.iterrows(), total=len(query_df), desc=\"쿼리 하이브리드 검색 평가\"): \n",
    "    query_text = row['translated_4o_mini']\n",
    "    ground_truth_ids = row['ground_truth_id']\n",
    "\n",
    "    try:\n",
    "        mongo_query = parse_mongo_query(row['mongo_query_4o_mini'])\n",
    "    except Exception as e:\n",
    "        print(f\"파싱 실패로 해당 샘플 건너뜀: {e}\")\n",
    "        baseline_results.append(\"\")\n",
    "        retrieved_doc_ids_list.append([])\n",
    "        correctness_scores.append(0)\n",
    "        recall_at_k_scores.append(0.0)\n",
    "        continue\n",
    "\n",
    "    print(f\"\\n[{idx+1}/{len(query_df)}] 처리 중: {query_text[:50]}...\")\n",
    "    print(f\"사용할 쿼리: {mongo_query}\")\n",
    "\n",
    "    result = get_query_model_response_with_docs(query_text, mongo_query)\n",
    "\n",
    "    baseline_results.append(result['answer'])\n",
    "    retrieved_doc_ids_list.append(result['retrieved_doc_ids'])\n",
    "\n",
    "    metrics = calculate_all_metrics(result['retrieved_doc_ids'], ground_truth_ids)\n",
    "    correctness_scores.append(metrics['correctness'])\n",
    "    recall_at_k_scores.append(metrics['recall_at_k'])\n",
    "\n",
    "    print(f\"검색된 문서 수: {len(result['retrieved_doc_ids'])}\")\n",
    "    print(f\"Correctness: {metrics['correctness']}\")\n",
    "    print(f\"Recall@k: {metrics['recall_at_k']:.3f}\")\n",
    "\n",
    "    time.sleep(1)\n",
    "\n",
    "print(f\"\\n=== 키워드 기반 하이브리드 검색 평가 완료! ===\")\n",
    "print(f\"평균 Correctness: {sum(correctness_scores) / len(correctness_scores):.3f}\")\n",
    "print(f\"평균 Recall@k: {sum(recall_at_k_scores) / len(recall_at_k_scores):.3f}\")\n"
   ]
  },
  {
   "cell_type": "code",
   "execution_count": 9,
   "metadata": {},
   "outputs": [
    {
     "name": "stdout",
     "output_type": "stream",
     "text": [
      "\n",
      "키워드 기반 검색 결과 저장 완료:\n",
      "- answer: 20개\n",
      "- retrieved_doc_ids: 20개\n",
      "- correctness: 20개\n",
      "- recall_at_k: 20개\n",
      "- CSV 파일: ../data/evaluation_results_20251014_003941.csv\n",
      "\n",
      "=== 키워드 기반 하이브리드 검색 평가 결과 요약 ===\n",
      "총 쿼리 수: 20\n",
      "정확한 검색 수: 17\n",
      "평균 Correctness: 0.850 (85.0%)\n",
      "평균 Recall@k: 0.593 (59.3%)\n"
     ]
    }
   ],
   "source": [
    "# 키워드 기반 검색 결과 저장 및 비교 분석\n",
    "import datetime\n",
    "\n",
    "# 데이터프레임에 키워드 기반 검색 결과 추가\n",
    "query_df['answer'] = baseline_results\n",
    "query_df['retrieved_doc_ids'] = retrieved_doc_ids_list\n",
    "query_df['correctness'] = correctness_scores\n",
    "query_df['recall_at_k'] = recall_at_k_scores\n",
    "\n",
    "# 결과 저장\n",
    "timestamp = datetime.datetime.now().strftime(\"%Y%m%d_%H%M%S\")\n",
    "evaluation_csv_filename = f\"../data/evaluation_results_{timestamp}.csv\"\n",
    "query_df.to_csv(evaluation_csv_filename, index=False, encoding='utf-8')\n",
    "\n",
    "print(f\"\\n키워드 기반 검색 결과 저장 완료:\")\n",
    "print(f\"- answer: {len(baseline_results)}개\")\n",
    "print(f\"- retrieved_doc_ids: {len(retrieved_doc_ids_list)}개\") \n",
    "print(f\"- correctness: {len(correctness_scores)}개\")\n",
    "print(f\"- recall_at_k: {len(recall_at_k_scores)}개\")\n",
    "print(f\"- CSV 파일: {evaluation_csv_filename}\")\n",
    "\n",
    "# 평가 결과 상세 요약\n",
    "total_queries = len(query_df)\n",
    "correct_retrievals = sum(correctness_scores)\n",
    "avg_correctness = correct_retrievals / total_queries\n",
    "avg_recall = sum(recall_at_k_scores) / len(recall_at_k_scores)\n",
    "\n",
    "print(f\"\\n=== 키워드 기반 하이브리드 검색 평가 결과 요약 ===\")\n",
    "print(f\"총 쿼리 수: {total_queries}\")\n",
    "print(f\"정확한 검색 수: {correct_retrievals}\")\n",
    "print(f\"평균 Correctness: {avg_correctness:.3f} ({avg_correctness*100:.1f}%)\")\n",
    "print(f\"평균 Recall@k: {avg_recall:.3f} ({avg_recall*100:.1f}%)\")\n"
   ]
  },
  {
   "cell_type": "code",
   "execution_count": 10,
   "metadata": {},
   "outputs": [
    {
     "name": "stdout",
     "output_type": "stream",
     "text": [
      "\n",
      "Reranking 평가 결과 저장 완료: ../data/reranking_evaluation_results_20251014_003941.csv\n"
     ]
    }
   ],
   "source": [
    "# 결과 저장 및 비교 분석\n",
    "import datetime\n",
    "\n",
    "# 결과 저장\n",
    "timestamp = datetime.datetime.now().strftime(\"%Y%m%d_%H%M%S\")\n",
    "reranking_csv_filename = f\"../data/reranking_evaluation_results_{timestamp}.csv\"\n",
    "query_df.to_csv(reranking_csv_filename, index=False, encoding='utf-8')\n",
    "\n",
    "print(f\"\\nReranking 평가 결과 저장 완료: {reranking_csv_filename}\")"
   ]
  },
  {
   "cell_type": "code",
   "execution_count": null,
   "metadata": {},
   "outputs": [],
   "source": []
  }
 ],
 "metadata": {
  "kernelspec": {
   "display_name": "helloworld-ai",
   "language": "python",
   "name": "python3"
  },
  "language_info": {
   "codemirror_mode": {
    "name": "ipython",
    "version": 3
   },
   "file_extension": ".py",
   "mimetype": "text/x-python",
   "name": "python",
   "nbconvert_exporter": "python",
   "pygments_lexer": "ipython3",
   "version": "3.11.12"
  }
 },
 "nbformat": 4,
 "nbformat_minor": 2
}
