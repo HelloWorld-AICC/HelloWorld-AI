{
 "cells": [
  {
   "cell_type": "markdown",
   "id": "ede8a5ea",
   "metadata": {},
   "source": [
    "# Hybrid Search Test\n",
    "\n",
    "- 산출물 설명\n",
    "    - helloworld_test_query.csv : 테스트 쿼리 데이터\n",
    "    - translation_result_{}.jsonl : 번역, 키워드 추출 데이터 (test_query 대상)\n",
    "    - helloworld_test_query_with_translation_{}.csv : 번역, 키워드 추출 포함된 테스트 쿼리 데이터\n",
    "    - \n"
   ]
  },
  {
   "cell_type": "markdown",
   "id": "79461bc1",
   "metadata": {},
   "source": [
    "## openai & prompt 설정"
   ]
  },
  {
   "cell_type": "code",
   "execution_count": 1,
   "id": "f1df1694",
   "metadata": {},
   "outputs": [
    {
     "data": {
      "text/plain": [
       "True"
      ]
     },
     "execution_count": 1,
     "metadata": {},
     "output_type": "execute_result"
    }
   ],
   "source": [
    "# OpenAI API 설정 및 라이브러리 import\n",
    "from openai import OpenAI\n",
    "import os, sys\n",
    "from typing import List, Dict\n",
    "import dotenv\n",
    "import sys\n",
    "\n",
    "# 프로젝트 루트 디렉토리를 Python 경로에 추가\n",
    "project_root = os.path.abspath(os.path.join(os.getcwd(), '..'))\n",
    "if project_root not in sys.path:\n",
    "    sys.path.append(project_root)\n",
    "\n",
    "\n",
    "dotenv.load_dotenv()"
   ]
  },
  {
   "cell_type": "code",
   "execution_count": 2,
   "id": "b278adcd",
   "metadata": {},
   "outputs": [],
   "source": [
    "# openai 설정\n",
    "\n",
    "# API 키 설정 (환경변수에서 가져오기)\n",
    "client = OpenAI(\n",
    "    api_key=os.getenv(\"OPENAI_API_KEY\")  # 환경변수에 API 키를 설정해주세요\n",
    ")\n",
    "\n",
    "\n",
    "response_format = {\n",
    "    \"type\": \"json_object\",\n",
    "    \"json_schema\": {\n",
    "            \"name\": \"translate_result\",\n",
    "            \"schema\": {\n",
    "                \"type\": \"object\",\n",
    "                \"properties\": {\n",
    "                    \"text\": {\"type\": \"string\"},\n",
    "                    \"translated\": {\"type\": \"string\"},\n",
    "                    \"keyword\": {\"type\": \"array\", \"items\": {\"type\": \"string\"}}\n",
    "                },\n",
    "                \"required\": [\"text\", \"translated\", \"keyword\"],\n",
    "                \"additionalProperties\": False\n",
    "            }\n",
    "        }\n",
    "}\n",
    "\n",
    "\n",
    "def chat(\n",
    "    messages: List[Dict[str, str]], \n",
    "    model: str = \"gpt-4o-mini\",\n",
    "    response_format: dict = None,\n",
    "    **kwargs\n",
    ") -> str:\n",
    "    \"\"\"\n",
    "    OpenAI GPT-4o-mini API를 사용하여 채팅 완성을 수행합니다.\n",
    "    \n",
    "    Args:\n",
    "        messages: 대화 메시지 리스트 [{\"role\": \"user\", \"content\": \"메시지\"}]\n",
    "        model: 사용할 모델명 (기본값: gpt-4o-mini)\n",
    "        **kwargs: OpenAI API 매개변수들\n",
    "            - temperature: 창의성 조절 (0.0-2.0, 기본값: 0.7)\n",
    "            - max_tokens: 최대 토큰 수 (기본값: 1000)\n",
    "            - top_p: 확률 임계값 (기본값: 0.95)\n",
    "            - frequency_penalty: 빈도 페널티 (기본값: 0.0)\n",
    "            - presence_penalty: 존재 페널티 (기본값: 0.0)\n",
    "            - stream: 스트리밍 여부 (기본값: False)\n",
    "            - 기타 OpenAI API가 지원하는 모든 매개변수\n",
    "        \n",
    "    Returns:\n",
    "        GPT 응답 텍스트\n",
    "    \"\"\"\n",
    "    # 기본값 설정\n",
    "    default_params = {\n",
    "        \"temperature\": 0.7,\n",
    "        \"max_tokens\": 1000,\n",
    "        \"top_p\": 0.95,\n",
    "        \"frequency_penalty\": 0.0,\n",
    "        \"presence_penalty\": 0.0\n",
    "    }\n",
    "    \n",
    "    # 기본값과 사용자 입력 병합\n",
    "    params = {**default_params, **kwargs}\n",
    "    \n",
    "    try:\n",
    "        response = client.chat.completions.create(\n",
    "            model=model,\n",
    "            messages=messages,\n",
    "            response_format=response_format,\n",
    "            **params\n",
    "        )\n",
    "        \n",
    "        return response.choices[0].message.content\n",
    "        \n",
    "    except Exception as e:\n",
    "        print(f\"API 호출 중 오류 발생: {e}\")\n",
    "        return None\n"
   ]
  },
  {
   "cell_type": "code",
   "execution_count": 3,
   "id": "8fdf36f1",
   "metadata": {},
   "outputs": [
    {
     "name": "stdout",
     "output_type": "stream",
     "text": [
      "==================================================\n",
      "MongoDB 연결 테스트 시작\n",
      "==================================================\n",
      "🔗 MongoDB 클라이언트 연결 완료\n",
      "✅ MongoDB 연결 성공!\n",
      "📊 MongoDB 버전: 8.0.13\n",
      "📁 사용 가능한 데이터베이스: ['HelloWorld-AI', 'admin', 'local']\n",
      "🎯 현재 데이터베이스: HelloWorld-AI\n",
      "📋 컬렉션 목록: ['foreigner_legalQA_v2', 'foreigner_legal_test', 'foreigner_legalQA', 'foreigner_legalQA_v3']\n",
      "🎯 타겟 컬렉션: foreigner_legalQA_v3\n",
      "📈 문서 개수: 867\n",
      "💾 컬렉션 크기: 37,616,750 bytes (35.87 MB)\n",
      "📄 샘플 문서 키: ['_id', 'title', 'contents', 'url', 'Embedding']\n",
      "📄 샘플 문서 ID: 689b3a86ffd306c1cd3c0679\n",
      "🔍 인덱스 정보:\n",
      "   - _id_: SON([('_id', 1)])\n",
      "==================================================\n",
      "✅ MongoDB 연결 테스트 완료!\n",
      "==================================================\n"
     ]
    }
   ],
   "source": [
    "# MongoDB 연결 테스트\n",
    "import json\n",
    "import os\n",
    "import pymongo\n",
    "from pymongo import MongoClient\n",
    "\n",
    "print(\"=\" * 50)\n",
    "print(\"MongoDB 연결 테스트 시작\")\n",
    "print(\"=\" * 50)\n",
    "\n",
    "# 설정 파일 로드\n",
    "with open('../configs/config.json', 'r', encoding='utf-8') as f:\n",
    "    config = json.load(f)\n",
    "\n",
    "# MongoDB 클라이언트 연결\n",
    "mongodb_client = MongoClient(os.getenv(\"MONGODB_URI\"))\n",
    "print(\"🔗 MongoDB 클라이언트 연결 완료\")\n",
    "\n",
    "try:\n",
    "    # 연결 상태 확인\n",
    "    mongodb_client.admin.command('ping')\n",
    "    print(\"✅ MongoDB 연결 성공!\")\n",
    "    \n",
    "    # 서버 정보 가져오기\n",
    "    server_info = mongodb_client.server_info()\n",
    "    print(f\"📊 MongoDB 버전: {server_info['version']}\")\n",
    "    \n",
    "    # 데이터베이스 목록 확인\n",
    "    db_list = mongodb_client.list_database_names()\n",
    "    print(f\"📁 사용 가능한 데이터베이스: {db_list}\")\n",
    "    \n",
    "    # 현재 데이터베이스 정보\n",
    "    current_db = mongodb_client[config['path']['db_name']]\n",
    "    print(f\"🎯 현재 데이터베이스: {config['path']['db_name']}\")\n",
    "    \n",
    "    # 컬렉션 목록 확인\n",
    "    collections = current_db.list_collection_names()\n",
    "    print(f\"📋 컬렉션 목록: {collections}\")\n",
    "    \n",
    "    # 타겟 컬렉션 확인\n",
    "    target_collection = current_db[config['path']['collection_name']]\n",
    "    print(f\"🎯 타겟 컬렉션: {config['path']['collection_name']}\")\n",
    "    \n",
    "    # 컬렉션 통계 정보\n",
    "    stats = current_db.command(\"collStats\", config['path']['collection_name'])\n",
    "    print(f\"📈 문서 개수: {stats['count']:,}\")\n",
    "    print(f\"💾 컬렉션 크기: {stats['size']:,} bytes ({stats['size']/1024/1024:.2f} MB)\")\n",
    "    \n",
    "    # 샘플 문서 확인\n",
    "    sample_doc = target_collection.find_one()\n",
    "    if sample_doc:\n",
    "        print(f\"📄 샘플 문서 키: {list(sample_doc.keys())}\")\n",
    "        print(f\"📄 샘플 문서 ID: {sample_doc.get('_id', 'N/A')}\")\n",
    "    else:\n",
    "        print(\"⚠️ 컬렉션에 문서가 없습니다.\")\n",
    "    \n",
    "    # 인덱스 정보 확인\n",
    "    indexes = target_collection.list_indexes()\n",
    "    print(f\"🔍 인덱스 정보:\")\n",
    "    for idx in indexes:\n",
    "        print(f\"   - {idx['name']}: {idx['key']}\")\n",
    "    \n",
    "    print(\"=\" * 50)\n",
    "    print(\"✅ MongoDB 연결 테스트 완료!\")\n",
    "    print(\"=\" * 50)\n",
    "    \n",
    "except pymongo.errors.ConnectionFailure as e:\n",
    "    print(f\"❌ MongoDB 연결 실패: {e}\")\n",
    "except pymongo.errors.ServerSelectionTimeoutError as e:\n",
    "    print(f\"❌ 서버 선택 타임아웃: {e}\")\n",
    "except Exception as e:\n",
    "    print(f\"❌ 예상치 못한 오류: {e}\")\n"
   ]
  },
  {
   "cell_type": "code",
   "execution_count": 4,
   "id": "a6b4f374",
   "metadata": {},
   "outputs": [
    {
     "name": "stdout",
     "output_type": "stream",
     "text": [
      "당신은 \"외국인 노동자가 한국에서 겪는 고충을 해결해주는 상담 챗봇\" 도메인에 특화된 번역자이자 키워드 추출자입니다. 사용자 쿼리(다국어)를 다음과 같은 순서로 처리하고, 오직 JSON 형식으로만 응답해야 합니다:\n",
      "## 역할\n",
      "1. 다국어로 입력된 문장을 정확하고 자연스럽게 한국어로 번역\n",
      "2. 번역된 문장에서 DB 검색을 위한 한국어 키워드를 압축 추출\n",
      "\n",
      "## 지시사항 (반드시 준수)\n",
      "1. 원본 쿼리를 “text” 필드에 기록합니다.\n",
      "2. 이를 한국어로 자연스럽고 정확하게 번역하여 “translated” 필드에 기록합니다.\n",
      "3. 번역된 문장에서 **DB 검색을 위해 유용한 핵심 키워드**를 한국어로 추출하여 “keyword” 필드의 리스트에 넣습니다.\n",
      "출력 형식:JSON만 출력. 설명/라벨/마크업/추가 텍스트 금지.\n",
      "```json\n",
      "{\n",
      "  \"text\": \"입력 문장\",\n",
      "  \"translated\": \"번역된 문장\",\n",
      "  \"keyword\": [\"키워드1\", \"키워드2\", ...]\n",
      "}\n",
      "```\n",
      "\n",
      "### 키워드 추출 지시사항\n",
      "목적: 실제 DB 검색에 쓰일 핵심 용어만 뽑기.\n",
      "형태: 한국어, 1~3단어의 단위로 2~6개 내.\n",
      "- 일반적이고 넓은 의미의 단어(예: “한국”, “노동”)는 제외\n",
      "- 키워드는 DB에서 실제 검색에 사용될 수 있도록 구체적이어야 함\n",
      "\n",
      "우선순위:\n",
      "비자/제도명: 예) H-2, 특례고용허가제, E-9\n",
      "행정행위/절차: 예) 사업장변경, 체류자격변경, 신고의무, 필요서류\n",
      "분쟁·권리 키워드: 예) 임금체불, 산재, 부당해고, 근로계약\n",
      "취업·업종/지역이 구체적일 때만: 예) 제조업, 건설업, 농축산업 등\n",
      "정규화: 동의어·구어는 표준 용어로 통합(예: 일자리 옮기기 → 사업장변경)\n",
      "원문이 영어/스페인어 등이어도 키워드는 한국어로\n",
      "\n",
      "\n",
      "## 예시\n",
      "Input: `\"Xin chào, tôi là kiều bào đang sinh sống tại Việt Nam. Lần này, tôi muốn xin việc tại Hàn Quốc thông qua Chế độ cấp phép lao động đặc biệt. Xin vui lòng cho tôi biết chi tiết về thủ tục.\"`\n",
      "Output:\n",
      "{\n",
      "  \"text\": \"Xin chào, tôi là kiều bào đang sinh sống tại Việt Nam. Lần này, tôi muốn xin việc tại Hàn Quốc thông qua Chế độ cấp phép lao động đặc biệt. Xin vui lòng cho tôi biết chi tiết về thủ tục.\",\n",
      "  \"translated\": \"안녕하세요, 저는 베트남에 거주 중인 재외동포입니다. 이번에 특례고용허가제를 통해 한국에서 취업을 하고 싶은데, 절차에 대해서 상세하게 알려주세요.\",\n",
      "  \"keyword\": [\"재외동포\", \"특례고용허가제\"]\n",
      "}\n",
      "\n",
      "Input: `\"H-2ビザを持っていますが、現在働いている事業主を離れて別の事業所に移ることができるのか、また移るためにはどのような手続きや証明資料が必要なのか知りたいです。\"`\n",
      "Output:\n",
      "{\n",
      "  \"text\": \"H-2ビザを持っていますが、現在働いている事業主を離れて別の事業所に移ることができるのか、また移るためにはどのような手続きや証明資料が必要なのか知りたいです。\",\n",
      "  \"translated\": \"H-2 비자를 가지고 있는데, 지금 일하고 있는 사업주를 떠나 다른 사업장으로 옮길 수 있는지, 또 옮기려면 어떤 절차와 증빙자료가 필요한지 궁금해요.\",\n",
      "  \"keyword\": [\"H-2 비자\", \"사업장 변경\", \"절차\", \"증빙자료\"]\n",
      "}\n",
      "\n",
      "Input: `\"Если изменить статус пребывания с E-9 на E-7-4, это поможет для долгосрочного проживания? Пожалуйста, расскажите, какие требования необходимы.\"`\n",
      "Output:\n",
      "{\n",
      "  \"text\": \"Если изменить статус пребывания с E-9 на E-7-4, это поможет для долгосрочного проживания? Пожалуйста, расскажите, какие требования необходимы.\",\n",
      "  \"translated\": \"E-9에서 E-7-4로 체류자격을 변경하면 장기체류에 도움이 되나요? 필요한 요건을 알려주세요.\",\n",
      "  \"keyword\": [\"E-9\", \"E-7-4\", \"체류자격 변경\", \"장기체류 요건\"]\n",
      "}\n",
      "\n",
      "이제 실제 질의에 대해 응답해주세요.\n",
      "Input: \n"
     ]
    }
   ],
   "source": [
    "from prompts.prompts import load_prompt\n",
    "\n",
    "translate_prompt = load_prompt(\"translate\")\n",
    "print(translate_prompt)"
   ]
  },
  {
   "cell_type": "code",
   "execution_count": 5,
   "id": "5dd1faca",
   "metadata": {},
   "outputs": [],
   "source": [
    "# messages = [\n",
    "#     {\"role\": \"system\", \"content\": translate_prompt},\n",
    "#     {\"role\": \"user\", \"content\": \"안녕하세요! 파이썬에 대해 간단히 설명해주세요.\"}\n",
    "# ]\n",
    "\n",
    "# response = chat(messages)"
   ]
  },
  {
   "cell_type": "markdown",
   "id": "ff4a6b03",
   "metadata": {},
   "source": [
    "## 데이터 불러오기"
   ]
  },
  {
   "cell_type": "code",
   "execution_count": null,
   "id": "67c1054f",
   "metadata": {},
   "outputs": [],
   "source": [
    "import pandas as pd\n",
    "\n",
    "query_df = pd.read_csv(\"../data/helloworld_test_query.csv\")"
   ]
  },
  {
   "cell_type": "code",
   "execution_count": null,
   "id": "c9719a9c",
   "metadata": {},
   "outputs": [],
   "source": [
    "# CSV 파일 불러오기 및 데이터프레임 생성\n",
    "import pandas as pd\n",
    "\n",
    "# CSV 파일 불러오기\n",
    "query_df = pd.read_csv('../data/helloworld_test_query.csv')\n",
    "print(f\"불러온 데이터 개수: {len(query_df)}\")\n",
    "print(\"\\n데이터프레임 컬럼:\")\n",
    "print(query_df.columns.tolist())\n",
    "print(\"\\n첫 3개 행:\")\n",
    "print(query_df.head(3))\n"
   ]
  },
  {
   "cell_type": "code",
   "execution_count": null,
   "id": "b0f8d869",
   "metadata": {},
   "outputs": [],
   "source": [
    "# 번역 프롬프트 가져오기\n",
    "from prompts.prompts import load_prompt\n",
    "\n",
    "translate_prompt = load_prompt(\"translate\")\n",
    "print(\"번역 프롬프트 로드 완료\")\n",
    "\n",
    "# 번역 함수 정의\n",
    "def translate_query(query_text):\n",
    "    \"\"\"번역 쿼리를 GPT-4o-mini로 번역하여 JSON 응답을 받는다\"\"\"\n",
    "    messages = [\n",
    "        {\"role\": \"system\", \"content\": translate_prompt},\n",
    "        {\"role\": \"user\", \"content\": query_text}\n",
    "    ]\n",
    "    \n",
    "    try:\n",
    "        response = chat(messages, temperature=0.1)\n",
    "        result = json.loads(response)\n",
    "        return result\n",
    "    except Exception as e:\n",
    "        print(f\"번역 오류: {e}\")\n",
    "        return None\n"
   ]
  },
  {
   "cell_type": "markdown",
   "id": "4ee72e0a",
   "metadata": {},
   "source": [
    "## 번역 & 키워드 추출"
   ]
  },
  {
   "cell_type": "code",
   "execution_count": null,
   "id": "5f4fbce5",
   "metadata": {},
   "outputs": [],
   "source": [
    "# 모든 쿼리 처리\n",
    "import json\n",
    "from tqdm import tqdm\n",
    "import time\n",
    "\n",
    "# 결과를 저장할 리스트\n",
    "all_results = []\n",
    "translated_results = []\n",
    "keyword_results = []\n",
    "\n",
    "print(f\"총 {len(query_df)}개의 쿼리를 처리합니다...\")\n",
    "\n",
    "# 각 쿼리 처리\n",
    "for idx, row in tqdm(query_df.iterrows(), total=len(query_df), desc=\"번역 진행\"):\n",
    "    query_text = row['translated_query']\n",
    "    \n",
    "    # 번역 수행\n",
    "    result = translate_query(query_text)\n",
    "    \n",
    "    if result is not None:\n",
    "        # 전체 결과 저장\n",
    "        all_results.append(result)\n",
    "        \n",
    "        # 개별 필드 저장\n",
    "        translated_results.append(result.get('translated', ''))\n",
    "        keyword_results.append(result.get('keyword', []))\n",
    "        \n",
    "        print(f\"[{idx+1}/{len(query_df)}] 완료: {result.get('translated', '')[:50]}...\")\n",
    "    else:\n",
    "        # 오류 발생 시 빈 값 추가\n",
    "        all_results.append(None)\n",
    "        translated_results.append('')\n",
    "        keyword_results.append([])\n",
    "        print(f\"[{idx+1}/{len(query_df)}] 오류 발생\")\n",
    "    \n",
    "    # API 호출 제한을 위한 잠시 대기\n",
    "    time.sleep(0.5)\n",
    "\n",
    "print(f\"\\n번역 완료! 총 {len([r for r in all_results if r is not None])}개 성공\")\n",
    "print(f\"오류 발생: {len([r for r in all_results if r is None])}개\")\n"
   ]
  },
  {
   "cell_type": "code",
   "execution_count": null,
   "id": "e6292628",
   "metadata": {},
   "outputs": [],
   "source": [
    "# 결과 저장\n",
    "import datetime\n",
    "\n",
    "# 1. JSONL 파일로 전체 결과 저장\n",
    "timestamp = datetime.datetime.now().strftime(\"%Y%m%d_%H%M%S\")\n",
    "jsonl_filename = f\"../data/translation_results_{timestamp}.jsonl\"\n",
    "\n",
    "print(f\"JSONL 파일 저장: {jsonl_filename}\")\n",
    "\n",
    "with open(jsonl_filename, 'w', encoding='utf-8') as f:\n",
    "    for result in all_results:\n",
    "        if result is not None:\n",
    "            f.write(json.dumps(result, ensure_ascii=False) + '\\n')\n",
    "        else:\n",
    "            f.write(json.dumps({\"error\": \"translation_failed\"}, ensure_ascii=False) + '\\n')\n",
    "\n",
    "print(f\"JSONL 파일 저장 완료: {len(all_results)}개 레코드\")\n",
    "\n",
    "# 2. 데이터프레임에 새 컬럼 추가\n",
    "query_df['translated_4o_mini'] = translated_results\n",
    "query_df['keyword_4o_mini'] = keyword_results\n",
    "\n",
    "print(\"\\n데이터프레임 새 컬럼 추가 완료:\")\n",
    "print(f\"- translated_4o_mini: {len(translated_results)}개\")\n",
    "print(f\"- keyword_4o_mini: {len(keyword_results)}개\")\n",
    "\n",
    "# 3. 업데이트된 CSV 저장\n",
    "updated_csv_filename = f\"../data/helloworld_test_query_with_translation_{timestamp}.csv\"\n",
    "query_df.to_csv(updated_csv_filename, index=False, encoding='utf-8')\n",
    "\n",
    "print(f\"\\n업데이트된 CSV 파일 저장: {updated_csv_filename}\")\n"
   ]
  },
  {
   "cell_type": "code",
   "execution_count": null,
   "id": "c34bccfc",
   "metadata": {},
   "outputs": [],
   "source": [
    "query_df[['query', 'translated_4o_mini', 'keyword_4o_mini']]\n",
    "query_df.head()"
   ]
  },
  {
   "cell_type": "code",
   "execution_count": null,
   "id": "d05552f4",
   "metadata": {},
   "outputs": [],
   "source": [
    "for i, row in query_df.iterrows():\n",
    "    print(row['query'])\n",
    "    print(row['translated_4o_mini'])\n",
    "    print(row['keyword_4o_mini'])\n",
    "    print('-'*100)"
   ]
  },
  {
   "cell_type": "markdown",
   "id": "00405b5f",
   "metadata": {},
   "source": [
    "## 베이스라인 모델 평가\n"
   ]
  },
  {
   "cell_type": "code",
   "execution_count": 6,
   "id": "9d58d433",
   "metadata": {},
   "outputs": [
    {
     "data": {
      "text/plain": [
       "True"
      ]
     },
     "execution_count": 6,
     "metadata": {},
     "output_type": "execute_result"
    }
   ],
   "source": [
    "import os, sys\n",
    "import dotenv\n",
    "\n",
    "# 프로젝트 루트 디렉토리를 Python 경로에 추가\n",
    "project_root = os.path.abspath(os.path.join(os.getcwd(), '..'))\n",
    "if project_root not in sys.path:\n",
    "    sys.path.append(project_root)\n",
    "\n",
    "dotenv.load_dotenv()"
   ]
  },
  {
   "cell_type": "code",
   "execution_count": 7,
   "id": "c0f7a95b",
   "metadata": {},
   "outputs": [
    {
     "data": {
      "text/html": [
       "<div>\n",
       "<style scoped>\n",
       "    .dataframe tbody tr th:only-of-type {\n",
       "        vertical-align: middle;\n",
       "    }\n",
       "\n",
       "    .dataframe tbody tr th {\n",
       "        vertical-align: top;\n",
       "    }\n",
       "\n",
       "    .dataframe thead th {\n",
       "        text-align: right;\n",
       "    }\n",
       "</style>\n",
       "<table border=\"1\" class=\"dataframe\">\n",
       "  <thead>\n",
       "    <tr style=\"text-align: right;\">\n",
       "      <th></th>\n",
       "      <th>query</th>\n",
       "      <th>translated_query</th>\n",
       "      <th>언어</th>\n",
       "      <th>ground_truth_id</th>\n",
       "      <th>category</th>\n",
       "      <th>source</th>\n",
       "      <th>작성자</th>\n",
       "      <th>비고</th>\n",
       "      <th>소스</th>\n",
       "      <th>translated_4o_mini</th>\n",
       "      <th>keyword_4o_mini</th>\n",
       "    </tr>\n",
       "  </thead>\n",
       "  <tbody>\n",
       "    <tr>\n",
       "      <th>0</th>\n",
       "      <td>제 여자친구가 단속으로 출입국 보호소에 있습니다. 월급이 아직 들어오지 않았는데, ...</td>\n",
       "      <td>แฟนของผมถูกจับกุมและอยู่ที่ศูนย์กักตัวตรวจคนเข...</td>\n",
       "      <td>태국어</td>\n",
       "      <td>['689b3a86ffd306c1cd3c09a4', '689b3a86ffd306c1...</td>\n",
       "      <td>임금체불</td>\n",
       "      <td>경기도외국인지원센터_상담사례</td>\n",
       "      <td>황예원</td>\n",
       "      <td>NaN</td>\n",
       "      <td>https://gmhr.or.kr/case/1529?sca=%EC%9E%84%EA%...</td>\n",
       "      <td>제 여자친구가 체포되어 출입국 관리소에 구금되어 있습니다. 지금 월급을 받지 못했는...</td>\n",
       "      <td>['체포', '출입국 관리소', '월급', '밀린 월급']</td>\n",
       "    </tr>\n",
       "    <tr>\n",
       "      <th>1</th>\n",
       "      <td>안녕하세요, 건설 현장에서 일하고 있는 사람인데, 사장님이 월급을 안줘서 계좌가 압...</td>\n",
       "      <td>你好，我是在建筑工地工作的，但老板没有发工资，我的账户可能会被查封。遇到这种情况该怎么办呢？</td>\n",
       "      <td>중국어</td>\n",
       "      <td>['689b3a86ffd306c1cd3c06e8', '689b3a86ffd306c1...</td>\n",
       "      <td>임금체불</td>\n",
       "      <td>경기도외국인지원센터_상담사례</td>\n",
       "      <td>황예원</td>\n",
       "      <td>임금체불 및 \"압류방지 통장\" (=임금채권 전용통장) 관련 데이터 필요</td>\n",
       "      <td>https://gmhr.or.kr/case/1493?sca=%EC%9E%84%EA%...</td>\n",
       "      <td>안녕하세요, 저는 건설 현장에서 일하고 있는데, 사장이 급여를 지급하지 않았습니다....</td>\n",
       "      <td>['건설업', '임금체불', '계좌 압류']</td>\n",
       "    </tr>\n",
       "    <tr>\n",
       "      <th>2</th>\n",
       "      <td>안녕하세요, 저는 필리핀에서 온 노동자입니다. 5년 동안 근무를 하고 이제 제 나라...</td>\n",
       "      <td>Magandang araw, ako ay isang manggagawang mula...</td>\n",
       "      <td>필리핀어 (타갈로그어)</td>\n",
       "      <td>['689b3a86ffd306c1cd3c09a4']</td>\n",
       "      <td>임금체불</td>\n",
       "      <td>경기도외국인지원센터_상담사례</td>\n",
       "      <td>황예원</td>\n",
       "      <td>체당금 관련 데이터 필요</td>\n",
       "      <td>https://gmhr.or.kr/case/1667?sca=%EC%9E%84%EA%...</td>\n",
       "      <td>안녕하세요, 저는 필리핀에서 온 노동자입니다. 5년 동안 일했는데 이제 고국으로 돌...</td>\n",
       "      <td>['임금체불', '회수 방법']</td>\n",
       "    </tr>\n",
       "    <tr>\n",
       "      <th>3</th>\n",
       "      <td>사업장 변경 신청 이후 제가 불법체류자가 될 수 있다는 우편이 날아왔어요. 8월 2...</td>\n",
       "      <td>在申请变更工作单位之后，我收到了一封信，说我可能会变成非法滞留者。只被允许停留到8月22日，...</td>\n",
       "      <td>중국어</td>\n",
       "      <td>['689b3a86ffd306c1cd3c0680', '689b3a86ffd306c1...</td>\n",
       "      <td>체류자격</td>\n",
       "      <td>경기도외국인지원센터_상담사례</td>\n",
       "      <td>황예원</td>\n",
       "      <td>NaN</td>\n",
       "      <td>https://gmhr.or.kr/case/1679?sca=%EC%B2%B4%EB%...</td>\n",
       "      <td>사업장 변경을 신청한 후, 제가 불법 체류자가 될 수 있다는 내용의 편지를 받았습니...</td>\n",
       "      <td>['사업장 변경', '불법 체류', '추방', '체류 허용 기간']</td>\n",
       "    </tr>\n",
       "    <tr>\n",
       "      <th>4</th>\n",
       "      <td>제가 중간에 퇴직을 하게 되었는데, 소득세가 체납되어 비자 연장이 안된대요. 그런데...</td>\n",
       "      <td>我中途离职了，但是因为拖欠所得税，签证无法延期。可是我听不懂相关的通知内容。</td>\n",
       "      <td>중국어</td>\n",
       "      <td>['689b3a86ffd306c1cd3c08f8', '689b3a86ffd306c1...</td>\n",
       "      <td>체류자격</td>\n",
       "      <td>경기도외국인지원센터_상담사례</td>\n",
       "      <td>황예원</td>\n",
       "      <td>NaN</td>\n",
       "      <td>https://gmhr.or.kr/case/1703?sca=%EC%B2%B4%EB%...</td>\n",
       "      <td>저는 중간에 퇴사했지만, 소득세 체납 때문에 비자를 연장할 수 없습니다. 그런데 관...</td>\n",
       "      <td>['퇴사', '소득세 체납', '비자 연장', '통지 내용']</td>\n",
       "    </tr>\n",
       "  </tbody>\n",
       "</table>\n",
       "</div>"
      ],
      "text/plain": [
       "                                               query  \\\n",
       "0  제 여자친구가 단속으로 출입국 보호소에 있습니다. 월급이 아직 들어오지 않았는데, ...   \n",
       "1  안녕하세요, 건설 현장에서 일하고 있는 사람인데, 사장님이 월급을 안줘서 계좌가 압...   \n",
       "2  안녕하세요, 저는 필리핀에서 온 노동자입니다. 5년 동안 근무를 하고 이제 제 나라...   \n",
       "3  사업장 변경 신청 이후 제가 불법체류자가 될 수 있다는 우편이 날아왔어요. 8월 2...   \n",
       "4  제가 중간에 퇴직을 하게 되었는데, 소득세가 체납되어 비자 연장이 안된대요. 그런데...   \n",
       "\n",
       "                                    translated_query            언어  \\\n",
       "0  แฟนของผมถูกจับกุมและอยู่ที่ศูนย์กักตัวตรวจคนเข...           태국어   \n",
       "1     你好，我是在建筑工地工作的，但老板没有发工资，我的账户可能会被查封。遇到这种情况该怎么办呢？           중국어   \n",
       "2  Magandang araw, ako ay isang manggagawang mula...  필리핀어 (타갈로그어)   \n",
       "3  在申请变更工作单位之后，我收到了一封信，说我可能会变成非法滞留者。只被允许停留到8月22日，...           중국어   \n",
       "4             我中途离职了，但是因为拖欠所得税，签证无法延期。可是我听不懂相关的通知内容。           중국어   \n",
       "\n",
       "                                     ground_truth_id category  \\\n",
       "0  ['689b3a86ffd306c1cd3c09a4', '689b3a86ffd306c1...     임금체불   \n",
       "1  ['689b3a86ffd306c1cd3c06e8', '689b3a86ffd306c1...     임금체불   \n",
       "2                       ['689b3a86ffd306c1cd3c09a4']     임금체불   \n",
       "3  ['689b3a86ffd306c1cd3c0680', '689b3a86ffd306c1...     체류자격   \n",
       "4  ['689b3a86ffd306c1cd3c08f8', '689b3a86ffd306c1...     체류자격   \n",
       "\n",
       "            source  작성자                                       비고  \\\n",
       "0  경기도외국인지원센터_상담사례  황예원                                      NaN   \n",
       "1  경기도외국인지원센터_상담사례  황예원  임금체불 및 \"압류방지 통장\" (=임금채권 전용통장) 관련 데이터 필요   \n",
       "2  경기도외국인지원센터_상담사례  황예원                            체당금 관련 데이터 필요   \n",
       "3  경기도외국인지원센터_상담사례  황예원                                      NaN   \n",
       "4  경기도외국인지원센터_상담사례  황예원                                      NaN   \n",
       "\n",
       "                                                  소스  \\\n",
       "0  https://gmhr.or.kr/case/1529?sca=%EC%9E%84%EA%...   \n",
       "1  https://gmhr.or.kr/case/1493?sca=%EC%9E%84%EA%...   \n",
       "2  https://gmhr.or.kr/case/1667?sca=%EC%9E%84%EA%...   \n",
       "3  https://gmhr.or.kr/case/1679?sca=%EC%B2%B4%EB%...   \n",
       "4  https://gmhr.or.kr/case/1703?sca=%EC%B2%B4%EB%...   \n",
       "\n",
       "                                  translated_4o_mini  \\\n",
       "0  제 여자친구가 체포되어 출입국 관리소에 구금되어 있습니다. 지금 월급을 받지 못했는...   \n",
       "1  안녕하세요, 저는 건설 현장에서 일하고 있는데, 사장이 급여를 지급하지 않았습니다....   \n",
       "2  안녕하세요, 저는 필리핀에서 온 노동자입니다. 5년 동안 일했는데 이제 고국으로 돌...   \n",
       "3  사업장 변경을 신청한 후, 제가 불법 체류자가 될 수 있다는 내용의 편지를 받았습니...   \n",
       "4  저는 중간에 퇴사했지만, 소득세 체납 때문에 비자를 연장할 수 없습니다. 그런데 관...   \n",
       "\n",
       "                         keyword_4o_mini  \n",
       "0       ['체포', '출입국 관리소', '월급', '밀린 월급']  \n",
       "1               ['건설업', '임금체불', '계좌 압류']  \n",
       "2                      ['임금체불', '회수 방법']  \n",
       "3  ['사업장 변경', '불법 체류', '추방', '체류 허용 기간']  \n",
       "4     ['퇴사', '소득세 체납', '비자 연장', '통지 내용']  "
      ]
     },
     "execution_count": 7,
     "metadata": {},
     "output_type": "execute_result"
    }
   ],
   "source": [
    "import pandas as pd\n",
    "query_df = pd.read_csv(\"../data/helloworld_test_query_with_translation_20250916_192212.csv\")\n",
    "query_df.head()"
   ]
  },
  {
   "cell_type": "code",
   "execution_count": 8,
   "id": "e5a64125",
   "metadata": {},
   "outputs": [
    {
     "name": "stdout",
     "output_type": "stream",
     "text": [
      "0 14\n",
      "1 16\n",
      "2 1\n",
      "3 20\n",
      "4 3\n",
      "5 8\n",
      "6 5\n",
      "7 15\n",
      "8 4\n",
      "9 1\n",
      "10 2\n",
      "11 4\n",
      "12 2\n",
      "13 2\n",
      "14 1\n",
      "15 2\n",
      "16 2\n",
      "17 2\n",
      "18 2\n",
      "19 2\n"
     ]
    }
   ],
   "source": [
    "import ast\n",
    "\n",
    "for i, row in query_df.iterrows():\n",
    "    print(i, len(ast.literal_eval(row['ground_truth_id'])))\n",
    "\n",
    "# 최대 20개까지 반환해야 함\n"
   ]
  },
  {
   "cell_type": "code",
   "execution_count": 9,
   "id": "4d3f1f7c",
   "metadata": {},
   "outputs": [
    {
     "name": "stdout",
     "output_type": "stream",
     "text": [
      "MongoDB 연결 및 모델 설정 완료\n",
      "데이터베이스: HelloWorld-AI\n",
      "컬렉션: foreigner_legalQA_v3\n",
      "Top-k: 20\n"
     ]
    }
   ],
   "source": [
    "# MongoDB 연결 및 모델 설정\n",
    "import json\n",
    "import os\n",
    "from pymongo import MongoClient\n",
    "from Azure.model import ChatModel\n",
    "from dotenv import load_dotenv\n",
    "\n",
    "# 설정 파일 로드\n",
    "with open('../configs/config.json', 'r', encoding='utf-8') as f:\n",
    "    config = json.load(f)\n",
    "\n",
    "\n",
    "load_dotenv()\n",
    "\n",
    "# MongoDB 연결\n",
    "client = MongoClient(os.getenv(\"MONGODB_URI\"))\n",
    "db = client[config['path']['db_name']]\n",
    "collection = db[config['path']['collection_name']]\n",
    "\n",
    "# ChatModel 인스턴스 생성\n",
    "chat_model = ChatModel(config)\n",
    "\n",
    "print(\"MongoDB 연결 및 모델 설정 완료\")\n",
    "print(f\"데이터베이스: {config['path']['db_name']}\")\n",
    "print(f\"컬렉션: {config['path']['collection_name']}\")\n",
    "print(f\"Top-k: {config['chat_config']['top_k']}\")"
   ]
  },
  {
   "cell_type": "code",
   "execution_count": 10,
   "id": "5ec53806",
   "metadata": {},
   "outputs": [
    {
     "name": "stdout",
     "output_type": "stream",
     "text": [
      "Retrieval Correctness 계산 함수 정의 완료\n",
      "확장된 Retrieval 메트릭 계산 함수들 정의 완료\n"
     ]
    }
   ],
   "source": [
    "# Retrieval Correctness 계산 함수\n",
    "def calculate_retrieval_correctness(retrieved_doc_ids, ground_truth_ids):\n",
    "    \"\"\"\n",
    "    검색된 문서 ID들과 ground truth ID들을 비교하여 correctness 계산\n",
    "    \"\"\"\n",
    "    if not retrieved_doc_ids or not ground_truth_ids:\n",
    "        return 0\n",
    "    \n",
    "    # ground_truth_ids가 문자열 리스트인 경우 처리\n",
    "    if isinstance(ground_truth_ids, str):\n",
    "        try:\n",
    "            # 문자열을 리스트로 변환 (예: \"['id1', 'id2']\" -> ['id1', 'id2'])\n",
    "            import ast\n",
    "            ground_truth_list = ast.literal_eval(ground_truth_ids)\n",
    "        except:\n",
    "            ground_truth_list = [ground_truth_ids]\n",
    "    else:\n",
    "        ground_truth_list = ground_truth_ids\n",
    "    \n",
    "    # 검색된 문서 중 하나라도 ground truth에 있으면 1, 아니면 0\n",
    "    for doc_id in retrieved_doc_ids:\n",
    "        if doc_id in ground_truth_list:\n",
    "            return 1\n",
    "    \n",
    "    return 0\n",
    "\n",
    "print(\"Retrieval Correctness 계산 함수 정의 완료\")\n",
    "\n",
    "# 확장된 Retrieval 메트릭 계산 함수들\n",
    "def calculate_recall_at_k(retrieved_doc_ids, ground_truth_ids, k=None):\n",
    "    \"\"\"\n",
    "    Recall@k 계산: 검색된 문서 중 관련 문서의 비율\n",
    "    \"\"\"\n",
    "    if not retrieved_doc_ids or not ground_truth_ids:\n",
    "        return 0.0\n",
    "    \n",
    "    # ground_truth_ids가 문자열 리스트인 경우 처리\n",
    "    if isinstance(ground_truth_ids, str):\n",
    "        try:\n",
    "            import ast\n",
    "            ground_truth_list = ast.literal_eval(ground_truth_ids)\n",
    "        except:\n",
    "            ground_truth_list = [ground_truth_ids]\n",
    "    else:\n",
    "        ground_truth_list = ground_truth_ids\n",
    "    \n",
    "    # k가 지정되지 않으면 검색된 문서 수만큼 사용\n",
    "    if k is None:\n",
    "        k = len(retrieved_doc_ids)\n",
    "    \n",
    "    # 상위 k개 문서만 고려\n",
    "    top_k_retrieved = retrieved_doc_ids[:k]\n",
    "    \n",
    "    # 관련 문서 수 계산\n",
    "    relevant_retrieved = sum(1 for doc_id in top_k_retrieved if doc_id in ground_truth_list)\n",
    "    \n",
    "    # Recall = 관련 문서 수 / 전체 관련 문서 수\n",
    "    if len(ground_truth_list) == 0:\n",
    "        return 0.0\n",
    "    \n",
    "    return relevant_retrieved / len(ground_truth_list)\n",
    "\n",
    "\n",
    "def calculate_all_metrics(retrieved_doc_ids, ground_truth_ids, k=None):\n",
    "    \"\"\"\n",
    "    모든 메트릭을 한 번에 계산\n",
    "    \"\"\"\n",
    "    return {\n",
    "        \"correctness\": calculate_retrieval_correctness(retrieved_doc_ids, ground_truth_ids),\n",
    "        \"recall_at_k\": calculate_recall_at_k(retrieved_doc_ids, ground_truth_ids, k)\n",
    "    }\n",
    "\n",
    "print(\"확장된 Retrieval 메트릭 계산 함수들 정의 완료\")\n"
   ]
  },
  {
   "cell_type": "code",
   "execution_count": 11,
   "id": "475036b9",
   "metadata": {},
   "outputs": [
    {
     "name": "stdout",
     "output_type": "stream",
     "text": [
      "수정된 모델 응답 및 문서 인덱스 추출 함수 정의 완료 (중복 검색 제거됨)\n"
     ]
    }
   ],
   "source": [
    "# 수정된 모델 답변 생성 및 문서 인덱스 추출 함수 (중복 검색 제거)\n",
    "def get_model_response_with_docs(query_text):\n",
    "    \"\"\"\n",
    "    모델로부터 답변을 생성하고 검색된 문서들의 인덱스를 반환\n",
    "    이제 model.py의 generate_ai_response가 검색된 문서 ID도 함께 반환하므로 중복 검색 제거\n",
    "    \"\"\"\n",
    "    try:\n",
    "        # 빈 대화 히스토리로 시작\n",
    "        conversation_history = []\n",
    "        \n",
    "        # 모델 답변 생성 (이제 검색된 문서 ID도 함께 반환됨)\n",
    "        response = chat_model.generate_ai_response(conversation_history, query_text, collection)\n",
    "        \n",
    "        # model.py에서 이미 반환된 정보를 그대로 사용\n",
    "        return {\n",
    "            \"answer\": response[\"answer\"],\n",
    "            \"retrieved_doc_ids\": response[\"retrieved_doc_ids\"],\n",
    "            \"retrieved_docs\": response[\"retrieved_docs\"]\n",
    "        }\n",
    "        \n",
    "    except Exception as e:\n",
    "        print(f\"오류 발생: {e}\")\n",
    "        return {\n",
    "            \"answer\": \"\",\n",
    "            \"retrieved_doc_ids\": [],\n",
    "            \"retrieved_docs\": []\n",
    "        }\n",
    "\n",
    "print(\"수정된 모델 응답 및 문서 인덱스 추출 함수 정의 완료 (중복 검색 제거됨)\")\n"
   ]
  },
  {
   "cell_type": "code",
   "execution_count": 12,
   "id": "20b778b2",
   "metadata": {},
   "outputs": [
    {
     "name": "stdout",
     "output_type": "stream",
     "text": [
      "총 20개의 쿼리에 대해 확장된 메트릭 평가를 시작합니다...\n"
     ]
    },
    {
     "name": "stderr",
     "output_type": "stream",
     "text": [
      "확장된 메트릭 평가:   0%|          | 0/20 [00:00<?, ?it/s]"
     ]
    },
    {
     "name": "stdout",
     "output_type": "stream",
     "text": [
      "\n",
      "[1/20] 처리 중: 제 여자친구가 체포되어 출입국 관리소에 구금되어 있습니다. 지금 월급을 받지 못했는데, 만...\n",
      "검색된 문서 수: 20\n",
      "Correctness: 1\n",
      "Recall@k: 0.214\n"
     ]
    },
    {
     "name": "stderr",
     "output_type": "stream",
     "text": [
      "확장된 메트릭 평가:   5%|▌         | 1/20 [00:15<04:48, 15.19s/it]"
     ]
    },
    {
     "name": "stdout",
     "output_type": "stream",
     "text": [
      "\n",
      "[2/20] 처리 중: 안녕하세요, 저는 건설 현장에서 일하고 있는데, 사장이 급여를 지급하지 않았습니다. 제 계...\n",
      "검색된 문서 수: 20\n",
      "Correctness: 1\n",
      "Recall@k: 0.375\n"
     ]
    },
    {
     "name": "stderr",
     "output_type": "stream",
     "text": [
      "확장된 메트릭 평가:  10%|█         | 2/20 [00:26<03:50, 12.83s/it]"
     ]
    },
    {
     "name": "stdout",
     "output_type": "stream",
     "text": [
      "\n",
      "[3/20] 처리 중: 안녕하세요, 저는 필리핀에서 온 노동자입니다. 5년 동안 일했는데 이제 고국으로 돌아가려고...\n",
      "검색된 문서 수: 20\n",
      "Correctness: 0\n",
      "Recall@k: 0.000\n"
     ]
    },
    {
     "name": "stderr",
     "output_type": "stream",
     "text": [
      "확장된 메트릭 평가:  15%|█▌        | 3/20 [00:38<03:32, 12.52s/it]"
     ]
    },
    {
     "name": "stdout",
     "output_type": "stream",
     "text": [
      "\n",
      "[4/20] 처리 중: 사업장 변경을 신청한 후, 제가 불법 체류자가 될 수 있다는 내용의 편지를 받았습니다. 8...\n",
      "검색된 문서 수: 20\n",
      "Correctness: 1\n",
      "Recall@k: 0.100\n"
     ]
    },
    {
     "name": "stderr",
     "output_type": "stream",
     "text": [
      "확장된 메트릭 평가:  20%|██        | 4/20 [00:47<03:00, 11.26s/it]"
     ]
    },
    {
     "name": "stdout",
     "output_type": "stream",
     "text": [
      "\n",
      "[5/20] 처리 중: 저는 중간에 퇴사했지만, 소득세 체납 때문에 비자를 연장할 수 없습니다. 그런데 관련된 통...\n",
      "검색된 문서 수: 20\n",
      "Correctness: 1\n",
      "Recall@k: 0.333\n"
     ]
    },
    {
     "name": "stderr",
     "output_type": "stream",
     "text": [
      "확장된 메트릭 평가:  25%|██▌       | 5/20 [00:55<02:32, 10.13s/it]"
     ]
    },
    {
     "name": "stdout",
     "output_type": "stream",
     "text": [
      "\n",
      "[6/20] 처리 중: 회사가 갑자기 더 이상 출근하지 말라고 해서, 체류 자격이 박탈될 수 있습니다. 어떻게 해...\n",
      "검색된 문서 수: 20\n",
      "Correctness: 0\n",
      "Recall@k: 0.000\n"
     ]
    },
    {
     "name": "stderr",
     "output_type": "stream",
     "text": [
      "확장된 메트릭 평가:  30%|███       | 6/20 [01:06<02:25, 10.41s/it]"
     ]
    },
    {
     "name": "stdout",
     "output_type": "stream",
     "text": [
      "\n",
      "[7/20] 처리 중: 저는 건설업에서 일하고 있는 외국인 노동자입니다. 어떤 경우가 산업재해로 간주되는지 알고 ...\n",
      "검색된 문서 수: 20\n",
      "Correctness: 1\n",
      "Recall@k: 0.200\n"
     ]
    },
    {
     "name": "stderr",
     "output_type": "stream",
     "text": [
      "확장된 메트릭 평가:  35%|███▌      | 7/20 [01:17<02:16, 10.50s/it]"
     ]
    },
    {
     "name": "stdout",
     "output_type": "stream",
     "text": [
      "\n",
      "[8/20] 처리 중: 안녕하세요, 저는 베트남에 거주 중인 재외동포입니다. 이번에 특례고용허가제를 통해 한국에서...\n",
      "검색된 문서 수: 20\n",
      "Correctness: 1\n",
      "Recall@k: 0.067\n"
     ]
    },
    {
     "name": "stderr",
     "output_type": "stream",
     "text": [
      "확장된 메트릭 평가:  40%|████      | 8/20 [01:28<02:06, 10.58s/it]"
     ]
    },
    {
     "name": "stdout",
     "output_type": "stream",
     "text": [
      "\n",
      "[9/20] 처리 중: 저는 H-2 비자를 가지고 있는데, 현재 고용주를 떠나 다른 직장으로 옮길 수 있는지 궁금...\n",
      "검색된 문서 수: 20\n",
      "Correctness: 0\n",
      "Recall@k: 0.000\n"
     ]
    },
    {
     "name": "stderr",
     "output_type": "stream",
     "text": [
      "확장된 메트릭 평가:  45%|████▌     | 9/20 [01:37<01:51, 10.09s/it]"
     ]
    },
    {
     "name": "stdout",
     "output_type": "stream",
     "text": [
      "\n",
      "[10/20] 처리 중: 고용주가 지속적으로 임금을 체불하여 저는 근무지를 옮기고 싶습니다....\n",
      "검색된 문서 수: 20\n",
      "Correctness: 0\n",
      "Recall@k: 0.000\n"
     ]
    },
    {
     "name": "stderr",
     "output_type": "stream",
     "text": [
      "확장된 메트릭 평가:  50%|█████     | 10/20 [01:45<01:34,  9.41s/it]"
     ]
    },
    {
     "name": "stdout",
     "output_type": "stream",
     "text": [
      "\n",
      "[11/20] 처리 중: 실업급여를 받고 있는 중에 조기 재취업을 하면 '조기 재취업 수당'을 받을 수 있다고 들었...\n",
      "검색된 문서 수: 20\n",
      "Correctness: 0\n",
      "Recall@k: 0.000\n"
     ]
    },
    {
     "name": "stderr",
     "output_type": "stream",
     "text": [
      "확장된 메트릭 평가:  55%|█████▌    | 11/20 [01:53<01:22,  9.19s/it]"
     ]
    },
    {
     "name": "stdout",
     "output_type": "stream",
     "text": [
      "\n",
      "[12/20] 처리 중: E-9 비자를 가진 비전문 취업 외국인 노동자가 사업장이 폐업하거나 임금 체불 등의 이유로...\n",
      "검색된 문서 수: 20\n",
      "Correctness: 1\n",
      "Recall@k: 0.500\n"
     ]
    },
    {
     "name": "stderr",
     "output_type": "stream",
     "text": [
      "확장된 메트릭 평가:  60%|██████    | 12/20 [02:01<01:10,  8.80s/it]"
     ]
    },
    {
     "name": "stdout",
     "output_type": "stream",
     "text": [
      "\n",
      "[13/20] 처리 중: 근로계약이 종료된 후, 만약 근무지를 변경하고 싶다면 언제까지 고용센터에 신청서를 제출해야...\n",
      "검색된 문서 수: 20\n",
      "Correctness: 0\n",
      "Recall@k: 0.000\n"
     ]
    },
    {
     "name": "stderr",
     "output_type": "stream",
     "text": [
      "확장된 메트릭 평가:  65%|██████▌   | 13/20 [02:10<01:01,  8.77s/it]"
     ]
    },
    {
     "name": "stdout",
     "output_type": "stream",
     "text": [
      "\n",
      "[14/20] 처리 중: E-9 비자를 가진 외국인 노동자가 근무 조건이 근로계약과 다르다고 주장할 경우, 이 상황...\n",
      "검색된 문서 수: 20\n",
      "Correctness: 1\n",
      "Recall@k: 0.500\n"
     ]
    },
    {
     "name": "stderr",
     "output_type": "stream",
     "text": [
      "확장된 메트릭 평가:  70%|███████   | 14/20 [02:20<00:55,  9.18s/it]"
     ]
    },
    {
     "name": "stdout",
     "output_type": "stream",
     "text": [
      "\n",
      "[15/20] 처리 중: 비자 만료 전에 연장을 신청하고 싶다면 어떤 기관에 가야 하고, 온라인으로도 신청할 수 있...\n",
      "검색된 문서 수: 20\n",
      "Correctness: 1\n",
      "Recall@k: 1.000\n"
     ]
    },
    {
     "name": "stderr",
     "output_type": "stream",
     "text": [
      "확장된 메트릭 평가:  75%|███████▌  | 15/20 [02:28<00:43,  8.73s/it]"
     ]
    },
    {
     "name": "stdout",
     "output_type": "stream",
     "text": [
      "\n",
      "[16/20] 처리 중: 세금이나 건강보험 기여금이 미납된 경우 비자 갱신이 가능한가요? 그리고 만약 빚이 있다면 ...\n",
      "검색된 문서 수: 20\n",
      "Correctness: 1\n",
      "Recall@k: 1.000\n"
     ]
    },
    {
     "name": "stderr",
     "output_type": "stream",
     "text": [
      "확장된 메트릭 평가:  80%|████████  | 16/20 [02:36<00:33,  8.46s/it]"
     ]
    },
    {
     "name": "stdout",
     "output_type": "stream",
     "text": [
      "\n",
      "[17/20] 처리 중: 근무 중에 부상을 당해 병원에서 치료를 받아야 하는 경우, 만약 고용주가 산업재해 보험에 ...\n",
      "검색된 문서 수: 20\n",
      "Correctness: 1\n",
      "Recall@k: 0.500\n"
     ]
    },
    {
     "name": "stderr",
     "output_type": "stream",
     "text": [
      "확장된 메트릭 평가:  85%|████████▌ | 17/20 [02:45<00:25,  8.56s/it]"
     ]
    },
    {
     "name": "stdout",
     "output_type": "stream",
     "text": [
      "\n",
      "[18/20] 처리 중: 근무 중 전염병에 감염되었을 때, 이를 업무상 질병으로 인정하기 위해 어떤 기준이 사용되나...\n",
      "검색된 문서 수: 20\n",
      "Correctness: 1\n",
      "Recall@k: 1.000\n"
     ]
    },
    {
     "name": "stderr",
     "output_type": "stream",
     "text": [
      "확장된 메트릭 평가:  90%|█████████ | 18/20 [02:54<00:17,  8.89s/it]"
     ]
    },
    {
     "name": "stdout",
     "output_type": "stream",
     "text": [
      "\n",
      "[19/20] 처리 중: 해외 만기 보험금을 신청하려면 어떤 자격 조건을 충족해야 하나요? 언제부터 신청할 수 있나...\n",
      "검색된 문서 수: 20\n",
      "Correctness: 0\n",
      "Recall@k: 0.000\n"
     ]
    },
    {
     "name": "stderr",
     "output_type": "stream",
     "text": [
      "확장된 메트릭 평가:  95%|█████████▌| 19/20 [03:02<00:08,  8.60s/it]"
     ]
    },
    {
     "name": "stdout",
     "output_type": "stream",
     "text": [
      "\n",
      "[20/20] 처리 중: 고국으로 돌아갈 때, 언제부터 귀국비용 보험을 신청할 수 있으며, 어떤 서류를 준비해야 하...\n",
      "검색된 문서 수: 20\n",
      "Correctness: 0\n",
      "Recall@k: 0.000\n"
     ]
    },
    {
     "name": "stderr",
     "output_type": "stream",
     "text": [
      "확장된 메트릭 평가: 100%|██████████| 20/20 [03:10<00:00,  9.52s/it]"
     ]
    },
    {
     "name": "stdout",
     "output_type": "stream",
     "text": [
      "\n",
      "=== 확장된 메트릭 평가 완료! ===\n",
      "평균 Correctness: 0.600\n",
      "평균 Recall@k: 0.289\n"
     ]
    },
    {
     "name": "stderr",
     "output_type": "stream",
     "text": [
      "\n"
     ]
    }
   ],
   "source": [
    "# 확장된 메트릭을 사용한 평가 실행\n",
    "import time\n",
    "from tqdm import tqdm\n",
    "\n",
    "# 결과를 저장할 리스트들\n",
    "baseline_results = []\n",
    "retrieved_doc_ids_list = []\n",
    "\n",
    "# 메트릭별 결과 저장\n",
    "correctness_scores = []\n",
    "recall_at_k_scores = []\n",
    "precision_at_k_scores = []\n",
    "f1_at_k_scores = []\n",
    "\n",
    "print(f\"총 {len(query_df)}개의 쿼리에 대해 확장된 메트릭 평가를 시작합니다...\")\n",
    "\n",
    "# 각 쿼리에 대해 평가 실행\n",
    "for idx, row in tqdm(query_df.iterrows(), total=len(query_df), desc=\"확장된 메트릭 평가\"):\n",
    "    query_text = row['translated_4o_mini']\n",
    "    ground_truth_ids = row['ground_truth_id']\n",
    "    \n",
    "    print(f\"\\n[{idx+1}/{len(query_df)}] 처리 중: {query_text[:50]}...\")\n",
    "    \n",
    "    # 수정된 함수 사용 (중복 검색 제거됨)\n",
    "    result = get_model_response_with_docs(query_text)\n",
    "    \n",
    "    # 결과 저장\n",
    "    baseline_results.append(result['answer'])\n",
    "    retrieved_doc_ids_list.append(result['retrieved_doc_ids'])\n",
    "    \n",
    "    # 모든 메트릭 계산\n",
    "    metrics = calculate_all_metrics(result['retrieved_doc_ids'], ground_truth_ids)\n",
    "    \n",
    "    # 메트릭별 점수 저장\n",
    "    correctness_scores.append(metrics['correctness'])\n",
    "    recall_at_k_scores.append(metrics['recall_at_k'])\n",
    "    \n",
    "    print(f\"검색된 문서 수: {len(result['retrieved_doc_ids'])}\")\n",
    "    print(f\"Correctness: {metrics['correctness']}\")\n",
    "    print(f\"Recall@k: {metrics['recall_at_k']:.3f}\")\n",
    "    \n",
    "    # API 호출 제한을 위한 잠시 대기\n",
    "    time.sleep(1)\n",
    "\n",
    "# 전체 결과 요약\n",
    "print(f\"\\n=== 확장된 메트릭 평가 완료! ===\")\n",
    "print(f\"평균 Correctness: {sum(correctness_scores) / len(correctness_scores):.3f}\")\n",
    "print(f\"평균 Recall@k: {sum(recall_at_k_scores) / len(recall_at_k_scores):.3f}\")\n",
    "\n",
    "\n"
   ]
  },
  {
   "cell_type": "code",
   "execution_count": 13,
   "id": "7f9dc8f9",
   "metadata": {},
   "outputs": [
    {
     "name": "stdout",
     "output_type": "stream",
     "text": [
      "\n",
      "결과 저장 완료:\n",
      "- answer_baseline: 20개\n",
      "- retrieved_doc_ids: 20개\n",
      "- correctness: 20개\n",
      "- recall_at_k: 20개\n",
      "- CSV 파일: ../data/evaluation_results_20250923_185800.csv\n",
      "\n",
      "=== 확장된 메트릭 평가 결과 요약 ===\n",
      "총 쿼리 수: 20\n",
      "정확한 검색 수: 12\n",
      "평균 Correctness: 0.600 (60.0%)\n",
      "평균 Recall@k: 0.289 (28.9%)\n"
     ]
    }
   ],
   "source": [
    "\n",
    "# 결과를 데이터프레임에 저장 및 CSV 내보내기\n",
    "import datetime\n",
    "\n",
    "# 데이터프레임에 새 컬럼들 추가\n",
    "query_df['answer_baseline'] = baseline_results\n",
    "query_df['retrieved_doc_ids'] = retrieved_doc_ids_list\n",
    "query_df['correctness'] = correctness_scores\n",
    "query_df['recall_at_k'] = recall_at_k_scores\n",
    "\n",
    "# 결과 저장\n",
    "timestamp = datetime.datetime.now().strftime(\"%Y%m%d_%H%M%S\")\n",
    "extended_metrics_csv_filename = f\"../data/evaluation_results_{timestamp}.csv\"\n",
    "query_df.to_csv(extended_metrics_csv_filename, index=False, encoding='utf-8')\n",
    "\n",
    "print(f\"\\n결과 저장 완료:\")\n",
    "print(f\"- answer_baseline: {len(baseline_results)}개\")\n",
    "print(f\"- retrieved_doc_ids: {len(retrieved_doc_ids_list)}개\") \n",
    "print(f\"- correctness: {len(correctness_scores)}개\")\n",
    "print(f\"- recall_at_k: {len(recall_at_k_scores)}개\")\n",
    "print(f\"- CSV 파일: {extended_metrics_csv_filename}\")\n",
    "\n",
    "# 평가 결과 상세 요약\n",
    "total_queries = len(query_df)\n",
    "correct_retrievals = sum(correctness_scores)\n",
    "avg_correctness = correct_retrievals / total_queries\n",
    "avg_recall = sum(recall_at_k_scores) / len(recall_at_k_scores)\n",
    "\n",
    "print(f\"\\n=== 확장된 메트릭 평가 결과 요약 ===\")\n",
    "print(f\"총 쿼리 수: {total_queries}\")\n",
    "print(f\"정확한 검색 수: {correct_retrievals}\")\n",
    "print(f\"평균 Correctness: {avg_correctness:.3f} ({avg_correctness*100:.1f}%)\")\n",
    "print(f\"평균 Recall@k: {avg_recall:.3f} ({avg_recall*100:.1f}%)\")\n"
   ]
  },
  {
   "cell_type": "code",
   "execution_count": null,
   "id": "9a651c7a",
   "metadata": {},
   "outputs": [],
   "source": [
    "df = pd.read_csv(\"../data/evaluation_results_20250916_203357.csv\")\n",
    "df.head()\n",
    "\n",
    "# for i, row in df.iterrows():\n",
    "#     print(len(ast.literal_eval(row[\"retrieved_doc_ids\"])))"
   ]
  },
  {
   "cell_type": "markdown",
   "id": "a8ca8658",
   "metadata": {},
   "source": [
    "# [실험 1] 키워드 기반 검색"
   ]
  },
  {
   "cell_type": "code",
   "execution_count": 5,
   "id": "2c1d1ddd",
   "metadata": {},
   "outputs": [
    {
     "data": {
      "text/html": [
       "<div>\n",
       "<style scoped>\n",
       "    .dataframe tbody tr th:only-of-type {\n",
       "        vertical-align: middle;\n",
       "    }\n",
       "\n",
       "    .dataframe tbody tr th {\n",
       "        vertical-align: top;\n",
       "    }\n",
       "\n",
       "    .dataframe thead th {\n",
       "        text-align: right;\n",
       "    }\n",
       "</style>\n",
       "<table border=\"1\" class=\"dataframe\">\n",
       "  <thead>\n",
       "    <tr style=\"text-align: right;\">\n",
       "      <th></th>\n",
       "      <th>query</th>\n",
       "      <th>translated_query</th>\n",
       "      <th>언어</th>\n",
       "      <th>ground_truth_id</th>\n",
       "      <th>category</th>\n",
       "      <th>source</th>\n",
       "      <th>작성자</th>\n",
       "      <th>비고</th>\n",
       "      <th>소스</th>\n",
       "      <th>translated_4o_mini</th>\n",
       "      <th>keyword_4o_mini</th>\n",
       "    </tr>\n",
       "  </thead>\n",
       "  <tbody>\n",
       "    <tr>\n",
       "      <th>0</th>\n",
       "      <td>제 여자친구가 단속으로 출입국 보호소에 있습니다. 월급이 아직 들어오지 않았는데, ...</td>\n",
       "      <td>แฟนของผมถูกจับกุมและอยู่ที่ศูนย์กักตัวตรวจคนเข...</td>\n",
       "      <td>태국어</td>\n",
       "      <td>['689b3a86ffd306c1cd3c09a4', '689b3a86ffd306c1...</td>\n",
       "      <td>임금체불</td>\n",
       "      <td>경기도외국인지원센터_상담사례</td>\n",
       "      <td>황예원</td>\n",
       "      <td>NaN</td>\n",
       "      <td>https://gmhr.or.kr/case/1529?sca=%EC%9E%84%EA%...</td>\n",
       "      <td>제 여자친구가 체포되어 출입국 관리소에 구금되어 있습니다. 지금 월급을 받지 못했는...</td>\n",
       "      <td>['체포', '출입국 관리소', '월급', '밀린 월급']</td>\n",
       "    </tr>\n",
       "    <tr>\n",
       "      <th>1</th>\n",
       "      <td>안녕하세요, 건설 현장에서 일하고 있는 사람인데, 사장님이 월급을 안줘서 계좌가 압...</td>\n",
       "      <td>你好，我是在建筑工地工作的，但老板没有发工资，我的账户可能会被查封。遇到这种情况该怎么办呢？</td>\n",
       "      <td>중국어</td>\n",
       "      <td>['689b3a86ffd306c1cd3c06e8', '689b3a86ffd306c1...</td>\n",
       "      <td>임금체불</td>\n",
       "      <td>경기도외국인지원센터_상담사례</td>\n",
       "      <td>황예원</td>\n",
       "      <td>임금체불 및 \"압류방지 통장\" (=임금채권 전용통장) 관련 데이터 필요</td>\n",
       "      <td>https://gmhr.or.kr/case/1493?sca=%EC%9E%84%EA%...</td>\n",
       "      <td>안녕하세요, 저는 건설 현장에서 일하고 있는데, 사장이 급여를 지급하지 않았습니다....</td>\n",
       "      <td>['건설업', '임금체불', '계좌 압류']</td>\n",
       "    </tr>\n",
       "    <tr>\n",
       "      <th>2</th>\n",
       "      <td>안녕하세요, 저는 필리핀에서 온 노동자입니다. 5년 동안 근무를 하고 이제 제 나라...</td>\n",
       "      <td>Magandang araw, ako ay isang manggagawang mula...</td>\n",
       "      <td>필리핀어 (타갈로그어)</td>\n",
       "      <td>['689b3a86ffd306c1cd3c09a4']</td>\n",
       "      <td>임금체불</td>\n",
       "      <td>경기도외국인지원센터_상담사례</td>\n",
       "      <td>황예원</td>\n",
       "      <td>체당금 관련 데이터 필요</td>\n",
       "      <td>https://gmhr.or.kr/case/1667?sca=%EC%9E%84%EA%...</td>\n",
       "      <td>안녕하세요, 저는 필리핀에서 온 노동자입니다. 5년 동안 일했는데 이제 고국으로 돌...</td>\n",
       "      <td>['임금체불', '회수 방법']</td>\n",
       "    </tr>\n",
       "    <tr>\n",
       "      <th>3</th>\n",
       "      <td>사업장 변경 신청 이후 제가 불법체류자가 될 수 있다는 우편이 날아왔어요. 8월 2...</td>\n",
       "      <td>在申请变更工作单位之后，我收到了一封信，说我可能会变成非法滞留者。只被允许停留到8月22日，...</td>\n",
       "      <td>중국어</td>\n",
       "      <td>['689b3a86ffd306c1cd3c0680', '689b3a86ffd306c1...</td>\n",
       "      <td>체류자격</td>\n",
       "      <td>경기도외국인지원센터_상담사례</td>\n",
       "      <td>황예원</td>\n",
       "      <td>NaN</td>\n",
       "      <td>https://gmhr.or.kr/case/1679?sca=%EC%B2%B4%EB%...</td>\n",
       "      <td>사업장 변경을 신청한 후, 제가 불법 체류자가 될 수 있다는 내용의 편지를 받았습니...</td>\n",
       "      <td>['사업장 변경', '불법 체류', '추방', '체류 허용 기간']</td>\n",
       "    </tr>\n",
       "    <tr>\n",
       "      <th>4</th>\n",
       "      <td>제가 중간에 퇴직을 하게 되었는데, 소득세가 체납되어 비자 연장이 안된대요. 그런데...</td>\n",
       "      <td>我中途离职了，但是因为拖欠所得税，签证无法延期。可是我听不懂相关的通知内容。</td>\n",
       "      <td>중국어</td>\n",
       "      <td>['689b3a86ffd306c1cd3c08f8', '689b3a86ffd306c1...</td>\n",
       "      <td>체류자격</td>\n",
       "      <td>경기도외국인지원센터_상담사례</td>\n",
       "      <td>황예원</td>\n",
       "      <td>NaN</td>\n",
       "      <td>https://gmhr.or.kr/case/1703?sca=%EC%B2%B4%EB%...</td>\n",
       "      <td>저는 중간에 퇴사했지만, 소득세 체납 때문에 비자를 연장할 수 없습니다. 그런데 관...</td>\n",
       "      <td>['퇴사', '소득세 체납', '비자 연장', '통지 내용']</td>\n",
       "    </tr>\n",
       "  </tbody>\n",
       "</table>\n",
       "</div>"
      ],
      "text/plain": [
       "                                               query  \\\n",
       "0  제 여자친구가 단속으로 출입국 보호소에 있습니다. 월급이 아직 들어오지 않았는데, ...   \n",
       "1  안녕하세요, 건설 현장에서 일하고 있는 사람인데, 사장님이 월급을 안줘서 계좌가 압...   \n",
       "2  안녕하세요, 저는 필리핀에서 온 노동자입니다. 5년 동안 근무를 하고 이제 제 나라...   \n",
       "3  사업장 변경 신청 이후 제가 불법체류자가 될 수 있다는 우편이 날아왔어요. 8월 2...   \n",
       "4  제가 중간에 퇴직을 하게 되었는데, 소득세가 체납되어 비자 연장이 안된대요. 그런데...   \n",
       "\n",
       "                                    translated_query            언어  \\\n",
       "0  แฟนของผมถูกจับกุมและอยู่ที่ศูนย์กักตัวตรวจคนเข...           태국어   \n",
       "1     你好，我是在建筑工地工作的，但老板没有发工资，我的账户可能会被查封。遇到这种情况该怎么办呢？           중국어   \n",
       "2  Magandang araw, ako ay isang manggagawang mula...  필리핀어 (타갈로그어)   \n",
       "3  在申请变更工作单位之后，我收到了一封信，说我可能会变成非法滞留者。只被允许停留到8月22日，...           중국어   \n",
       "4             我中途离职了，但是因为拖欠所得税，签证无法延期。可是我听不懂相关的通知内容。           중국어   \n",
       "\n",
       "                                     ground_truth_id category  \\\n",
       "0  ['689b3a86ffd306c1cd3c09a4', '689b3a86ffd306c1...     임금체불   \n",
       "1  ['689b3a86ffd306c1cd3c06e8', '689b3a86ffd306c1...     임금체불   \n",
       "2                       ['689b3a86ffd306c1cd3c09a4']     임금체불   \n",
       "3  ['689b3a86ffd306c1cd3c0680', '689b3a86ffd306c1...     체류자격   \n",
       "4  ['689b3a86ffd306c1cd3c08f8', '689b3a86ffd306c1...     체류자격   \n",
       "\n",
       "            source  작성자                                       비고  \\\n",
       "0  경기도외국인지원센터_상담사례  황예원                                      NaN   \n",
       "1  경기도외국인지원센터_상담사례  황예원  임금체불 및 \"압류방지 통장\" (=임금채권 전용통장) 관련 데이터 필요   \n",
       "2  경기도외국인지원센터_상담사례  황예원                            체당금 관련 데이터 필요   \n",
       "3  경기도외국인지원센터_상담사례  황예원                                      NaN   \n",
       "4  경기도외국인지원센터_상담사례  황예원                                      NaN   \n",
       "\n",
       "                                                  소스  \\\n",
       "0  https://gmhr.or.kr/case/1529?sca=%EC%9E%84%EA%...   \n",
       "1  https://gmhr.or.kr/case/1493?sca=%EC%9E%84%EA%...   \n",
       "2  https://gmhr.or.kr/case/1667?sca=%EC%9E%84%EA%...   \n",
       "3  https://gmhr.or.kr/case/1679?sca=%EC%B2%B4%EB%...   \n",
       "4  https://gmhr.or.kr/case/1703?sca=%EC%B2%B4%EB%...   \n",
       "\n",
       "                                  translated_4o_mini  \\\n",
       "0  제 여자친구가 체포되어 출입국 관리소에 구금되어 있습니다. 지금 월급을 받지 못했는...   \n",
       "1  안녕하세요, 저는 건설 현장에서 일하고 있는데, 사장이 급여를 지급하지 않았습니다....   \n",
       "2  안녕하세요, 저는 필리핀에서 온 노동자입니다. 5년 동안 일했는데 이제 고국으로 돌...   \n",
       "3  사업장 변경을 신청한 후, 제가 불법 체류자가 될 수 있다는 내용의 편지를 받았습니...   \n",
       "4  저는 중간에 퇴사했지만, 소득세 체납 때문에 비자를 연장할 수 없습니다. 그런데 관...   \n",
       "\n",
       "                         keyword_4o_mini  \n",
       "0       ['체포', '출입국 관리소', '월급', '밀린 월급']  \n",
       "1               ['건설업', '임금체불', '계좌 압류']  \n",
       "2                      ['임금체불', '회수 방법']  \n",
       "3  ['사업장 변경', '불법 체류', '추방', '체류 허용 기간']  \n",
       "4     ['퇴사', '소득세 체납', '비자 연장', '통지 내용']  "
      ]
     },
     "execution_count": 5,
     "metadata": {},
     "output_type": "execute_result"
    }
   ],
   "source": [
    "import os, sys\n",
    "import pandas as pd\n",
    "\n",
    "# 프로젝트 루트 디렉토리를 Python 경로에 추가\n",
    "project_root = os.path.abspath(os.path.join(os.getcwd(), '..'))\n",
    "if project_root not in sys.path:\n",
    "    sys.path.append(project_root)\n",
    "\n",
    "query_df = pd.read_csv(\"../data/helloworld_test_query_with_translation_20250916_192212.csv\")\n",
    "query_df.head()"
   ]
  },
  {
   "cell_type": "code",
   "execution_count": 6,
   "id": "f1184cbb",
   "metadata": {},
   "outputs": [
    {
     "name": "stdout",
     "output_type": "stream",
     "text": [
      "키워드 기반 하이브리드 검색 모델 설정 완료\n",
      "키워드 기반 검색 함수 정의 완료\n"
     ]
    }
   ],
   "source": [
    "# 키워드 기반 하이브리드 검색 모델 평가\n",
    "from Azure.keyword_model import ChatModel\n",
    "from dotenv import load_dotenv\n",
    "import json\n",
    "\n",
    "# 환경 설정\n",
    "load_dotenv()\n",
    "\n",
    "# 설정 파일 로드\n",
    "with open('../configs/config.json', 'r', encoding='utf-8') as f:\n",
    "    config = json.load(f)\n",
    "\n",
    "# 키워드 모델 인스턴스 생성\n",
    "keyword_chat_model = ChatModel(config)\n",
    "\n",
    "print(\"키워드 기반 하이브리드 검색 모델 설정 완료\")\n",
    "\n",
    "# 키워드 기반 검색 함수\n",
    "def get_keyword_model_response_with_docs(query_text, keywords):\n",
    "    \"\"\"\n",
    "    키워드 기반 하이브리드 검색 모델로부터 답변을 생성하고 검색된 문서들의 인덱스를 반환\n",
    "    \"\"\"\n",
    "    try:\n",
    "        # 빈 대화 히스토리로 시작\n",
    "        conversation_history = []\n",
    "        \n",
    "        # 키워드 기반 모델 답변 생성\n",
    "        response = keyword_chat_model.generate_ai_response(\n",
    "            conversation_history, \n",
    "            query_text, \n",
    "            collection, \n",
    "            keywords=keywords\n",
    "        )\n",
    "        \n",
    "        return {\n",
    "            \"answer\": response[\"answer\"],\n",
    "            \"retrieved_doc_ids\": response[\"retrieved_doc_ids\"],\n",
    "            \"retrieved_docs\": response[\"retrieved_docs\"]\n",
    "        }\n",
    "        \n",
    "    except Exception as e:\n",
    "        print(f\"오류 발생: {e}\")\n",
    "        return {\n",
    "            \"answer\": \"\",\n",
    "            \"retrieved_doc_ids\": [],\n",
    "            \"retrieved_docs\": []\n",
    "        }\n",
    "\n",
    "print(\"키워드 기반 검색 함수 정의 완료\")\n"
   ]
  },
  {
   "cell_type": "code",
   "execution_count": 7,
   "id": "cd0ee1c1",
   "metadata": {},
   "outputs": [
    {
     "name": "stdout",
     "output_type": "stream",
     "text": [
      "Retrieval Correctness 계산 함수 정의 완료\n",
      "확장된 Retrieval 메트릭 계산 함수들 정의 완료\n"
     ]
    }
   ],
   "source": [
    "# Retrieval Correctness 계산 함수\n",
    "def calculate_retrieval_correctness(retrieved_doc_ids, ground_truth_ids):\n",
    "    \"\"\"\n",
    "    검색된 문서 ID들과 ground truth ID들을 비교하여 correctness 계산\n",
    "    \"\"\"\n",
    "    if not retrieved_doc_ids or not ground_truth_ids:\n",
    "        return 0\n",
    "    \n",
    "    # ground_truth_ids가 문자열 리스트인 경우 처리\n",
    "    if isinstance(ground_truth_ids, str):\n",
    "        try:\n",
    "            # 문자열을 리스트로 변환 (예: \"['id1', 'id2']\" -> ['id1', 'id2'])\n",
    "            import ast\n",
    "            ground_truth_list = ast.literal_eval(ground_truth_ids)\n",
    "        except:\n",
    "            ground_truth_list = [ground_truth_ids]\n",
    "    else:\n",
    "        ground_truth_list = ground_truth_ids\n",
    "    \n",
    "    # 검색된 문서 중 하나라도 ground truth에 있으면 1, 아니면 0\n",
    "    for doc_id in retrieved_doc_ids:\n",
    "        if doc_id in ground_truth_list:\n",
    "            return 1\n",
    "    \n",
    "    return 0\n",
    "\n",
    "print(\"Retrieval Correctness 계산 함수 정의 완료\")\n",
    "\n",
    "# 확장된 Retrieval 메트릭 계산 함수들\n",
    "def calculate_recall_at_k(retrieved_doc_ids, ground_truth_ids, k=None):\n",
    "    \"\"\"\n",
    "    Recall@k 계산: 검색된 문서 중 관련 문서의 비율\n",
    "    \"\"\"\n",
    "    if not retrieved_doc_ids or not ground_truth_ids:\n",
    "        return 0.0\n",
    "    \n",
    "    # ground_truth_ids가 문자열 리스트인 경우 처리\n",
    "    if isinstance(ground_truth_ids, str):\n",
    "        try:\n",
    "            import ast\n",
    "            ground_truth_list = ast.literal_eval(ground_truth_ids)\n",
    "        except:\n",
    "            ground_truth_list = [ground_truth_ids]\n",
    "    else:\n",
    "        ground_truth_list = ground_truth_ids\n",
    "    \n",
    "    # k가 지정되지 않으면 검색된 문서 수만큼 사용\n",
    "    if k is None:\n",
    "        k = len(retrieved_doc_ids)\n",
    "    \n",
    "    # 상위 k개 문서만 고려\n",
    "    top_k_retrieved = retrieved_doc_ids[:k]\n",
    "    \n",
    "    # 관련 문서 수 계산\n",
    "    relevant_retrieved = sum(1 for doc_id in top_k_retrieved if doc_id in ground_truth_list)\n",
    "    \n",
    "    # Recall = 관련 문서 수 / 전체 관련 문서 수\n",
    "    if len(ground_truth_list) == 0:\n",
    "        return 0.0\n",
    "    \n",
    "    return relevant_retrieved / len(ground_truth_list)\n",
    "\n",
    "\n",
    "def calculate_all_metrics(retrieved_doc_ids, ground_truth_ids, k=None):\n",
    "    \"\"\"\n",
    "    모든 메트릭을 한 번에 계산\n",
    "    \"\"\"\n",
    "    return {\n",
    "        \"correctness\": calculate_retrieval_correctness(retrieved_doc_ids, ground_truth_ids),\n",
    "        \"recall_at_k\": calculate_recall_at_k(retrieved_doc_ids, ground_truth_ids, k)\n",
    "    }\n",
    "\n",
    "print(\"확장된 Retrieval 메트릭 계산 함수들 정의 완료\")\n"
   ]
  },
  {
   "cell_type": "code",
   "execution_count": 8,
   "id": "ff122916",
   "metadata": {},
   "outputs": [
    {
     "name": "stdout",
     "output_type": "stream",
     "text": [
      "==================================================\n",
      "MongoDB 연결 테스트 시작\n",
      "==================================================\n",
      "🔗 MongoDB 클라이언트 연결 완료\n",
      "✅ MongoDB 연결 성공!\n",
      "📊 MongoDB 버전: 8.0.13\n",
      "📁 사용 가능한 데이터베이스: ['HelloWorld-AI', 'admin', 'local']\n",
      "🎯 현재 데이터베이스: HelloWorld-AI\n",
      "📋 컬렉션 목록: ['foreigner_legalQA_v2', 'foreigner_legal_test', 'foreigner_legalQA', 'foreigner_legalQA_v3']\n",
      "🎯 타겟 컬렉션: foreigner_legalQA_v3\n",
      "📈 문서 개수: 867\n",
      "💾 컬렉션 크기: 37,616,750 bytes (35.87 MB)\n",
      "📄 샘플 문서 키: ['_id', 'title', 'contents', 'url', 'Embedding']\n",
      "📄 샘플 문서 ID: 689b3a86ffd306c1cd3c0679\n",
      "🔍 인덱스 정보:\n",
      "   - _id_: SON([('_id', 1)])\n",
      "==================================================\n",
      "✅ MongoDB 연결 테스트 완료!\n",
      "==================================================\n"
     ]
    }
   ],
   "source": [
    "# MongoDB 연결 테스트\n",
    "import json\n",
    "import os\n",
    "import pymongo\n",
    "from pymongo import MongoClient\n",
    "\n",
    "print(\"=\" * 50)\n",
    "print(\"MongoDB 연결 테스트 시작\")\n",
    "print(\"=\" * 50)\n",
    "\n",
    "# 설정 파일 로드\n",
    "with open('../configs/config.json', 'r', encoding='utf-8') as f:\n",
    "    config = json.load(f)\n",
    "\n",
    "# MongoDB 클라이언트 연결\n",
    "mongodb_client = MongoClient(os.getenv(\"MONGODB_URI\"))\n",
    "print(\"🔗 MongoDB 클라이언트 연결 완료\")\n",
    "\n",
    "try:\n",
    "    # 연결 상태 확인\n",
    "    mongodb_client.admin.command('ping')\n",
    "    print(\"✅ MongoDB 연결 성공!\")\n",
    "    \n",
    "    # 서버 정보 가져오기\n",
    "    server_info = mongodb_client.server_info()\n",
    "    print(f\"📊 MongoDB 버전: {server_info['version']}\")\n",
    "    \n",
    "    # 데이터베이스 목록 확인\n",
    "    db_list = mongodb_client.list_database_names()\n",
    "    print(f\"📁 사용 가능한 데이터베이스: {db_list}\")\n",
    "    \n",
    "    # 현재 데이터베이스 정보\n",
    "    current_db = mongodb_client[config['path']['db_name']]\n",
    "    print(f\"🎯 현재 데이터베이스: {config['path']['db_name']}\")\n",
    "    \n",
    "    # 컬렉션 목록 확인\n",
    "    collections = current_db.list_collection_names()\n",
    "    print(f\"📋 컬렉션 목록: {collections}\")\n",
    "    \n",
    "    # 타겟 컬렉션 확인\n",
    "    target_collection = current_db[config['path']['collection_name']]\n",
    "    print(f\"🎯 타겟 컬렉션: {config['path']['collection_name']}\")\n",
    "    \n",
    "    # 컬렉션 통계 정보\n",
    "    stats = current_db.command(\"collStats\", config['path']['collection_name'])\n",
    "    print(f\"📈 문서 개수: {stats['count']:,}\")\n",
    "    print(f\"💾 컬렉션 크기: {stats['size']:,} bytes ({stats['size']/1024/1024:.2f} MB)\")\n",
    "    \n",
    "    # 샘플 문서 확인\n",
    "    sample_doc = target_collection.find_one()\n",
    "    if sample_doc:\n",
    "        print(f\"📄 샘플 문서 키: {list(sample_doc.keys())}\")\n",
    "        print(f\"📄 샘플 문서 ID: {sample_doc.get('_id', 'N/A')}\")\n",
    "    else:\n",
    "        print(\"⚠️ 컬렉션에 문서가 없습니다.\")\n",
    "    \n",
    "    # 인덱스 정보 확인\n",
    "    indexes = target_collection.list_indexes()\n",
    "    print(f\"🔍 인덱스 정보:\")\n",
    "    for idx in indexes:\n",
    "        print(f\"   - {idx['name']}: {idx['key']}\")\n",
    "    \n",
    "    print(\"=\" * 50)\n",
    "    print(\"✅ MongoDB 연결 테스트 완료!\")\n",
    "    print(\"=\" * 50)\n",
    "    \n",
    "except pymongo.errors.ConnectionFailure as e:\n",
    "    print(f\"❌ MongoDB 연결 실패: {e}\")\n",
    "except pymongo.errors.ServerSelectionTimeoutError as e:\n",
    "    print(f\"❌ 서버 선택 타임아웃: {e}\")\n",
    "except Exception as e:\n",
    "    print(f\"❌ 예상치 못한 오류: {e}\")\n"
   ]
  },
  {
   "cell_type": "code",
   "execution_count": 9,
   "id": "a051a49f",
   "metadata": {},
   "outputs": [
    {
     "name": "stdout",
     "output_type": "stream",
     "text": [
      "MongoDB 연결 및 모델 설정 완료\n",
      "데이터베이스: HelloWorld-AI\n",
      "컬렉션: foreigner_legalQA_v3\n",
      "Top-k: 20\n"
     ]
    }
   ],
   "source": [
    "# MongoDB 연결 및 모델 설정\n",
    "import json\n",
    "import os\n",
    "from pymongo import MongoClient\n",
    "from Azure.model import ChatModel\n",
    "from dotenv import load_dotenv\n",
    "\n",
    "# 설정 파일 로드\n",
    "with open('../configs/config.json', 'r', encoding='utf-8') as f:\n",
    "    config = json.load(f)\n",
    "\n",
    "\n",
    "load_dotenv()\n",
    "\n",
    "# MongoDB 연결\n",
    "client = MongoClient(os.getenv(\"MONGODB_URI\"))\n",
    "db = client[config['path']['db_name']]\n",
    "collection = db[config['path']['collection_name']]\n",
    "\n",
    "# ChatModel 인스턴스 생성\n",
    "chat_model = ChatModel(config)\n",
    "\n",
    "print(\"MongoDB 연결 및 모델 설정 완료\")\n",
    "print(f\"데이터베이스: {config['path']['db_name']}\")\n",
    "print(f\"컬렉션: {config['path']['collection_name']}\")\n",
    "print(f\"Top-k: {config['chat_config']['top_k']}\")"
   ]
  },
  {
   "cell_type": "code",
   "execution_count": 10,
   "id": "6ff703b3",
   "metadata": {},
   "outputs": [
    {
     "data": {
      "text/plain": [
       "Index(['query', 'translated_query', '언어', 'ground_truth_id', 'category',\n",
       "       'source', '작성자', '비고', '소스', 'translated_4o_mini', 'keyword_4o_mini'],\n",
       "      dtype='object')"
      ]
     },
     "execution_count": 10,
     "metadata": {},
     "output_type": "execute_result"
    }
   ],
   "source": [
    "query_df.columns"
   ]
  },
  {
   "cell_type": "code",
   "execution_count": 11,
   "id": "8a11cc07",
   "metadata": {},
   "outputs": [
    {
     "name": "stdout",
     "output_type": "stream",
     "text": [
      "총 20개의 쿼리에 대해 키워드 기반 하이브리드 검색 평가를 시작합니다...\n"
     ]
    },
    {
     "name": "stderr",
     "output_type": "stream",
     "text": [
      "키워드 하이브리드 검색 평가:   0%|          | 0/20 [00:00<?, ?it/s]"
     ]
    },
    {
     "name": "stdout",
     "output_type": "stream",
     "text": [
      "\n",
      "[1/20] 처리 중: 제 여자친구가 체포되어 출입국 관리소에 구금되어 있습니다. 지금 월급을 받지 못했는데, 만...\n",
      "사용할 키워드: ['체포', '출입국 관리소', '월급', '밀린 월급']\n",
      "검색된 문서 수: 20\n",
      "Correctness: 1\n",
      "Recall@k: 0.214\n"
     ]
    },
    {
     "name": "stderr",
     "output_type": "stream",
     "text": [
      "키워드 하이브리드 검색 평가:   5%|▌         | 1/20 [00:13<04:23, 13.88s/it]"
     ]
    },
    {
     "name": "stdout",
     "output_type": "stream",
     "text": [
      "\n",
      "[2/20] 처리 중: 안녕하세요, 저는 건설 현장에서 일하고 있는데, 사장이 급여를 지급하지 않았습니다. 제 계...\n",
      "사용할 키워드: ['건설업', '임금체불', '계좌 압류']\n",
      "검색된 문서 수: 20\n",
      "Correctness: 1\n",
      "Recall@k: 0.312\n"
     ]
    },
    {
     "name": "stderr",
     "output_type": "stream",
     "text": [
      "키워드 하이브리드 검색 평가:  10%|█         | 2/20 [00:23<03:28, 11.58s/it]"
     ]
    },
    {
     "name": "stdout",
     "output_type": "stream",
     "text": [
      "\n",
      "[3/20] 처리 중: 안녕하세요, 저는 필리핀에서 온 노동자입니다. 5년 동안 일했는데 이제 고국으로 돌아가려고...\n",
      "사용할 키워드: ['임금체불', '회수 방법']\n",
      "검색된 문서 수: 20\n",
      "Correctness: 0\n",
      "Recall@k: 0.000\n"
     ]
    },
    {
     "name": "stderr",
     "output_type": "stream",
     "text": [
      "키워드 하이브리드 검색 평가:  15%|█▌        | 3/20 [00:33<03:03, 10.80s/it]"
     ]
    },
    {
     "name": "stdout",
     "output_type": "stream",
     "text": [
      "\n",
      "[4/20] 처리 중: 사업장 변경을 신청한 후, 제가 불법 체류자가 될 수 있다는 내용의 편지를 받았습니다. 8...\n",
      "사용할 키워드: ['사업장 변경', '불법 체류', '추방', '체류 허용 기간']\n",
      "검색된 문서 수: 20\n",
      "Correctness: 1\n",
      "Recall@k: 0.100\n"
     ]
    },
    {
     "name": "stderr",
     "output_type": "stream",
     "text": [
      "키워드 하이브리드 검색 평가:  20%|██        | 4/20 [00:43<02:49, 10.58s/it]"
     ]
    },
    {
     "name": "stdout",
     "output_type": "stream",
     "text": [
      "\n",
      "[5/20] 처리 중: 저는 중간에 퇴사했지만, 소득세 체납 때문에 비자를 연장할 수 없습니다. 그런데 관련된 통...\n",
      "사용할 키워드: ['퇴사', '소득세 체납', '비자 연장', '통지 내용']\n",
      "검색된 문서 수: 20\n",
      "Correctness: 1\n",
      "Recall@k: 0.333\n"
     ]
    },
    {
     "name": "stderr",
     "output_type": "stream",
     "text": [
      "키워드 하이브리드 검색 평가:  25%|██▌       | 5/20 [00:52<02:25,  9.71s/it]"
     ]
    },
    {
     "name": "stdout",
     "output_type": "stream",
     "text": [
      "\n",
      "[6/20] 처리 중: 회사가 갑자기 더 이상 출근하지 말라고 해서, 체류 자격이 박탈될 수 있습니다. 어떻게 해...\n",
      "사용할 키워드: ['체류 자격 박탈', '대처 방법']\n",
      "검색된 문서 수: 20\n",
      "Correctness: 0\n",
      "Recall@k: 0.000\n"
     ]
    },
    {
     "name": "stderr",
     "output_type": "stream",
     "text": [
      "키워드 하이브리드 검색 평가:  30%|███       | 6/20 [01:01<02:16,  9.75s/it]"
     ]
    },
    {
     "name": "stdout",
     "output_type": "stream",
     "text": [
      "\n",
      "[7/20] 처리 중: 저는 건설업에서 일하고 있는 외국인 노동자입니다. 어떤 경우가 산업재해로 간주되는지 알고 ...\n",
      "사용할 키워드: ['외국인 노동자', '건설업', '산업재해', '보상']\n",
      "검색된 문서 수: 20\n",
      "Correctness: 1\n",
      "Recall@k: 0.800\n"
     ]
    },
    {
     "name": "stderr",
     "output_type": "stream",
     "text": [
      "키워드 하이브리드 검색 평가:  35%|███▌      | 7/20 [01:14<02:19, 10.69s/it]"
     ]
    },
    {
     "name": "stdout",
     "output_type": "stream",
     "text": [
      "\n",
      "[8/20] 처리 중: 안녕하세요, 저는 베트남에 거주 중인 재외동포입니다. 이번에 특례고용허가제를 통해 한국에서...\n",
      "사용할 키워드: ['재외동포', '특례고용허가제', '절차']\n",
      "검색된 문서 수: 20\n",
      "Correctness: 1\n",
      "Recall@k: 0.600\n"
     ]
    },
    {
     "name": "stderr",
     "output_type": "stream",
     "text": [
      "키워드 하이브리드 검색 평가:  40%|████      | 8/20 [01:28<02:19, 11.63s/it]"
     ]
    },
    {
     "name": "stdout",
     "output_type": "stream",
     "text": [
      "\n",
      "[9/20] 처리 중: 저는 H-2 비자를 가지고 있는데, 현재 고용주를 떠나 다른 직장으로 옮길 수 있는지 궁금...\n",
      "사용할 키워드: ['H-2 비자', '사업장 변경', '절차', '지원 서류']\n",
      "검색된 문서 수: 20\n",
      "Correctness: 0\n",
      "Recall@k: 0.000\n"
     ]
    },
    {
     "name": "stderr",
     "output_type": "stream",
     "text": [
      "키워드 하이브리드 검색 평가:  45%|████▌     | 9/20 [01:38<02:04, 11.35s/it]"
     ]
    },
    {
     "name": "stdout",
     "output_type": "stream",
     "text": [
      "\n",
      "[10/20] 처리 중: 고용주가 지속적으로 임금을 체불하여 저는 근무지를 옮기고 싶습니다....\n",
      "사용할 키워드: ['임금체불', '근무지 변경']\n",
      "검색된 문서 수: 20\n",
      "Correctness: 0\n",
      "Recall@k: 0.000\n"
     ]
    },
    {
     "name": "stderr",
     "output_type": "stream",
     "text": [
      "키워드 하이브리드 검색 평가:  50%|█████     | 10/20 [01:54<02:04, 12.49s/it]"
     ]
    },
    {
     "name": "stdout",
     "output_type": "stream",
     "text": [
      "\n",
      "[11/20] 처리 중: 실업급여를 받고 있는 중에 조기 재취업을 하면 '조기 재취업 수당'을 받을 수 있다고 들었...\n",
      "사용할 키워드: ['실업급여', '조기 재취업 수당', '근무 기간', '지급 제한']\n",
      "검색된 문서 수: 20\n",
      "Correctness: 0\n",
      "Recall@k: 0.000\n"
     ]
    },
    {
     "name": "stderr",
     "output_type": "stream",
     "text": [
      "키워드 하이브리드 검색 평가:  55%|█████▌    | 11/20 [02:03<01:43, 11.55s/it]"
     ]
    },
    {
     "name": "stdout",
     "output_type": "stream",
     "text": [
      "\n",
      "[12/20] 처리 중: E-9 비자를 가진 비전문 취업 외국인 노동자가 사업장이 폐업하거나 임금 체불 등의 이유로...\n",
      "사용할 키워드: ['E-9 비자', '사업장 변경', '임금 체불', '신청 기한']\n",
      "검색된 문서 수: 20\n",
      "Correctness: 1\n",
      "Recall@k: 0.500\n"
     ]
    },
    {
     "name": "stderr",
     "output_type": "stream",
     "text": [
      "키워드 하이브리드 검색 평가:  60%|██████    | 12/20 [02:11<01:24, 10.61s/it]"
     ]
    },
    {
     "name": "stdout",
     "output_type": "stream",
     "text": [
      "\n",
      "[13/20] 처리 중: 근로계약이 종료된 후, 만약 근무지를 변경하고 싶다면 언제까지 고용센터에 신청서를 제출해야...\n",
      "사용할 키워드: ['근로계약 종료', '근무지 변경', '고용센터', '신청서 제출', '일자리 미발견']\n",
      "검색된 문서 수: 20\n",
      "Correctness: 1\n",
      "Recall@k: 1.000\n"
     ]
    },
    {
     "name": "stderr",
     "output_type": "stream",
     "text": [
      "키워드 하이브리드 검색 평가:  65%|██████▌   | 13/20 [02:19<01:07,  9.66s/it]"
     ]
    },
    {
     "name": "stdout",
     "output_type": "stream",
     "text": [
      "\n",
      "[14/20] 처리 중: E-9 비자를 가진 외국인 노동자가 근무 조건이 근로계약과 다르다고 주장할 경우, 이 상황...\n",
      "사용할 키워드: ['E-9 비자', '근로계약', '사업장 변경', '절차']\n",
      "검색된 문서 수: 20\n",
      "Correctness: 1\n",
      "Recall@k: 0.500\n"
     ]
    },
    {
     "name": "stderr",
     "output_type": "stream",
     "text": [
      "키워드 하이브리드 검색 평가:  70%|███████   | 14/20 [02:29<00:59,  9.88s/it]"
     ]
    },
    {
     "name": "stdout",
     "output_type": "stream",
     "text": [
      "\n",
      "[15/20] 처리 중: 비자 만료 전에 연장을 신청하고 싶다면 어떤 기관에 가야 하고, 온라인으로도 신청할 수 있...\n",
      "사용할 키워드: ['비자 연장', '신청 기관', '온라인 신청']\n",
      "검색된 문서 수: 20\n",
      "Correctness: 1\n",
      "Recall@k: 1.000\n"
     ]
    },
    {
     "name": "stderr",
     "output_type": "stream",
     "text": [
      "키워드 하이브리드 검색 평가:  75%|███████▌  | 15/20 [02:35<00:43,  8.70s/it]"
     ]
    },
    {
     "name": "stdout",
     "output_type": "stream",
     "text": [
      "\n",
      "[16/20] 처리 중: 세금이나 건강보험 기여금이 미납된 경우 비자 갱신이 가능한가요? 그리고 만약 빚이 있다면 ...\n",
      "사용할 키워드: ['비자 갱신', '세금 미납', '건강보험 기여금', '처벌']\n",
      "검색된 문서 수: 20\n",
      "Correctness: 1\n",
      "Recall@k: 1.000\n"
     ]
    },
    {
     "name": "stderr",
     "output_type": "stream",
     "text": [
      "키워드 하이브리드 검색 평가:  80%|████████  | 16/20 [02:45<00:35,  8.92s/it]"
     ]
    },
    {
     "name": "stdout",
     "output_type": "stream",
     "text": [
      "\n",
      "[17/20] 처리 중: 근무 중에 부상을 당해 병원에서 치료를 받아야 하는 경우, 만약 고용주가 산업재해 보험에 ...\n",
      "사용할 키워드: ['부상', '보상', '산업재해 보험', '문의처']\n",
      "검색된 문서 수: 20\n",
      "Correctness: 1\n",
      "Recall@k: 1.000\n"
     ]
    },
    {
     "name": "stderr",
     "output_type": "stream",
     "text": [
      "키워드 하이브리드 검색 평가:  85%|████████▌ | 17/20 [02:58<00:30, 10.18s/it]"
     ]
    },
    {
     "name": "stdout",
     "output_type": "stream",
     "text": [
      "\n",
      "[18/20] 처리 중: 근무 중 전염병에 감염되었을 때, 이를 업무상 질병으로 인정하기 위해 어떤 기준이 사용되나...\n",
      "사용할 키워드: ['전염병', '업무상 질병', '기준']\n",
      "검색된 문서 수: 20\n",
      "Correctness: 1\n",
      "Recall@k: 1.000\n"
     ]
    },
    {
     "name": "stderr",
     "output_type": "stream",
     "text": [
      "키워드 하이브리드 검색 평가:  90%|█████████ | 18/20 [03:09<00:21, 10.51s/it]"
     ]
    },
    {
     "name": "stdout",
     "output_type": "stream",
     "text": [
      "\n",
      "[19/20] 처리 중: 해외 만기 보험금을 신청하려면 어떤 자격 조건을 충족해야 하나요? 언제부터 신청할 수 있나...\n",
      "사용할 키워드: ['해외 만기 보험금', '자격 조건', '신청 시기']\n",
      "검색된 문서 수: 20\n",
      "Correctness: 0\n",
      "Recall@k: 0.000\n"
     ]
    },
    {
     "name": "stderr",
     "output_type": "stream",
     "text": [
      "키워드 하이브리드 검색 평가:  95%|█████████▌| 19/20 [03:17<00:09,  9.69s/it]"
     ]
    },
    {
     "name": "stdout",
     "output_type": "stream",
     "text": [
      "\n",
      "[20/20] 처리 중: 고국으로 돌아갈 때, 언제부터 귀국비용 보험을 신청할 수 있으며, 어떤 서류를 준비해야 하...\n",
      "사용할 키워드: ['귀국비용 보험', '신청 시기', '필요 서류']\n",
      "검색된 문서 수: 20\n",
      "Correctness: 0\n",
      "Recall@k: 0.000\n"
     ]
    },
    {
     "name": "stderr",
     "output_type": "stream",
     "text": [
      "키워드 하이브리드 검색 평가: 100%|██████████| 20/20 [03:27<00:00, 10.36s/it]"
     ]
    },
    {
     "name": "stdout",
     "output_type": "stream",
     "text": [
      "\n",
      "=== 키워드 기반 하이브리드 검색 평가 완료! ===\n",
      "평균 Correctness: 0.650\n",
      "평균 Recall@k: 0.418\n"
     ]
    },
    {
     "name": "stderr",
     "output_type": "stream",
     "text": [
      "\n"
     ]
    }
   ],
   "source": [
    "# 키워드 기반 하이브리드 검색 평가 실행\n",
    "import time\n",
    "from tqdm import tqdm\n",
    "import ast\n",
    "\n",
    "# 결과를 저장할 리스트들\n",
    "keyword_baseline_results = []\n",
    "keyword_retrieved_doc_ids_list = []\n",
    "\n",
    "# 메트릭별 결과 저장\n",
    "keyword_correctness_scores = []\n",
    "keyword_recall_at_k_scores = []\n",
    "\n",
    "print(f\"총 {len(query_df)}개의 쿼리에 대해 키워드 기반 하이브리드 검색 평가를 시작합니다...\")\n",
    "\n",
    "# 각 쿼리에 대해 평가 실행\n",
    "for idx, row in tqdm(query_df.iterrows(), total=len(query_df), desc=\"키워드 하이브리드 검색 평가\"):\n",
    "    query_text = row['translated_4o_mini']\n",
    "    ground_truth_ids = row['ground_truth_id']\n",
    "    \n",
    "    # 키워드 추출 및 처리\n",
    "    try:\n",
    "        keywords_raw = row['keyword_4o_mini']\n",
    "        if isinstance(keywords_raw, str):\n",
    "            keywords = ast.literal_eval(keywords_raw)\n",
    "        else:\n",
    "            keywords = keywords_raw\n",
    "    except Exception as e:\n",
    "        raise e\n",
    "    \n",
    "    print(f\"\\n[{idx+1}/{len(query_df)}] 처리 중: {query_text[:50]}...\")\n",
    "    print(f\"사용할 키워드: {keywords}\")\n",
    "    \n",
    "    # 키워드 기반 모델 사용\n",
    "    result = get_keyword_model_response_with_docs(query_text, keywords)\n",
    "    \n",
    "    # 결과 저장\n",
    "    keyword_baseline_results.append(result['answer'])\n",
    "    keyword_retrieved_doc_ids_list.append(result['retrieved_doc_ids'])\n",
    "    \n",
    "    # 모든 메트릭 계산\n",
    "    metrics = calculate_all_metrics(result['retrieved_doc_ids'], ground_truth_ids)\n",
    "    \n",
    "    # 메트릭별 점수 저장\n",
    "    keyword_correctness_scores.append(metrics['correctness'])\n",
    "    keyword_recall_at_k_scores.append(metrics['recall_at_k'])\n",
    "    \n",
    "    print(f\"검색된 문서 수: {len(result['retrieved_doc_ids'])}\")\n",
    "    print(f\"Correctness: {metrics['correctness']}\")\n",
    "    print(f\"Recall@k: {metrics['recall_at_k']:.3f}\")\n",
    "    \n",
    "    # API 호출 제한을 위한 잠시 대기\n",
    "    time.sleep(1)\n",
    "\n",
    "# 전체 결과 요약\n",
    "print(f\"\\n=== 키워드 기반 하이브리드 검색 평가 완료! ===\")\n",
    "print(f\"평균 Correctness: {sum(keyword_correctness_scores) / len(keyword_correctness_scores):.3f}\")\n",
    "print(f\"평균 Recall@k: {sum(keyword_recall_at_k_scores) / len(keyword_recall_at_k_scores):.3f}\")\n"
   ]
  },
  {
   "cell_type": "code",
   "execution_count": null,
   "id": "7237fe63",
   "metadata": {},
   "outputs": [
    {
     "name": "stdout",
     "output_type": "stream",
     "text": [
      "\n",
      "키워드 기반 검색 결과 저장 완료:\n",
      "- answer_keyword_hybrid: 20개\n",
      "- retrieved_doc_ids_keyword: 20개\n",
      "- correctness_keyword: 20개\n",
      "- recall_at_k_keyword: 20개\n",
      "- CSV 파일: ../data/evaluation_results_20250923_192841.csv\n",
      "\n",
      "=== 키워드 기반 하이브리드 검색 평가 결과 요약 ===\n",
      "총 쿼리 수: 20\n",
      "정확한 검색 수: 13\n",
      "평균 Correctness: 0.650 (65.0%)\n",
      "평균 Recall@k: 0.418 (41.8%)\n"
     ]
    },
    {
     "ename": "",
     "evalue": "",
     "output_type": "error",
     "traceback": [
      "\u001b[1;31mThe Kernel crashed while executing code in the current cell or a previous cell. \n",
      "\u001b[1;31mPlease review the code in the cell(s) to identify a possible cause of the failure. \n",
      "\u001b[1;31mClick <a href='https://aka.ms/vscodeJupyterKernelCrash'>here</a> for more info. \n",
      "\u001b[1;31mView Jupyter <a href='command:jupyter.viewOutput'>log</a> for further details."
     ]
    }
   ],
   "source": [
    "# 키워드 기반 검색 결과 저장 및 비교 분석\n",
    "import datetime\n",
    "\n",
    "# 데이터프레임에 키워드 기반 검색 결과 추가\n",
    "query_df['answer_keyword_hybrid'] = keyword_baseline_results\n",
    "query_df['retrieved_doc_ids_keyword'] = keyword_retrieved_doc_ids_list\n",
    "query_df['correctness_keyword'] = keyword_correctness_scores\n",
    "query_df['recall_at_k_keyword'] = keyword_recall_at_k_scores\n",
    "\n",
    "# 결과 저장\n",
    "timestamp = datetime.datetime.now().strftime(\"%Y%m%d_%H%M%S\")\n",
    "keyword_evaluation_csv_filename = f\"../data/evaluation_results_{timestamp}.csv\"\n",
    "query_df.to_csv(keyword_evaluation_csv_filename, index=False, encoding='utf-8')\n",
    "\n",
    "print(f\"\\n키워드 기반 검색 결과 저장 완료:\")\n",
    "print(f\"- answer_keyword_hybrid: {len(keyword_baseline_results)}개\")\n",
    "print(f\"- retrieved_doc_ids_keyword: {len(keyword_retrieved_doc_ids_list)}개\") \n",
    "print(f\"- correctness_keyword: {len(keyword_correctness_scores)}개\")\n",
    "print(f\"- recall_at_k_keyword: {len(keyword_recall_at_k_scores)}개\")\n",
    "print(f\"- CSV 파일: {keyword_evaluation_csv_filename}\")\n",
    "\n",
    "# 평가 결과 상세 요약\n",
    "total_queries = len(query_df)\n",
    "keyword_correct_retrievals = sum(keyword_correctness_scores)\n",
    "keyword_avg_correctness = keyword_correct_retrievals / total_queries\n",
    "keyword_avg_recall = sum(keyword_recall_at_k_scores) / len(keyword_recall_at_k_scores)\n",
    "\n",
    "print(f\"\\n=== 키워드 기반 하이브리드 검색 평가 결과 요약 ===\")\n",
    "print(f\"총 쿼리 수: {total_queries}\")\n",
    "print(f\"정확한 검색 수: {keyword_correct_retrievals}\")\n",
    "print(f\"평균 Correctness: {keyword_avg_correctness:.3f} ({keyword_avg_correctness*100:.1f}%)\")\n",
    "print(f\"평균 Recall@k: {keyword_avg_recall:.3f} ({keyword_avg_recall*100:.1f}%)\")\n"
   ]
  },
  {
   "cell_type": "code",
   "execution_count": null,
   "id": "6ae14418",
   "metadata": {},
   "outputs": [],
   "source": [
    "df = pd.read_csv(\"../data/evaluation_results_20250916_205256.csv\")"
   ]
  },
  {
   "cell_type": "code",
   "execution_count": null,
   "id": "4be5fc1a",
   "metadata": {},
   "outputs": [],
   "source": [
    "df.columns"
   ]
  },
  {
   "cell_type": "code",
   "execution_count": null,
   "id": "d337df4c",
   "metadata": {},
   "outputs": [],
   "source": [
    "df['correctness_keyword'].mean()"
   ]
  },
  {
   "cell_type": "code",
   "execution_count": null,
   "id": "e45ffcc5",
   "metadata": {},
   "outputs": [],
   "source": [
    "df['recall_at_k_keyword'].mean()"
   ]
  },
  {
   "cell_type": "code",
   "execution_count": null,
   "id": "4684f514",
   "metadata": {},
   "outputs": [],
   "source": [
    "df2 = pd.read_csv(\"../data/evaluation_results_20250916_210409.csv\")"
   ]
  },
  {
   "cell_type": "code",
   "execution_count": null,
   "id": "29a81612",
   "metadata": {},
   "outputs": [],
   "source": [
    "df2['correctness_keyword'].mean()\n"
   ]
  },
  {
   "cell_type": "code",
   "execution_count": null,
   "id": "deeeeaf6",
   "metadata": {},
   "outputs": [],
   "source": [
    "df2['recall_at_k_keyword'].mean()"
   ]
  },
  {
   "cell_type": "code",
   "execution_count": null,
   "id": "ed2d769e",
   "metadata": {},
   "outputs": [],
   "source": [
    "# 기존 벡터 검색 vs 키워드 기반 하이브리드 검색 성능 비교\n",
    "print(\"=\" * 80)\n",
    "print(\"🔍 검색 성능 비교 분석\")\n",
    "print(\"=\" * 80)\n",
    "\n",
    "# 기존 벡터 검색 결과 (이전 평가에서)\n",
    "baseline_avg_correctness = sum(correctness_scores) / len(correctness_scores)\n",
    "baseline_avg_recall = sum(recall_at_k_scores) / len(recall_at_k_scores)\n",
    "\n",
    "print(f\"\\n📊 성능 비교:\")\n",
    "print(f\"{'메트릭':<20} {'벡터 검색':<15} {'키워드 하이브리드':<20} {'개선도':<15}\")\n",
    "print(\"-\" * 70)\n",
    "print(f\"{'Correctness':<20} {baseline_avg_correctness:.3f} ({baseline_avg_correctness*100:.1f}%){'':<5} {keyword_avg_correctness:.3f} ({keyword_avg_correctness*100:.1f}%){'':<5} {((keyword_avg_correctness - baseline_avg_correctness) / baseline_avg_correctness * 100):+.1f}%\")\n",
    "print(f\"{'Recall@k':<20} {baseline_avg_recall:.3f} ({baseline_avg_recall*100:.1f}%){'':<5} {keyword_avg_recall:.3f} ({keyword_avg_recall*100:.1f}%){'':<5} {((keyword_avg_recall - baseline_avg_recall) / baseline_avg_recall * 100):+.1f}%\")\n",
    "\n",
    "# 개선된 쿼리 수 계산\n",
    "correctness_improved = sum(1 for i in range(len(query_df)) if keyword_correctness_scores[i] > correctness_scores[i])\n",
    "recall_improved = sum(1 for i in range(len(query_df)) if keyword_recall_at_k_scores[i] > recall_at_k_scores[i])\n",
    "\n",
    "print(f\"\\n📈 개선 통계:\")\n",
    "print(f\"Correctness 개선된 쿼리: {correctness_improved}/{len(query_df)}개 ({correctness_improved/len(query_df)*100:.1f}%)\")\n",
    "print(f\"Recall@k 개선된 쿼리: {recall_improved}/{len(query_df)}개 ({recall_improved/len(query_df)*100:.1f}%)\")\n",
    "\n",
    "# 상세 비교를 위한 샘플 출력\n",
    "print(f\"\\n📋 상세 비교 샘플 (상위 5개):\")\n",
    "comparison_df = query_df[['query', 'correctness', 'recall_at_k', 'correctness_keyword', 'recall_at_k_keyword']].head(5)\n",
    "\n",
    "for idx, row in comparison_df.iterrows():\n",
    "    print(f\"\\n[샘플 {idx+1}]\")\n",
    "    print(f\"쿼리: {row['query'][:60]}...\")\n",
    "    print(f\"벡터 검색 - Correctness: {row['correctness']}, Recall@k: {row['recall_at_k']:.3f}\")\n",
    "    print(f\"키워드 하이브리드 - Correctness: {row['correctness_keyword']}, Recall@k: {row['recall_at_k_keyword']:.3f}\")\n",
    "\n",
    "print(\"\\n\" + \"=\" * 80)\n",
    "print(\"✅ 키워드 기반 하이브리드 검색 평가 완료!\")\n",
    "print(\"=\" * 80)\n"
   ]
  },
  {
   "cell_type": "code",
   "execution_count": null,
   "id": "bf980b8b",
   "metadata": {},
   "outputs": [],
   "source": []
  }
 ],
 "metadata": {
  "kernelspec": {
   "display_name": "helloworld-ai",
   "language": "python",
   "name": "python3"
  },
  "language_info": {
   "codemirror_mode": {
    "name": "ipython",
    "version": 3
   },
   "file_extension": ".py",
   "mimetype": "text/x-python",
   "name": "python",
   "nbconvert_exporter": "python",
   "pygments_lexer": "ipython3",
   "version": "3.11.12"
  }
 },
 "nbformat": 4,
 "nbformat_minor": 5
}
